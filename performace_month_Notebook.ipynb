{
 "cells": [
  {
   "cell_type": "code",
   "execution_count": 2,
   "metadata": {},
   "outputs": [],
   "source": [
    "\n",
    "\n",
    "\n",
    "import wandb\n",
    "import pandas as pd\n",
    "import re\n",
    "import datetime\n",
    "from dateutil import relativedelta\n",
    "from IPython.display import display\n",
    "import matplotlib.pyplot as plt\n",
    "import numpy as np\n",
    "from copy import deepcopy\n",
    "import math\n",
    "\n",
    "def get_month(file_name):\n",
    "    \"\"\"\n",
    "    This function extracts the month from a date string in a file name.\n",
    "    This function takes a file name as input and searches for a date string in the format YYYYMMDDTHHMMSS (YearMonthDayTHourMinuteSecond). \n",
    "    It then extracts this date and calculates the number of months between January 1st of that year and the given date. \n",
    "    The function returns this month value as an integer. Note that months are 1-indexed,\n",
    "    so January is represented as 1, February as 2, and so on.\n",
    "\n",
    "    Parameters:\n",
    "    file_name (str): The name of the file which contains a date string.\n",
    "\n",
    "    Returns:\n",
    "    int: The month of the year extracted from the date string in the file name.\n",
    "\n",
    "    \"\"\"\n",
    "    # Compile a regular expression pattern into a regular expression object, \n",
    "    # which can be used for matching using its match() and search() methods.\n",
    "    pattern = re.compile(r'\\d{8}T\\d{6}')\n",
    "\n",
    "    # Search for the first match in the string\n",
    "    match = re.search(pattern, file_name)\n",
    "\n",
    "    # Get the matched string\n",
    "    first_date = match.group(0)\n",
    "\n",
    "    # parse the date string into a datetime object\n",
    "    date = datetime.datetime.strptime(first_date, \"%Y%m%dT%H%M%S\")\n",
    "\n",
    "    # calculate the number of days between January 1st and the given date\n",
    "\n",
    "    delta = relativedelta.relativedelta(date, datetime.datetime(date.year, 1, 1))\n",
    "\n",
    "    # Return the month (1-indexed)\n",
    "    return delta.months+1\n",
    "\n",
    "\n",
    "def convert_to_df(data_dic):\n",
    "        \"\"\"\n",
    "        This function converts a the dictionary of data given by performace_per_month to a dataframe.\n",
    "        Not all information is conserved. \n",
    "\n",
    "        Parameters:\n",
    "        data_dic (dict): The dictionary containing the data to be converted.\n",
    "\n",
    "        Returns:\n",
    "        pd.DataFrame: A DataFrame containing the data from the input dictionary.\n",
    "        \"\"\"\n",
    "    \n",
    "        data = {'months':data_dic['months'],\n",
    "                'Combine Score Avg':data_dic['Combine Score']['avg'],\n",
    "                'Combine Score Std':data_dic['Combine Score']['std'],\n",
    "                'SIC Avg':data_dic['SIC']['avg'],\n",
    "                'SIC Std':data_dic['SIC']['std'],\n",
    "                'SOD Avg':data_dic['SOD']['avg'],\n",
    "                'SOD Std':data_dic['SOD']['std'],\n",
    "                'FLOE Avg':data_dic['FLOE']['avg'],\n",
    "                'FLOE Std':data_dic['FLOE']['std'],\n",
    "                'sample _number':data_dic['sample_num']\n",
    "                }\n",
    "        return pd.DataFrame(data)\n",
    "\n",
    "def performace_per_month(path,group):\n",
    "    \"\"\"\n",
    "    This function calculates the average performance scores per month for a given group of runs.\n",
    "\n",
    "    Parameters:\n",
    "    path (str): The path to the runs in the Weights & Biases (wandb) project.\n",
    "    group (str): The group of runs to consider.\n",
    "\n",
    "    Returns:\n",
    "    mean_dic: A dictionary containing the following:\n",
    "        - months: list of the months (1,2,3,4..) that are in the data.\n",
    "        - Metrics ( Combine Score, SIC, SOD, and FLOE). Each metric contains the following\n",
    "            - Avg: The average score for each month\n",
    "            - Std: The Standard deviation for each month\n",
    "            - Array: All the scores belonging to each month. A list of numpy arrays. \n",
    "        - Sample Number: The number of scenes for each month. A list of positive intergers\n",
    "        - Scenes: The name of the scenes used in each month. A list of lists. Each inner list containing the names of the scenes. \n",
    "    the average scores and standard deviations for each metric per month.\n",
    "    relative_mean_dic: The only difference is that is measure the increase or decrease performace relative to the mean of each run\n",
    "    \"\"\"\n",
    "\n",
    "    # open the wandb api\n",
    "    api = wandb.Api()\n",
    "\n",
    "    # Get the runs\n",
    "    runs = api.runs(path=path,filters={'group':group})\n",
    "    \n",
    "    # Log all the validation artifacts\n",
    "    val_df=[]\n",
    "\n",
    "    # Get the validation tables for each run\n",
    "    for run in runs:\n",
    "        artifacts = run.logged_artifacts()\n",
    "\n",
    "        # Try to get the artifacts in each run. Sometimes it is not possible. \n",
    "        try:\n",
    "            for artifact in artifacts:\n",
    "\n",
    "\n",
    "                    if artifact.type == 'run_table':\n",
    "                        if 'val' in artifact.name:\n",
    "                            df = artifact.get('val results table').get_dataframe()\n",
    "                            df.attrs = {'name':run.id}\n",
    "                            val_df.append(df)\n",
    "                            print('appended val table')\n",
    "        except:\n",
    "            print(f'Error happened. Run:{run}')\n",
    "\n",
    "    # Subtract the mean of each table\n",
    "    val_mean_df = val_df\n",
    "    val_relative_mean_df = []\n",
    "\n",
    "    for df in val_df:\n",
    "        mean_values = df.iloc[:,1:].mean()\n",
    "        df_mean_sub = df.copy()\n",
    "        df_mean_sub.iloc[:,1:] = df_mean_sub.iloc[:,1:] - mean_values\n",
    "        val_relative_mean_df.append(df_mean_sub)\n",
    "    \n",
    "    # Calculate the avg scores per month\n",
    "    avg_scores_by_month = {}\n",
    "    relative_avg_scores_by_month = {}\n",
    "\n",
    "    # Create the dictionaries that will hold the data\n",
    "    dic = {'array':[],'avg':None,'std':None}\n",
    "    metrics =  ['Combine Score','SIC','SOD','FLOE',]\n",
    "\n",
    "    # Create the dictionaries to store the data\n",
    "    for i in range(1,13):\n",
    "        avg_scores_by_month[i] = {'Combine Score':deepcopy(dic), 'SIC':deepcopy(dic), 'SOD':deepcopy(dic), 'FLOE':deepcopy(dic),'scenes':[],'sample_num':0}\n",
    "        relative_avg_scores_by_month[i] = {'Combine Score':deepcopy(dic),'SIC':deepcopy(dic),'SOD':deepcopy(dic),'FLOE':deepcopy(dic),'scenes':[],'sample_num':0}\n",
    "\n",
    "\n",
    "    # Add all the scores and scenes by month\n",
    "    for df in val_mean_df:\n",
    "        for i in range(0,df.shape[0]):\n",
    "            month = get_month(df.loc[i,'Scene'])\n",
    "            avg_scores_by_month[month]['scenes'].append(df.loc[i,'Scene'])\n",
    "            if math.isnan(df.loc[i,'Combine Score']):\n",
    "                continue\n",
    "            for metric in metrics:\n",
    "                avg_scores_by_month[month][metric]['array'].append(df.loc[i,metric])\n",
    "  \n",
    "    \n",
    "        \n",
    "\n",
    "\n",
    "    # Add all the scores, scenes by month for relative scores\n",
    "    for df in val_relative_mean_df:\n",
    "        for i in range(0,df.shape[0]):\n",
    "            month = get_month(df.loc[i,'Scene'])\n",
    "            if math.isnan(df.loc[i,'Combine Score']):\n",
    "                continue\n",
    "            for metric in metrics:\n",
    "                relative_avg_scores_by_month[month][metric]['array'].append(df.loc[i,metric])\n",
    "\n",
    "        \n",
    "\n",
    "    # Obtain the average and std\n",
    "    for month_dict in avg_scores_by_month.values():\n",
    "        month_dict['sample_num'] =  len(month_dict[metrics[0]]['array'])\n",
    "        for metric_dict in month_dict.values():\n",
    "            if isinstance(metric_dict,dict):\n",
    "                metric_dict['array'] = np.array(metric_dict['array'])\n",
    "                metric_dict['avg'] = metric_dict['array'].mean()\n",
    "                metric_dict['std'] = metric_dict['array'].std()\n",
    "\n",
    "    for month_dict in relative_avg_scores_by_month.values():\n",
    "        month_dict['sample_num'] =  len(month_dict[metrics[0]]['array'])\n",
    "        for metric_dict in month_dict.values():\n",
    "            if isinstance(metric_dict,dict):\n",
    "                metric_dict['array'] = np.array(metric_dict['array'])\n",
    "                metric_dict['avg'] = metric_dict['array'].mean()\n",
    "                metric_dict['std'] = metric_dict['array'].std()\n",
    "\n",
    "    # Convert the format of the data instead of a dictionary into a lists for easier ploting\n",
    "    mean_dic = {'months':[],\n",
    "                'Combine Score':{'avg':[],'std':[],'array':[]},\n",
    "                'SIC':{'avg':[],'std':[],'array':[]},\n",
    "                'SOD':{'avg':[],'std':[],'array':[]},\n",
    "                'FLOE':{'avg':[],'std':[],'array':[]},\n",
    "                'scenes':[],\n",
    "                'sample_num':[]\n",
    "    }\n",
    "\n",
    "    relative_mean_dic = {'months':[],\n",
    "                'Combine Score':{'avg':[],'std':[],'array':[]},\n",
    "                'SIC':{'avg':[],'std':[],'array':[]},\n",
    "                'SOD':{'avg':[],'std':[],'array':[]},\n",
    "                'FLOE':{'avg':[],'std':[],'array':[]},\n",
    "                'scenes':[],\n",
    "                'sample_num':[]\n",
    "    }\n",
    "\n",
    "\n",
    "\n",
    "    for month in avg_scores_by_month.keys():\n",
    "\n",
    "        mean_dic['months'].append(month)\n",
    "\n",
    "        [cs,sic,sod,floe,sc,sn] = avg_scores_by_month[month].keys()\n",
    "\n",
    "        mean_dic[cs]['avg'].append(avg_scores_by_month[month][cs]['avg'])\n",
    "        mean_dic[cs]['std'].append(avg_scores_by_month[month][cs]['std'])\n",
    "        mean_dic[cs]['array'].append(avg_scores_by_month[month][cs]['array'])\n",
    "\n",
    "        mean_dic[sic]['avg'].append(avg_scores_by_month[month][sic]['avg'])\n",
    "        mean_dic[sic]['std'].append(avg_scores_by_month[month][sic]['std'])\n",
    "        mean_dic[sic]['array'].append(avg_scores_by_month[month][sic]['array'])\n",
    "\n",
    "\n",
    "        mean_dic[sod]['avg'].append(avg_scores_by_month[month][sod]['avg'])\n",
    "        mean_dic[sod]['std'].append(avg_scores_by_month[month][sod]['std'])\n",
    "        mean_dic[sod]['array'].append(avg_scores_by_month[month][sod]['array'])\n",
    "\n",
    "        mean_dic[floe]['avg'].append(avg_scores_by_month[month][floe]['avg'])\n",
    "        mean_dic[floe]['std'].append(avg_scores_by_month[month][floe]['std'])\n",
    "        mean_dic[floe]['array'].append(avg_scores_by_month[month][floe]['array'])\n",
    "\n",
    "\n",
    "        mean_dic[sn].append(avg_scores_by_month[month][sn])\n",
    "        mean_dic[sc].append(avg_scores_by_month[month][sc])\n",
    "\n",
    "    for month in relative_avg_scores_by_month.keys():\n",
    "\n",
    "        relative_mean_dic['months'].append(month)\n",
    "\n",
    "        [cs,sic,sod,floe,sc,sn] = relative_avg_scores_by_month[month].keys()\n",
    "\n",
    "        relative_mean_dic[cs]['avg'].append(relative_avg_scores_by_month[month][cs]['avg'])\n",
    "        relative_mean_dic[cs]['std'].append(relative_avg_scores_by_month[month][cs]['std'])\n",
    "        relative_mean_dic[cs]['array'].append(relative_avg_scores_by_month[month][cs]['array'])\n",
    "\n",
    "        relative_mean_dic[sic]['avg'].append(relative_avg_scores_by_month[month][sic]['avg'])\n",
    "        relative_mean_dic[sic]['std'].append(relative_avg_scores_by_month[month][sic]['std'])\n",
    "        relative_mean_dic[cs]['array'].append(relative_avg_scores_by_month[month][cs]['array'])\n",
    "\n",
    "        relative_mean_dic[sod]['avg'].append(relative_avg_scores_by_month[month][sod]['avg'])\n",
    "        relative_mean_dic[sod]['std'].append(relative_avg_scores_by_month[month][sod]['std'])\n",
    "        relative_mean_dic[sod]['array'].append(relative_avg_scores_by_month[month][sod]['array'])\n",
    "        \n",
    "\n",
    "        relative_mean_dic[floe]['avg'].append(relative_avg_scores_by_month[month][floe]['avg'])\n",
    "        relative_mean_dic[floe]['std'].append(relative_avg_scores_by_month[month][floe]['std'])\n",
    "        relative_mean_dic[floe]['array'].append(relative_avg_scores_by_month[month][floe]['array'])\n",
    "\n",
    "\n",
    "\n",
    "        relative_mean_dic[sn].append(relative_avg_scores_by_month[month][sn])\n",
    "        relative_mean_dic[sc].append(relative_avg_scores_by_month[month][sc])\n",
    "\n",
    "    return mean_dic , relative_mean_dic\n"
   ]
  },
  {
   "cell_type": "code",
   "execution_count": 10,
   "metadata": {},
   "outputs": [
    {
     "name": "stderr",
     "output_type": "stream",
     "text": [
      "\u001b[34m\u001b[1mwandb\u001b[0m:   1 of 1 files downloaded.  \n"
     ]
    },
    {
     "name": "stdout",
     "output_type": "stream",
     "text": [
      "appended val table\n"
     ]
    },
    {
     "name": "stderr",
     "output_type": "stream",
     "text": [
      "\u001b[34m\u001b[1mwandb\u001b[0m:   1 of 1 files downloaded.  \n"
     ]
    },
    {
     "name": "stdout",
     "output_type": "stream",
     "text": [
      "appended val table\n"
     ]
    },
    {
     "name": "stderr",
     "output_type": "stream",
     "text": [
      "\u001b[34m\u001b[1mwandb\u001b[0m:   1 of 1 files downloaded.  \n"
     ]
    },
    {
     "name": "stdout",
     "output_type": "stream",
     "text": [
      "appended val table\n"
     ]
    },
    {
     "name": "stderr",
     "output_type": "stream",
     "text": [
      "\u001b[34m\u001b[1mwandb\u001b[0m:   1 of 1 files downloaded.  \n"
     ]
    },
    {
     "name": "stdout",
     "output_type": "stream",
     "text": [
      "appended val table\n"
     ]
    },
    {
     "name": "stderr",
     "output_type": "stream",
     "text": [
      "\u001b[34m\u001b[1mwandb\u001b[0m:   1 of 1 files downloaded.  \n"
     ]
    },
    {
     "name": "stdout",
     "output_type": "stream",
     "text": [
      "appended val table\n",
      "Error happened. Run:<Run ai4arctic/feature_selection_enviroment_rerun/ud439qyx (finished)>\n"
     ]
    },
    {
     "name": "stderr",
     "output_type": "stream",
     "text": [
      "\u001b[34m\u001b[1mwandb\u001b[0m:   1 of 1 files downloaded.  \n"
     ]
    },
    {
     "name": "stdout",
     "output_type": "stream",
     "text": [
      "appended val table\n"
     ]
    },
    {
     "name": "stderr",
     "output_type": "stream",
     "text": [
      "\u001b[34m\u001b[1mwandb\u001b[0m:   1 of 1 files downloaded.  \n"
     ]
    },
    {
     "name": "stdout",
     "output_type": "stream",
     "text": [
      "appended val table\n"
     ]
    },
    {
     "name": "stderr",
     "output_type": "stream",
     "text": [
      "\u001b[34m\u001b[1mwandb\u001b[0m:   1 of 1 files downloaded.  \n"
     ]
    },
    {
     "name": "stdout",
     "output_type": "stream",
     "text": [
      "appended val table\n"
     ]
    },
    {
     "name": "stderr",
     "output_type": "stream",
     "text": [
      "\u001b[34m\u001b[1mwandb\u001b[0m:   1 of 1 files downloaded.  \n"
     ]
    },
    {
     "name": "stdout",
     "output_type": "stream",
     "text": [
      "appended val table\n"
     ]
    },
    {
     "name": "stderr",
     "output_type": "stream",
     "text": [
      "\u001b[34m\u001b[1mwandb\u001b[0m:   1 of 1 files downloaded.  \n"
     ]
    },
    {
     "name": "stdout",
     "output_type": "stream",
     "text": [
      "appended val table\n"
     ]
    },
    {
     "name": "stderr",
     "output_type": "stream",
     "text": [
      "\u001b[34m\u001b[1mwandb\u001b[0m:   1 of 1 files downloaded.  \n"
     ]
    },
    {
     "name": "stdout",
     "output_type": "stream",
     "text": [
      "appended val table\n"
     ]
    },
    {
     "name": "stderr",
     "output_type": "stream",
     "text": [
      "\u001b[34m\u001b[1mwandb\u001b[0m:   1 of 1 files downloaded.  \n"
     ]
    },
    {
     "name": "stdout",
     "output_type": "stream",
     "text": [
      "appended val table\n"
     ]
    },
    {
     "name": "stderr",
     "output_type": "stream",
     "text": [
      "\u001b[34m\u001b[1mwandb\u001b[0m:   1 of 1 files downloaded.  \n"
     ]
    },
    {
     "name": "stdout",
     "output_type": "stream",
     "text": [
      "appended val table\n"
     ]
    },
    {
     "name": "stderr",
     "output_type": "stream",
     "text": [
      "\u001b[34m\u001b[1mwandb\u001b[0m:   1 of 1 files downloaded.  \n"
     ]
    },
    {
     "name": "stdout",
     "output_type": "stream",
     "text": [
      "appended val table\n"
     ]
    },
    {
     "name": "stderr",
     "output_type": "stream",
     "text": [
      "\u001b[34m\u001b[1mwandb\u001b[0m:   1 of 1 files downloaded.  \n"
     ]
    },
    {
     "name": "stdout",
     "output_type": "stream",
     "text": [
      "appended val table\n"
     ]
    },
    {
     "name": "stderr",
     "output_type": "stream",
     "text": [
      "\u001b[34m\u001b[1mwandb\u001b[0m:   1 of 1 files downloaded.  \n"
     ]
    },
    {
     "name": "stdout",
     "output_type": "stream",
     "text": [
      "appended val table\n"
     ]
    },
    {
     "name": "stderr",
     "output_type": "stream",
     "text": [
      "\u001b[34m\u001b[1mwandb\u001b[0m:   1 of 1 files downloaded.  \n"
     ]
    },
    {
     "name": "stdout",
     "output_type": "stream",
     "text": [
      "appended val table\n"
     ]
    },
    {
     "name": "stderr",
     "output_type": "stream",
     "text": [
      "\u001b[34m\u001b[1mwandb\u001b[0m:   1 of 1 files downloaded.  \n"
     ]
    },
    {
     "name": "stdout",
     "output_type": "stream",
     "text": [
      "appended val table\n"
     ]
    },
    {
     "name": "stderr",
     "output_type": "stream",
     "text": [
      "\u001b[34m\u001b[1mwandb\u001b[0m:   1 of 1 files downloaded.  \n"
     ]
    },
    {
     "name": "stdout",
     "output_type": "stream",
     "text": [
      "appended val table\n"
     ]
    },
    {
     "name": "stderr",
     "output_type": "stream",
     "text": [
      "\u001b[34m\u001b[1mwandb\u001b[0m:   1 of 1 files downloaded.  \n"
     ]
    },
    {
     "name": "stdout",
     "output_type": "stream",
     "text": [
      "appended val table\n"
     ]
    },
    {
     "name": "stderr",
     "output_type": "stream",
     "text": [
      "\u001b[34m\u001b[1mwandb\u001b[0m:   1 of 1 files downloaded.  \n"
     ]
    },
    {
     "name": "stdout",
     "output_type": "stream",
     "text": [
      "appended val table\n"
     ]
    },
    {
     "name": "stderr",
     "output_type": "stream",
     "text": [
      "\u001b[34m\u001b[1mwandb\u001b[0m:   1 of 1 files downloaded.  \n"
     ]
    },
    {
     "name": "stdout",
     "output_type": "stream",
     "text": [
      "appended val table\n"
     ]
    },
    {
     "name": "stderr",
     "output_type": "stream",
     "text": [
      "\u001b[34m\u001b[1mwandb\u001b[0m:   1 of 1 files downloaded.  \n"
     ]
    },
    {
     "name": "stdout",
     "output_type": "stream",
     "text": [
      "appended val table\n"
     ]
    },
    {
     "name": "stderr",
     "output_type": "stream",
     "text": [
      "\u001b[34m\u001b[1mwandb\u001b[0m:   1 of 1 files downloaded.  \n"
     ]
    },
    {
     "name": "stdout",
     "output_type": "stream",
     "text": [
      "appended val table\n"
     ]
    },
    {
     "name": "stderr",
     "output_type": "stream",
     "text": [
      "\u001b[34m\u001b[1mwandb\u001b[0m:   1 of 1 files downloaded.  \n"
     ]
    },
    {
     "name": "stdout",
     "output_type": "stream",
     "text": [
      "appended val table\n"
     ]
    },
    {
     "name": "stderr",
     "output_type": "stream",
     "text": [
      "\u001b[34m\u001b[1mwandb\u001b[0m:   1 of 1 files downloaded.  \n"
     ]
    },
    {
     "name": "stdout",
     "output_type": "stream",
     "text": [
      "appended val table\n"
     ]
    },
    {
     "name": "stderr",
     "output_type": "stream",
     "text": [
      "\u001b[34m\u001b[1mwandb\u001b[0m:   1 of 1 files downloaded.  \n"
     ]
    },
    {
     "name": "stdout",
     "output_type": "stream",
     "text": [
      "appended val table\n"
     ]
    },
    {
     "name": "stderr",
     "output_type": "stream",
     "text": [
      "\u001b[34m\u001b[1mwandb\u001b[0m:   1 of 1 files downloaded.  \n"
     ]
    },
    {
     "name": "stdout",
     "output_type": "stream",
     "text": [
      "appended val table\n"
     ]
    },
    {
     "name": "stderr",
     "output_type": "stream",
     "text": [
      "\u001b[34m\u001b[1mwandb\u001b[0m:   1 of 1 files downloaded.  \n"
     ]
    },
    {
     "name": "stdout",
     "output_type": "stream",
     "text": [
      "appended val table\n"
     ]
    },
    {
     "name": "stderr",
     "output_type": "stream",
     "text": [
      "\u001b[34m\u001b[1mwandb\u001b[0m:   1 of 1 files downloaded.  \n"
     ]
    },
    {
     "name": "stdout",
     "output_type": "stream",
     "text": [
      "appended val table\n"
     ]
    },
    {
     "name": "stderr",
     "output_type": "stream",
     "text": [
      "\u001b[34m\u001b[1mwandb\u001b[0m:   1 of 1 files downloaded.  \n"
     ]
    },
    {
     "name": "stdout",
     "output_type": "stream",
     "text": [
      "appended val table\n"
     ]
    },
    {
     "name": "stderr",
     "output_type": "stream",
     "text": [
      "\u001b[34m\u001b[1mwandb\u001b[0m:   1 of 1 files downloaded.  \n"
     ]
    },
    {
     "name": "stdout",
     "output_type": "stream",
     "text": [
      "appended val table\n"
     ]
    },
    {
     "name": "stderr",
     "output_type": "stream",
     "text": [
      "\u001b[34m\u001b[1mwandb\u001b[0m:   1 of 1 files downloaded.  \n"
     ]
    },
    {
     "name": "stdout",
     "output_type": "stream",
     "text": [
      "appended val table\n"
     ]
    },
    {
     "name": "stderr",
     "output_type": "stream",
     "text": [
      "\u001b[34m\u001b[1mwandb\u001b[0m:   1 of 1 files downloaded.  \n"
     ]
    },
    {
     "name": "stdout",
     "output_type": "stream",
     "text": [
      "appended val table\n"
     ]
    },
    {
     "name": "stderr",
     "output_type": "stream",
     "text": [
      "\u001b[34m\u001b[1mwandb\u001b[0m:   1 of 1 files downloaded.  \n"
     ]
    },
    {
     "name": "stdout",
     "output_type": "stream",
     "text": [
      "appended val table\n"
     ]
    },
    {
     "name": "stderr",
     "output_type": "stream",
     "text": [
      "\u001b[34m\u001b[1mwandb\u001b[0m:   1 of 1 files downloaded.  \n"
     ]
    },
    {
     "name": "stdout",
     "output_type": "stream",
     "text": [
      "appended val table\n"
     ]
    },
    {
     "name": "stderr",
     "output_type": "stream",
     "text": [
      "\u001b[34m\u001b[1mwandb\u001b[0m:   1 of 1 files downloaded.  \n"
     ]
    },
    {
     "name": "stdout",
     "output_type": "stream",
     "text": [
      "appended val table\n"
     ]
    },
    {
     "name": "stderr",
     "output_type": "stream",
     "text": [
      "\u001b[34m\u001b[1mwandb\u001b[0m:   1 of 1 files downloaded.  \n"
     ]
    },
    {
     "name": "stdout",
     "output_type": "stream",
     "text": [
      "appended val table\n"
     ]
    },
    {
     "name": "stderr",
     "output_type": "stream",
     "text": [
      "\u001b[34m\u001b[1mwandb\u001b[0m:   1 of 1 files downloaded.  \n"
     ]
    },
    {
     "name": "stdout",
     "output_type": "stream",
     "text": [
      "appended val table\n"
     ]
    },
    {
     "name": "stderr",
     "output_type": "stream",
     "text": [
      "\u001b[34m\u001b[1mwandb\u001b[0m:   1 of 1 files downloaded.  \n"
     ]
    },
    {
     "name": "stdout",
     "output_type": "stream",
     "text": [
      "appended val table\n"
     ]
    },
    {
     "name": "stderr",
     "output_type": "stream",
     "text": [
      "\u001b[34m\u001b[1mwandb\u001b[0m:   1 of 1 files downloaded.  \n"
     ]
    },
    {
     "name": "stdout",
     "output_type": "stream",
     "text": [
      "appended val table\n"
     ]
    },
    {
     "name": "stderr",
     "output_type": "stream",
     "text": [
      "\u001b[34m\u001b[1mwandb\u001b[0m:   1 of 1 files downloaded.  \n"
     ]
    },
    {
     "name": "stdout",
     "output_type": "stream",
     "text": [
      "appended val table\n"
     ]
    },
    {
     "name": "stderr",
     "output_type": "stream",
     "text": [
      "\u001b[34m\u001b[1mwandb\u001b[0m:   1 of 1 files downloaded.  \n"
     ]
    },
    {
     "name": "stdout",
     "output_type": "stream",
     "text": [
      "appended val table\n"
     ]
    },
    {
     "name": "stderr",
     "output_type": "stream",
     "text": [
      "\u001b[34m\u001b[1mwandb\u001b[0m:   1 of 1 files downloaded.  \n"
     ]
    },
    {
     "name": "stdout",
     "output_type": "stream",
     "text": [
      "appended val table\n"
     ]
    },
    {
     "name": "stderr",
     "output_type": "stream",
     "text": [
      "\u001b[34m\u001b[1mwandb\u001b[0m:   1 of 1 files downloaded.  \n"
     ]
    },
    {
     "name": "stdout",
     "output_type": "stream",
     "text": [
      "appended val table\n"
     ]
    },
    {
     "name": "stderr",
     "output_type": "stream",
     "text": [
      "\u001b[34m\u001b[1mwandb\u001b[0m:   1 of 1 files downloaded.  \n"
     ]
    },
    {
     "name": "stdout",
     "output_type": "stream",
     "text": [
      "appended val table\n"
     ]
    },
    {
     "name": "stderr",
     "output_type": "stream",
     "text": [
      "\u001b[34m\u001b[1mwandb\u001b[0m:   1 of 1 files downloaded.  \n"
     ]
    },
    {
     "name": "stdout",
     "output_type": "stream",
     "text": [
      "appended val table\n"
     ]
    },
    {
     "name": "stderr",
     "output_type": "stream",
     "text": [
      "\u001b[34m\u001b[1mwandb\u001b[0m:   1 of 1 files downloaded.  \n"
     ]
    },
    {
     "name": "stdout",
     "output_type": "stream",
     "text": [
      "appended val table\n"
     ]
    },
    {
     "name": "stderr",
     "output_type": "stream",
     "text": [
      "\u001b[34m\u001b[1mwandb\u001b[0m:   1 of 1 files downloaded.  \n"
     ]
    },
    {
     "name": "stdout",
     "output_type": "stream",
     "text": [
      "appended val table\n"
     ]
    },
    {
     "name": "stderr",
     "output_type": "stream",
     "text": [
      "\u001b[34m\u001b[1mwandb\u001b[0m:   1 of 1 files downloaded.  \n"
     ]
    },
    {
     "name": "stdout",
     "output_type": "stream",
     "text": [
      "appended val table\n"
     ]
    },
    {
     "name": "stderr",
     "output_type": "stream",
     "text": [
      "\u001b[34m\u001b[1mwandb\u001b[0m:   1 of 1 files downloaded.  \n"
     ]
    },
    {
     "name": "stdout",
     "output_type": "stream",
     "text": [
      "appended val table\n"
     ]
    },
    {
     "name": "stderr",
     "output_type": "stream",
     "text": [
      "\u001b[34m\u001b[1mwandb\u001b[0m:   1 of 1 files downloaded.  \n"
     ]
    },
    {
     "name": "stdout",
     "output_type": "stream",
     "text": [
      "appended val table\n"
     ]
    },
    {
     "name": "stderr",
     "output_type": "stream",
     "text": [
      "\u001b[34m\u001b[1mwandb\u001b[0m:   1 of 1 files downloaded.  \n"
     ]
    },
    {
     "name": "stdout",
     "output_type": "stream",
     "text": [
      "appended val table\n"
     ]
    },
    {
     "name": "stderr",
     "output_type": "stream",
     "text": [
      "\u001b[34m\u001b[1mwandb\u001b[0m:   1 of 1 files downloaded.  \n"
     ]
    },
    {
     "name": "stdout",
     "output_type": "stream",
     "text": [
      "appended val table\n"
     ]
    },
    {
     "name": "stderr",
     "output_type": "stream",
     "text": [
      "\u001b[34m\u001b[1mwandb\u001b[0m:   1 of 1 files downloaded.  \n"
     ]
    },
    {
     "name": "stdout",
     "output_type": "stream",
     "text": [
      "appended val table\n"
     ]
    },
    {
     "name": "stderr",
     "output_type": "stream",
     "text": [
      "\u001b[34m\u001b[1mwandb\u001b[0m:   1 of 1 files downloaded.  \n"
     ]
    },
    {
     "name": "stdout",
     "output_type": "stream",
     "text": [
      "appended val table\n"
     ]
    },
    {
     "name": "stderr",
     "output_type": "stream",
     "text": [
      "\u001b[34m\u001b[1mwandb\u001b[0m:   1 of 1 files downloaded.  \n"
     ]
    },
    {
     "name": "stdout",
     "output_type": "stream",
     "text": [
      "appended val table\n"
     ]
    },
    {
     "name": "stderr",
     "output_type": "stream",
     "text": [
      "\u001b[34m\u001b[1mwandb\u001b[0m:   1 of 1 files downloaded.  \n"
     ]
    },
    {
     "name": "stdout",
     "output_type": "stream",
     "text": [
      "appended val table\n"
     ]
    },
    {
     "name": "stderr",
     "output_type": "stream",
     "text": [
      "\u001b[34m\u001b[1mwandb\u001b[0m:   1 of 1 files downloaded.  \n"
     ]
    },
    {
     "name": "stdout",
     "output_type": "stream",
     "text": [
      "appended val table\n"
     ]
    },
    {
     "name": "stderr",
     "output_type": "stream",
     "text": [
      "\u001b[34m\u001b[1mwandb\u001b[0m:   1 of 1 files downloaded.  \n"
     ]
    },
    {
     "name": "stdout",
     "output_type": "stream",
     "text": [
      "appended val table\n"
     ]
    },
    {
     "name": "stderr",
     "output_type": "stream",
     "text": [
      "\u001b[34m\u001b[1mwandb\u001b[0m:   1 of 1 files downloaded.  \n"
     ]
    },
    {
     "name": "stdout",
     "output_type": "stream",
     "text": [
      "appended val table\n"
     ]
    },
    {
     "name": "stderr",
     "output_type": "stream",
     "text": [
      "\u001b[34m\u001b[1mwandb\u001b[0m:   1 of 1 files downloaded.  \n"
     ]
    },
    {
     "name": "stdout",
     "output_type": "stream",
     "text": [
      "appended val table\n"
     ]
    },
    {
     "name": "stderr",
     "output_type": "stream",
     "text": [
      "\u001b[34m\u001b[1mwandb\u001b[0m:   1 of 1 files downloaded.  \n"
     ]
    },
    {
     "name": "stdout",
     "output_type": "stream",
     "text": [
      "appended val table\n"
     ]
    },
    {
     "name": "stderr",
     "output_type": "stream",
     "text": [
      "\u001b[34m\u001b[1mwandb\u001b[0m:   1 of 1 files downloaded.  \n"
     ]
    },
    {
     "name": "stdout",
     "output_type": "stream",
     "text": [
      "appended val table\n"
     ]
    },
    {
     "name": "stderr",
     "output_type": "stream",
     "text": [
      "\u001b[34m\u001b[1mwandb\u001b[0m:   1 of 1 files downloaded.  \n"
     ]
    },
    {
     "name": "stdout",
     "output_type": "stream",
     "text": [
      "appended val table\n"
     ]
    },
    {
     "name": "stderr",
     "output_type": "stream",
     "text": [
      "\u001b[34m\u001b[1mwandb\u001b[0m:   1 of 1 files downloaded.  \n"
     ]
    },
    {
     "name": "stdout",
     "output_type": "stream",
     "text": [
      "appended val table\n"
     ]
    },
    {
     "name": "stderr",
     "output_type": "stream",
     "text": [
      "\u001b[34m\u001b[1mwandb\u001b[0m:   1 of 1 files downloaded.  \n"
     ]
    },
    {
     "name": "stdout",
     "output_type": "stream",
     "text": [
      "appended val table\n"
     ]
    },
    {
     "name": "stderr",
     "output_type": "stream",
     "text": [
      "\u001b[34m\u001b[1mwandb\u001b[0m:   1 of 1 files downloaded.  \n"
     ]
    },
    {
     "name": "stdout",
     "output_type": "stream",
     "text": [
      "appended val table\n"
     ]
    },
    {
     "name": "stderr",
     "output_type": "stream",
     "text": [
      "\u001b[34m\u001b[1mwandb\u001b[0m:   1 of 1 files downloaded.  \n"
     ]
    },
    {
     "name": "stdout",
     "output_type": "stream",
     "text": [
      "appended val table\n"
     ]
    },
    {
     "name": "stderr",
     "output_type": "stream",
     "text": [
      "\u001b[34m\u001b[1mwandb\u001b[0m:   1 of 1 files downloaded.  \n"
     ]
    },
    {
     "name": "stdout",
     "output_type": "stream",
     "text": [
      "appended val table\n"
     ]
    },
    {
     "name": "stderr",
     "output_type": "stream",
     "text": [
      "\u001b[34m\u001b[1mwandb\u001b[0m:   1 of 1 files downloaded.  \n"
     ]
    },
    {
     "name": "stdout",
     "output_type": "stream",
     "text": [
      "appended val table\n"
     ]
    },
    {
     "name": "stderr",
     "output_type": "stream",
     "text": [
      "\u001b[34m\u001b[1mwandb\u001b[0m:   1 of 1 files downloaded.  \n"
     ]
    },
    {
     "name": "stdout",
     "output_type": "stream",
     "text": [
      "appended val table\n"
     ]
    },
    {
     "name": "stderr",
     "output_type": "stream",
     "text": [
      "\u001b[34m\u001b[1mwandb\u001b[0m:   1 of 1 files downloaded.  \n"
     ]
    },
    {
     "name": "stdout",
     "output_type": "stream",
     "text": [
      "appended val table\n"
     ]
    },
    {
     "name": "stderr",
     "output_type": "stream",
     "text": [
      "\u001b[34m\u001b[1mwandb\u001b[0m:   1 of 1 files downloaded.  \n"
     ]
    },
    {
     "name": "stdout",
     "output_type": "stream",
     "text": [
      "appended val table\n"
     ]
    },
    {
     "name": "stderr",
     "output_type": "stream",
     "text": [
      "\u001b[34m\u001b[1mwandb\u001b[0m:   1 of 1 files downloaded.  \n"
     ]
    },
    {
     "name": "stdout",
     "output_type": "stream",
     "text": [
      "appended val table\n"
     ]
    },
    {
     "name": "stderr",
     "output_type": "stream",
     "text": [
      "\u001b[34m\u001b[1mwandb\u001b[0m:   1 of 1 files downloaded.  \n"
     ]
    },
    {
     "name": "stdout",
     "output_type": "stream",
     "text": [
      "appended val table\n"
     ]
    },
    {
     "name": "stderr",
     "output_type": "stream",
     "text": [
      "\u001b[34m\u001b[1mwandb\u001b[0m:   1 of 1 files downloaded.  \n"
     ]
    },
    {
     "name": "stdout",
     "output_type": "stream",
     "text": [
      "appended val table\n"
     ]
    },
    {
     "name": "stderr",
     "output_type": "stream",
     "text": [
      "\u001b[34m\u001b[1mwandb\u001b[0m:   1 of 1 files downloaded.  \n"
     ]
    },
    {
     "name": "stdout",
     "output_type": "stream",
     "text": [
      "appended val table\n"
     ]
    },
    {
     "name": "stderr",
     "output_type": "stream",
     "text": [
      "\u001b[34m\u001b[1mwandb\u001b[0m:   1 of 1 files downloaded.  \n"
     ]
    },
    {
     "name": "stdout",
     "output_type": "stream",
     "text": [
      "appended val table\n"
     ]
    },
    {
     "name": "stderr",
     "output_type": "stream",
     "text": [
      "\u001b[34m\u001b[1mwandb\u001b[0m:   1 of 1 files downloaded.  \n"
     ]
    },
    {
     "name": "stdout",
     "output_type": "stream",
     "text": [
      "appended val table\n"
     ]
    },
    {
     "name": "stderr",
     "output_type": "stream",
     "text": [
      "\u001b[34m\u001b[1mwandb\u001b[0m:   1 of 1 files downloaded.  \n"
     ]
    },
    {
     "name": "stdout",
     "output_type": "stream",
     "text": [
      "appended val table\n"
     ]
    },
    {
     "name": "stderr",
     "output_type": "stream",
     "text": [
      "\u001b[34m\u001b[1mwandb\u001b[0m:   1 of 1 files downloaded.  \n"
     ]
    },
    {
     "name": "stdout",
     "output_type": "stream",
     "text": [
      "appended val table\n"
     ]
    },
    {
     "name": "stderr",
     "output_type": "stream",
     "text": [
      "\u001b[34m\u001b[1mwandb\u001b[0m:   1 of 1 files downloaded.  \n"
     ]
    },
    {
     "name": "stdout",
     "output_type": "stream",
     "text": [
      "appended val table\n"
     ]
    },
    {
     "name": "stderr",
     "output_type": "stream",
     "text": [
      "\u001b[34m\u001b[1mwandb\u001b[0m:   1 of 1 files downloaded.  \n"
     ]
    },
    {
     "name": "stdout",
     "output_type": "stream",
     "text": [
      "appended val table\n"
     ]
    },
    {
     "name": "stderr",
     "output_type": "stream",
     "text": [
      "\u001b[34m\u001b[1mwandb\u001b[0m:   1 of 1 files downloaded.  \n"
     ]
    },
    {
     "name": "stdout",
     "output_type": "stream",
     "text": [
      "appended val table\n"
     ]
    },
    {
     "name": "stderr",
     "output_type": "stream",
     "text": [
      "\u001b[34m\u001b[1mwandb\u001b[0m:   1 of 1 files downloaded.  \n"
     ]
    },
    {
     "name": "stdout",
     "output_type": "stream",
     "text": [
      "appended val table\n"
     ]
    },
    {
     "name": "stderr",
     "output_type": "stream",
     "text": [
      "\u001b[34m\u001b[1mwandb\u001b[0m:   1 of 1 files downloaded.  \n"
     ]
    },
    {
     "name": "stdout",
     "output_type": "stream",
     "text": [
      "appended val table\n"
     ]
    },
    {
     "name": "stderr",
     "output_type": "stream",
     "text": [
      "\u001b[34m\u001b[1mwandb\u001b[0m:   1 of 1 files downloaded.  \n"
     ]
    },
    {
     "name": "stdout",
     "output_type": "stream",
     "text": [
      "appended val table\n"
     ]
    },
    {
     "name": "stderr",
     "output_type": "stream",
     "text": [
      "\u001b[34m\u001b[1mwandb\u001b[0m:   1 of 1 files downloaded.  \n"
     ]
    },
    {
     "name": "stdout",
     "output_type": "stream",
     "text": [
      "appended val table\n"
     ]
    },
    {
     "name": "stderr",
     "output_type": "stream",
     "text": [
      "\u001b[34m\u001b[1mwandb\u001b[0m:   1 of 1 files downloaded.  \n"
     ]
    },
    {
     "name": "stdout",
     "output_type": "stream",
     "text": [
      "appended val table\n"
     ]
    },
    {
     "name": "stderr",
     "output_type": "stream",
     "text": [
      "\u001b[34m\u001b[1mwandb\u001b[0m:   1 of 1 files downloaded.  \n"
     ]
    },
    {
     "name": "stdout",
     "output_type": "stream",
     "text": [
      "appended val table\n"
     ]
    },
    {
     "name": "stderr",
     "output_type": "stream",
     "text": [
      "\u001b[34m\u001b[1mwandb\u001b[0m:   1 of 1 files downloaded.  \n"
     ]
    },
    {
     "name": "stdout",
     "output_type": "stream",
     "text": [
      "appended val table\n"
     ]
    },
    {
     "name": "stderr",
     "output_type": "stream",
     "text": [
      "\u001b[34m\u001b[1mwandb\u001b[0m:   1 of 1 files downloaded.  \n"
     ]
    },
    {
     "name": "stdout",
     "output_type": "stream",
     "text": [
      "appended val table\n"
     ]
    },
    {
     "name": "stderr",
     "output_type": "stream",
     "text": [
      "\u001b[34m\u001b[1mwandb\u001b[0m:   1 of 1 files downloaded.  \n"
     ]
    },
    {
     "name": "stdout",
     "output_type": "stream",
     "text": [
      "appended val table\n"
     ]
    },
    {
     "name": "stderr",
     "output_type": "stream",
     "text": [
      "\u001b[34m\u001b[1mwandb\u001b[0m:   1 of 1 files downloaded.  \n"
     ]
    },
    {
     "name": "stdout",
     "output_type": "stream",
     "text": [
      "appended val table\n"
     ]
    },
    {
     "name": "stderr",
     "output_type": "stream",
     "text": [
      "\u001b[34m\u001b[1mwandb\u001b[0m:   1 of 1 files downloaded.  \n"
     ]
    },
    {
     "name": "stdout",
     "output_type": "stream",
     "text": [
      "appended val table\n"
     ]
    },
    {
     "name": "stderr",
     "output_type": "stream",
     "text": [
      "\u001b[34m\u001b[1mwandb\u001b[0m:   1 of 1 files downloaded.  \n"
     ]
    },
    {
     "name": "stdout",
     "output_type": "stream",
     "text": [
      "appended val table\n"
     ]
    },
    {
     "name": "stderr",
     "output_type": "stream",
     "text": [
      "\u001b[34m\u001b[1mwandb\u001b[0m:   1 of 1 files downloaded.  \n"
     ]
    },
    {
     "name": "stdout",
     "output_type": "stream",
     "text": [
      "appended val table\n"
     ]
    },
    {
     "name": "stderr",
     "output_type": "stream",
     "text": [
      "\u001b[34m\u001b[1mwandb\u001b[0m:   1 of 1 files downloaded.  \n"
     ]
    },
    {
     "name": "stdout",
     "output_type": "stream",
     "text": [
      "appended val table\n"
     ]
    },
    {
     "name": "stderr",
     "output_type": "stream",
     "text": [
      "\u001b[34m\u001b[1mwandb\u001b[0m:   1 of 1 files downloaded.  \n"
     ]
    },
    {
     "name": "stdout",
     "output_type": "stream",
     "text": [
      "appended val table\n"
     ]
    },
    {
     "name": "stderr",
     "output_type": "stream",
     "text": [
      "\u001b[34m\u001b[1mwandb\u001b[0m:   1 of 1 files downloaded.  \n"
     ]
    },
    {
     "name": "stdout",
     "output_type": "stream",
     "text": [
      "appended val table\n"
     ]
    },
    {
     "name": "stderr",
     "output_type": "stream",
     "text": [
      "\u001b[34m\u001b[1mwandb\u001b[0m:   1 of 1 files downloaded.  \n"
     ]
    },
    {
     "name": "stdout",
     "output_type": "stream",
     "text": [
      "appended val table\n"
     ]
    },
    {
     "name": "stderr",
     "output_type": "stream",
     "text": [
      "\u001b[34m\u001b[1mwandb\u001b[0m:   1 of 1 files downloaded.  \n"
     ]
    },
    {
     "name": "stdout",
     "output_type": "stream",
     "text": [
      "appended val table\n"
     ]
    },
    {
     "name": "stderr",
     "output_type": "stream",
     "text": [
      "\u001b[34m\u001b[1mwandb\u001b[0m:   1 of 1 files downloaded.  \n"
     ]
    },
    {
     "name": "stdout",
     "output_type": "stream",
     "text": [
      "appended val table\n"
     ]
    },
    {
     "name": "stderr",
     "output_type": "stream",
     "text": [
      "\u001b[34m\u001b[1mwandb\u001b[0m:   1 of 1 files downloaded.  \n"
     ]
    },
    {
     "name": "stdout",
     "output_type": "stream",
     "text": [
      "appended val table\n"
     ]
    },
    {
     "name": "stderr",
     "output_type": "stream",
     "text": [
      "\u001b[34m\u001b[1mwandb\u001b[0m:   1 of 1 files downloaded.  \n"
     ]
    },
    {
     "name": "stdout",
     "output_type": "stream",
     "text": [
      "appended val table\n"
     ]
    },
    {
     "name": "stderr",
     "output_type": "stream",
     "text": [
      "\u001b[34m\u001b[1mwandb\u001b[0m:   1 of 1 files downloaded.  \n"
     ]
    },
    {
     "name": "stdout",
     "output_type": "stream",
     "text": [
      "appended val table\n"
     ]
    },
    {
     "name": "stderr",
     "output_type": "stream",
     "text": [
      "\u001b[34m\u001b[1mwandb\u001b[0m:   1 of 1 files downloaded.  \n"
     ]
    },
    {
     "name": "stdout",
     "output_type": "stream",
     "text": [
      "appended val table\n"
     ]
    },
    {
     "name": "stderr",
     "output_type": "stream",
     "text": [
      "\u001b[34m\u001b[1mwandb\u001b[0m:   1 of 1 files downloaded.  \n"
     ]
    },
    {
     "name": "stdout",
     "output_type": "stream",
     "text": [
      "appended val table\n"
     ]
    },
    {
     "name": "stderr",
     "output_type": "stream",
     "text": [
      "\u001b[34m\u001b[1mwandb\u001b[0m:   1 of 1 files downloaded.  \n"
     ]
    },
    {
     "name": "stdout",
     "output_type": "stream",
     "text": [
      "appended val table\n"
     ]
    },
    {
     "name": "stderr",
     "output_type": "stream",
     "text": [
      "\u001b[34m\u001b[1mwandb\u001b[0m:   1 of 1 files downloaded.  \n"
     ]
    },
    {
     "name": "stdout",
     "output_type": "stream",
     "text": [
      "appended val table\n"
     ]
    },
    {
     "name": "stderr",
     "output_type": "stream",
     "text": [
      "\u001b[34m\u001b[1mwandb\u001b[0m:   1 of 1 files downloaded.  \n"
     ]
    },
    {
     "name": "stdout",
     "output_type": "stream",
     "text": [
      "appended val table\n"
     ]
    }
   ],
   "source": [
    "\n",
    "\n",
    "path = 'ai4arctic/feature_selection_enviroment_rerun'\n",
    "group = 'HH_HV_only'\n",
    "\n",
    "HH_HV_mean_dic, HH_HV_relative_mean_dic = performace_per_month(path,group)\n",
    "\n",
    "\n",
    "path = 'ai4arctic/feature_selection_time_rerun'\n",
    "group = 'HH_HV_Time'\n",
    "\n",
    "Time_mean_dic, Time_relative_mean_dic = performace_per_month(path,group)\n",
    "\n",
    "\n",
    "path = 'ai4arctic/feature_selection_base'\n",
    "group = 'HH_HV_Time_Location'\n",
    "\n",
    "Time_Location_mean_dic, Time_Location_relative_mean_dic = performace_per_month(path,group)\n",
    "\n"
   ]
  },
  {
   "cell_type": "code",
   "execution_count": 36,
   "metadata": {},
   "outputs": [
    {
     "data": {
      "text/html": [
       "<div>\n",
       "<style scoped>\n",
       "    .dataframe tbody tr th:only-of-type {\n",
       "        vertical-align: middle;\n",
       "    }\n",
       "\n",
       "    .dataframe tbody tr th {\n",
       "        vertical-align: top;\n",
       "    }\n",
       "\n",
       "    .dataframe thead th {\n",
       "        text-align: right;\n",
       "    }\n",
       "</style>\n",
       "<table border=\"1\" class=\"dataframe\">\n",
       "  <thead>\n",
       "    <tr style=\"text-align: right;\">\n",
       "      <th></th>\n",
       "      <th>months</th>\n",
       "      <th>Combine Score Avg</th>\n",
       "      <th>Combine Score Std</th>\n",
       "      <th>SIC Avg</th>\n",
       "      <th>SIC Std</th>\n",
       "      <th>SOD Avg</th>\n",
       "      <th>SOD Std</th>\n",
       "      <th>FLOE Avg</th>\n",
       "      <th>FLOE Std</th>\n",
       "      <th>sample _number</th>\n",
       "    </tr>\n",
       "  </thead>\n",
       "  <tbody>\n",
       "    <tr>\n",
       "      <th>0</th>\n",
       "      <td>1</td>\n",
       "      <td>77.106860</td>\n",
       "      <td>16.642786</td>\n",
       "      <td>91.125078</td>\n",
       "      <td>8.490607</td>\n",
       "      <td>67.146813</td>\n",
       "      <td>28.151841</td>\n",
       "      <td>68.990985</td>\n",
       "      <td>28.744147</td>\n",
       "      <td>64</td>\n",
       "    </tr>\n",
       "    <tr>\n",
       "      <th>1</th>\n",
       "      <td>2</td>\n",
       "      <td>87.362734</td>\n",
       "      <td>13.930007</td>\n",
       "      <td>97.010776</td>\n",
       "      <td>2.602643</td>\n",
       "      <td>79.588388</td>\n",
       "      <td>24.829383</td>\n",
       "      <td>83.615286</td>\n",
       "      <td>21.056646</td>\n",
       "      <td>49</td>\n",
       "    </tr>\n",
       "    <tr>\n",
       "      <th>2</th>\n",
       "      <td>3</td>\n",
       "      <td>86.295239</td>\n",
       "      <td>12.075546</td>\n",
       "      <td>95.034000</td>\n",
       "      <td>4.271380</td>\n",
       "      <td>77.088848</td>\n",
       "      <td>27.237464</td>\n",
       "      <td>87.230131</td>\n",
       "      <td>11.380937</td>\n",
       "      <td>46</td>\n",
       "    </tr>\n",
       "    <tr>\n",
       "      <th>3</th>\n",
       "      <td>4</td>\n",
       "      <td>87.622311</td>\n",
       "      <td>8.600215</td>\n",
       "      <td>89.779262</td>\n",
       "      <td>8.944164</td>\n",
       "      <td>87.580705</td>\n",
       "      <td>11.411064</td>\n",
       "      <td>83.391672</td>\n",
       "      <td>12.777634</td>\n",
       "      <td>61</td>\n",
       "    </tr>\n",
       "    <tr>\n",
       "      <th>4</th>\n",
       "      <td>5</td>\n",
       "      <td>86.773521</td>\n",
       "      <td>11.877696</td>\n",
       "      <td>90.542890</td>\n",
       "      <td>7.554138</td>\n",
       "      <td>85.502261</td>\n",
       "      <td>16.639593</td>\n",
       "      <td>81.777301</td>\n",
       "      <td>22.081163</td>\n",
       "      <td>73</td>\n",
       "    </tr>\n",
       "    <tr>\n",
       "      <th>5</th>\n",
       "      <td>6</td>\n",
       "      <td>86.509907</td>\n",
       "      <td>9.483437</td>\n",
       "      <td>88.182884</td>\n",
       "      <td>12.152354</td>\n",
       "      <td>87.180070</td>\n",
       "      <td>9.334730</td>\n",
       "      <td>81.823325</td>\n",
       "      <td>19.121936</td>\n",
       "      <td>43</td>\n",
       "    </tr>\n",
       "    <tr>\n",
       "      <th>6</th>\n",
       "      <td>7</td>\n",
       "      <td>82.078969</td>\n",
       "      <td>19.765074</td>\n",
       "      <td>84.394508</td>\n",
       "      <td>26.749611</td>\n",
       "      <td>83.401708</td>\n",
       "      <td>17.614115</td>\n",
       "      <td>74.802400</td>\n",
       "      <td>20.477775</td>\n",
       "      <td>65</td>\n",
       "    </tr>\n",
       "    <tr>\n",
       "      <th>7</th>\n",
       "      <td>8</td>\n",
       "      <td>87.397505</td>\n",
       "      <td>14.257882</td>\n",
       "      <td>90.435394</td>\n",
       "      <td>11.372527</td>\n",
       "      <td>86.220151</td>\n",
       "      <td>18.720941</td>\n",
       "      <td>83.676293</td>\n",
       "      <td>19.724826</td>\n",
       "      <td>99</td>\n",
       "    </tr>\n",
       "    <tr>\n",
       "      <th>8</th>\n",
       "      <td>9</td>\n",
       "      <td>92.459363</td>\n",
       "      <td>11.422818</td>\n",
       "      <td>94.598920</td>\n",
       "      <td>8.156861</td>\n",
       "      <td>91.995806</td>\n",
       "      <td>13.662884</td>\n",
       "      <td>89.107487</td>\n",
       "      <td>18.741730</td>\n",
       "      <td>113</td>\n",
       "    </tr>\n",
       "    <tr>\n",
       "      <th>9</th>\n",
       "      <td>10</td>\n",
       "      <td>90.269275</td>\n",
       "      <td>12.820471</td>\n",
       "      <td>91.758813</td>\n",
       "      <td>11.875330</td>\n",
       "      <td>88.442850</td>\n",
       "      <td>17.301641</td>\n",
       "      <td>90.943025</td>\n",
       "      <td>13.868728</td>\n",
       "      <td>80</td>\n",
       "    </tr>\n",
       "    <tr>\n",
       "      <th>10</th>\n",
       "      <td>11</td>\n",
       "      <td>87.696758</td>\n",
       "      <td>14.724675</td>\n",
       "      <td>92.040712</td>\n",
       "      <td>10.421953</td>\n",
       "      <td>85.540955</td>\n",
       "      <td>19.745591</td>\n",
       "      <td>83.320409</td>\n",
       "      <td>25.088448</td>\n",
       "      <td>66</td>\n",
       "    </tr>\n",
       "    <tr>\n",
       "      <th>11</th>\n",
       "      <td>12</td>\n",
       "      <td>80.859082</td>\n",
       "      <td>15.105000</td>\n",
       "      <td>93.846311</td>\n",
       "      <td>6.626482</td>\n",
       "      <td>69.147377</td>\n",
       "      <td>29.149413</td>\n",
       "      <td>78.307819</td>\n",
       "      <td>23.166752</td>\n",
       "      <td>61</td>\n",
       "    </tr>\n",
       "  </tbody>\n",
       "</table>\n",
       "</div>"
      ],
      "text/plain": [
       "    months  Combine Score Avg  Combine Score Std    SIC Avg    SIC Std  \\\n",
       "0        1          77.106860          16.642786  91.125078   8.490607   \n",
       "1        2          87.362734          13.930007  97.010776   2.602643   \n",
       "2        3          86.295239          12.075546  95.034000   4.271380   \n",
       "3        4          87.622311           8.600215  89.779262   8.944164   \n",
       "4        5          86.773521          11.877696  90.542890   7.554138   \n",
       "5        6          86.509907           9.483437  88.182884  12.152354   \n",
       "6        7          82.078969          19.765074  84.394508  26.749611   \n",
       "7        8          87.397505          14.257882  90.435394  11.372527   \n",
       "8        9          92.459363          11.422818  94.598920   8.156861   \n",
       "9       10          90.269275          12.820471  91.758813  11.875330   \n",
       "10      11          87.696758          14.724675  92.040712  10.421953   \n",
       "11      12          80.859082          15.105000  93.846311   6.626482   \n",
       "\n",
       "      SOD Avg    SOD Std   FLOE Avg   FLOE Std  sample _number  \n",
       "0   67.146813  28.151841  68.990985  28.744147              64  \n",
       "1   79.588388  24.829383  83.615286  21.056646              49  \n",
       "2   77.088848  27.237464  87.230131  11.380937              46  \n",
       "3   87.580705  11.411064  83.391672  12.777634              61  \n",
       "4   85.502261  16.639593  81.777301  22.081163              73  \n",
       "5   87.180070   9.334730  81.823325  19.121936              43  \n",
       "6   83.401708  17.614115  74.802400  20.477775              65  \n",
       "7   86.220151  18.720941  83.676293  19.724826              99  \n",
       "8   91.995806  13.662884  89.107487  18.741730             113  \n",
       "9   88.442850  17.301641  90.943025  13.868728              80  \n",
       "10  85.540955  19.745591  83.320409  25.088448              66  \n",
       "11  69.147377  29.149413  78.307819  23.166752              61  "
      ]
     },
     "metadata": {},
     "output_type": "display_data"
    },
    {
     "data": {
      "text/html": [
       "<div>\n",
       "<style scoped>\n",
       "    .dataframe tbody tr th:only-of-type {\n",
       "        vertical-align: middle;\n",
       "    }\n",
       "\n",
       "    .dataframe tbody tr th {\n",
       "        vertical-align: top;\n",
       "    }\n",
       "\n",
       "    .dataframe thead th {\n",
       "        text-align: right;\n",
       "    }\n",
       "</style>\n",
       "<table border=\"1\" class=\"dataframe\">\n",
       "  <thead>\n",
       "    <tr style=\"text-align: right;\">\n",
       "      <th></th>\n",
       "      <th>months</th>\n",
       "      <th>Combine Score Avg</th>\n",
       "      <th>Combine Score Std</th>\n",
       "      <th>SIC Avg</th>\n",
       "      <th>SIC Std</th>\n",
       "      <th>SOD Avg</th>\n",
       "      <th>SOD Std</th>\n",
       "      <th>FLOE Avg</th>\n",
       "      <th>FLOE Std</th>\n",
       "      <th>sample _number</th>\n",
       "    </tr>\n",
       "  </thead>\n",
       "  <tbody>\n",
       "    <tr>\n",
       "      <th>0</th>\n",
       "      <td>1</td>\n",
       "      <td>87.600170</td>\n",
       "      <td>10.464055</td>\n",
       "      <td>92.448042</td>\n",
       "      <td>8.666998</td>\n",
       "      <td>85.118107</td>\n",
       "      <td>14.679380</td>\n",
       "      <td>82.868489</td>\n",
       "      <td>19.841412</td>\n",
       "      <td>47</td>\n",
       "    </tr>\n",
       "    <tr>\n",
       "      <th>1</th>\n",
       "      <td>2</td>\n",
       "      <td>87.994791</td>\n",
       "      <td>11.879931</td>\n",
       "      <td>95.987791</td>\n",
       "      <td>2.799928</td>\n",
       "      <td>82.116024</td>\n",
       "      <td>22.221893</td>\n",
       "      <td>83.766489</td>\n",
       "      <td>17.741554</td>\n",
       "      <td>43</td>\n",
       "    </tr>\n",
       "    <tr>\n",
       "      <th>2</th>\n",
       "      <td>3</td>\n",
       "      <td>90.362120</td>\n",
       "      <td>6.990174</td>\n",
       "      <td>94.145620</td>\n",
       "      <td>5.253333</td>\n",
       "      <td>87.444120</td>\n",
       "      <td>12.460103</td>\n",
       "      <td>88.630860</td>\n",
       "      <td>9.878581</td>\n",
       "      <td>50</td>\n",
       "    </tr>\n",
       "    <tr>\n",
       "      <th>3</th>\n",
       "      <td>4</td>\n",
       "      <td>90.460625</td>\n",
       "      <td>5.949910</td>\n",
       "      <td>93.149251</td>\n",
       "      <td>6.123267</td>\n",
       "      <td>90.926475</td>\n",
       "      <td>8.901754</td>\n",
       "      <td>84.151925</td>\n",
       "      <td>13.584984</td>\n",
       "      <td>40</td>\n",
       "    </tr>\n",
       "    <tr>\n",
       "      <th>4</th>\n",
       "      <td>5</td>\n",
       "      <td>91.667591</td>\n",
       "      <td>5.402287</td>\n",
       "      <td>92.050682</td>\n",
       "      <td>6.053017</td>\n",
       "      <td>92.658091</td>\n",
       "      <td>8.853661</td>\n",
       "      <td>88.920431</td>\n",
       "      <td>13.583374</td>\n",
       "      <td>44</td>\n",
       "    </tr>\n",
       "    <tr>\n",
       "      <th>5</th>\n",
       "      <td>6</td>\n",
       "      <td>87.024657</td>\n",
       "      <td>11.746708</td>\n",
       "      <td>87.903800</td>\n",
       "      <td>12.481525</td>\n",
       "      <td>87.666943</td>\n",
       "      <td>16.947688</td>\n",
       "      <td>83.981914</td>\n",
       "      <td>15.623813</td>\n",
       "      <td>35</td>\n",
       "    </tr>\n",
       "    <tr>\n",
       "      <th>6</th>\n",
       "      <td>7</td>\n",
       "      <td>82.600754</td>\n",
       "      <td>18.140580</td>\n",
       "      <td>84.899842</td>\n",
       "      <td>21.405428</td>\n",
       "      <td>83.239842</td>\n",
       "      <td>21.054344</td>\n",
       "      <td>76.724439</td>\n",
       "      <td>21.452227</td>\n",
       "      <td>57</td>\n",
       "    </tr>\n",
       "    <tr>\n",
       "      <th>7</th>\n",
       "      <td>8</td>\n",
       "      <td>89.642688</td>\n",
       "      <td>12.777883</td>\n",
       "      <td>93.019968</td>\n",
       "      <td>7.861718</td>\n",
       "      <td>88.727441</td>\n",
       "      <td>17.598822</td>\n",
       "      <td>84.718806</td>\n",
       "      <td>19.420824</td>\n",
       "      <td>93</td>\n",
       "    </tr>\n",
       "    <tr>\n",
       "      <th>8</th>\n",
       "      <td>9</td>\n",
       "      <td>93.372894</td>\n",
       "      <td>7.618106</td>\n",
       "      <td>94.712941</td>\n",
       "      <td>6.907407</td>\n",
       "      <td>93.638871</td>\n",
       "      <td>8.339651</td>\n",
       "      <td>90.160847</td>\n",
       "      <td>14.837751</td>\n",
       "      <td>85</td>\n",
       "    </tr>\n",
       "    <tr>\n",
       "      <th>9</th>\n",
       "      <td>10</td>\n",
       "      <td>93.101338</td>\n",
       "      <td>7.761362</td>\n",
       "      <td>93.195352</td>\n",
       "      <td>7.079669</td>\n",
       "      <td>92.815873</td>\n",
       "      <td>9.982541</td>\n",
       "      <td>93.484212</td>\n",
       "      <td>9.714221</td>\n",
       "      <td>71</td>\n",
       "    </tr>\n",
       "    <tr>\n",
       "      <th>10</th>\n",
       "      <td>11</td>\n",
       "      <td>88.913930</td>\n",
       "      <td>13.955203</td>\n",
       "      <td>93.270509</td>\n",
       "      <td>10.032205</td>\n",
       "      <td>87.417631</td>\n",
       "      <td>18.930428</td>\n",
       "      <td>83.193491</td>\n",
       "      <td>23.523380</td>\n",
       "      <td>57</td>\n",
       "    </tr>\n",
       "    <tr>\n",
       "      <th>11</th>\n",
       "      <td>12</td>\n",
       "      <td>86.113711</td>\n",
       "      <td>11.006473</td>\n",
       "      <td>92.479974</td>\n",
       "      <td>6.522106</td>\n",
       "      <td>83.031237</td>\n",
       "      <td>16.389218</td>\n",
       "      <td>79.546369</td>\n",
       "      <td>21.780945</td>\n",
       "      <td>38</td>\n",
       "    </tr>\n",
       "  </tbody>\n",
       "</table>\n",
       "</div>"
      ],
      "text/plain": [
       "    months  Combine Score Avg  Combine Score Std    SIC Avg    SIC Std  \\\n",
       "0        1          87.600170          10.464055  92.448042   8.666998   \n",
       "1        2          87.994791          11.879931  95.987791   2.799928   \n",
       "2        3          90.362120           6.990174  94.145620   5.253333   \n",
       "3        4          90.460625           5.949910  93.149251   6.123267   \n",
       "4        5          91.667591           5.402287  92.050682   6.053017   \n",
       "5        6          87.024657          11.746708  87.903800  12.481525   \n",
       "6        7          82.600754          18.140580  84.899842  21.405428   \n",
       "7        8          89.642688          12.777883  93.019968   7.861718   \n",
       "8        9          93.372894           7.618106  94.712941   6.907407   \n",
       "9       10          93.101338           7.761362  93.195352   7.079669   \n",
       "10      11          88.913930          13.955203  93.270509  10.032205   \n",
       "11      12          86.113711          11.006473  92.479974   6.522106   \n",
       "\n",
       "      SOD Avg    SOD Std   FLOE Avg   FLOE Std  sample _number  \n",
       "0   85.118107  14.679380  82.868489  19.841412              47  \n",
       "1   82.116024  22.221893  83.766489  17.741554              43  \n",
       "2   87.444120  12.460103  88.630860   9.878581              50  \n",
       "3   90.926475   8.901754  84.151925  13.584984              40  \n",
       "4   92.658091   8.853661  88.920431  13.583374              44  \n",
       "5   87.666943  16.947688  83.981914  15.623813              35  \n",
       "6   83.239842  21.054344  76.724439  21.452227              57  \n",
       "7   88.727441  17.598822  84.718806  19.420824              93  \n",
       "8   93.638871   8.339651  90.160847  14.837751              85  \n",
       "9   92.815873   9.982541  93.484212   9.714221              71  \n",
       "10  87.417631  18.930428  83.193491  23.523380              57  \n",
       "11  83.031237  16.389218  79.546369  21.780945              38  "
      ]
     },
     "metadata": {},
     "output_type": "display_data"
    },
    {
     "data": {
      "text/html": [
       "<div>\n",
       "<style scoped>\n",
       "    .dataframe tbody tr th:only-of-type {\n",
       "        vertical-align: middle;\n",
       "    }\n",
       "\n",
       "    .dataframe tbody tr th {\n",
       "        vertical-align: top;\n",
       "    }\n",
       "\n",
       "    .dataframe thead th {\n",
       "        text-align: right;\n",
       "    }\n",
       "</style>\n",
       "<table border=\"1\" class=\"dataframe\">\n",
       "  <thead>\n",
       "    <tr style=\"text-align: right;\">\n",
       "      <th></th>\n",
       "      <th>months</th>\n",
       "      <th>Combine Score Avg</th>\n",
       "      <th>Combine Score Std</th>\n",
       "      <th>SIC Avg</th>\n",
       "      <th>SIC Std</th>\n",
       "      <th>SOD Avg</th>\n",
       "      <th>SOD Std</th>\n",
       "      <th>FLOE Avg</th>\n",
       "      <th>FLOE Std</th>\n",
       "      <th>sample _number</th>\n",
       "    </tr>\n",
       "  </thead>\n",
       "  <tbody>\n",
       "    <tr>\n",
       "      <th>0</th>\n",
       "      <td>1</td>\n",
       "      <td>86.732491</td>\n",
       "      <td>13.082947</td>\n",
       "      <td>92.818091</td>\n",
       "      <td>7.696037</td>\n",
       "      <td>83.100636</td>\n",
       "      <td>19.523915</td>\n",
       "      <td>81.825091</td>\n",
       "      <td>23.835882</td>\n",
       "      <td>55</td>\n",
       "    </tr>\n",
       "    <tr>\n",
       "      <th>1</th>\n",
       "      <td>2</td>\n",
       "      <td>89.123294</td>\n",
       "      <td>12.197283</td>\n",
       "      <td>95.936510</td>\n",
       "      <td>2.711842</td>\n",
       "      <td>84.107333</td>\n",
       "      <td>21.719771</td>\n",
       "      <td>85.529235</td>\n",
       "      <td>19.040618</td>\n",
       "      <td>51</td>\n",
       "    </tr>\n",
       "    <tr>\n",
       "      <th>2</th>\n",
       "      <td>3</td>\n",
       "      <td>92.011776</td>\n",
       "      <td>5.782858</td>\n",
       "      <td>94.582939</td>\n",
       "      <td>4.201112</td>\n",
       "      <td>89.976653</td>\n",
       "      <td>10.215936</td>\n",
       "      <td>90.939653</td>\n",
       "      <td>8.953561</td>\n",
       "      <td>49</td>\n",
       "    </tr>\n",
       "    <tr>\n",
       "      <th>3</th>\n",
       "      <td>4</td>\n",
       "      <td>90.569661</td>\n",
       "      <td>6.985963</td>\n",
       "      <td>91.996286</td>\n",
       "      <td>5.956033</td>\n",
       "      <td>91.654965</td>\n",
       "      <td>10.806452</td>\n",
       "      <td>85.546089</td>\n",
       "      <td>12.179540</td>\n",
       "      <td>56</td>\n",
       "    </tr>\n",
       "    <tr>\n",
       "      <th>4</th>\n",
       "      <td>5</td>\n",
       "      <td>91.201140</td>\n",
       "      <td>7.299908</td>\n",
       "      <td>91.381702</td>\n",
       "      <td>5.903207</td>\n",
       "      <td>92.843895</td>\n",
       "      <td>11.608573</td>\n",
       "      <td>87.554474</td>\n",
       "      <td>15.834190</td>\n",
       "      <td>57</td>\n",
       "    </tr>\n",
       "    <tr>\n",
       "      <th>5</th>\n",
       "      <td>6</td>\n",
       "      <td>89.376119</td>\n",
       "      <td>8.936371</td>\n",
       "      <td>88.083118</td>\n",
       "      <td>12.150813</td>\n",
       "      <td>93.331424</td>\n",
       "      <td>6.733528</td>\n",
       "      <td>84.051628</td>\n",
       "      <td>15.320308</td>\n",
       "      <td>59</td>\n",
       "    </tr>\n",
       "    <tr>\n",
       "      <th>6</th>\n",
       "      <td>7</td>\n",
       "      <td>88.567000</td>\n",
       "      <td>9.303620</td>\n",
       "      <td>90.363333</td>\n",
       "      <td>6.989537</td>\n",
       "      <td>90.088233</td>\n",
       "      <td>9.749802</td>\n",
       "      <td>81.931917</td>\n",
       "      <td>18.781235</td>\n",
       "      <td>60</td>\n",
       "    </tr>\n",
       "    <tr>\n",
       "      <th>7</th>\n",
       "      <td>8</td>\n",
       "      <td>90.546500</td>\n",
       "      <td>11.386560</td>\n",
       "      <td>92.543875</td>\n",
       "      <td>10.808185</td>\n",
       "      <td>90.873448</td>\n",
       "      <td>13.645382</td>\n",
       "      <td>85.897917</td>\n",
       "      <td>16.852395</td>\n",
       "      <td>96</td>\n",
       "    </tr>\n",
       "    <tr>\n",
       "      <th>8</th>\n",
       "      <td>9</td>\n",
       "      <td>88.942100</td>\n",
       "      <td>13.436313</td>\n",
       "      <td>89.855619</td>\n",
       "      <td>16.125694</td>\n",
       "      <td>88.703173</td>\n",
       "      <td>14.408420</td>\n",
       "      <td>87.592564</td>\n",
       "      <td>15.948574</td>\n",
       "      <td>110</td>\n",
       "    </tr>\n",
       "    <tr>\n",
       "      <th>9</th>\n",
       "      <td>10</td>\n",
       "      <td>93.827346</td>\n",
       "      <td>7.390960</td>\n",
       "      <td>94.462559</td>\n",
       "      <td>7.028825</td>\n",
       "      <td>94.209173</td>\n",
       "      <td>8.486084</td>\n",
       "      <td>91.793387</td>\n",
       "      <td>12.638282</td>\n",
       "      <td>75</td>\n",
       "    </tr>\n",
       "    <tr>\n",
       "      <th>10</th>\n",
       "      <td>11</td>\n",
       "      <td>94.155259</td>\n",
       "      <td>7.753209</td>\n",
       "      <td>95.703944</td>\n",
       "      <td>4.539446</td>\n",
       "      <td>95.449926</td>\n",
       "      <td>7.732331</td>\n",
       "      <td>88.468741</td>\n",
       "      <td>20.850680</td>\n",
       "      <td>54</td>\n",
       "    </tr>\n",
       "    <tr>\n",
       "      <th>11</th>\n",
       "      <td>12</td>\n",
       "      <td>87.049371</td>\n",
       "      <td>12.943823</td>\n",
       "      <td>93.230000</td>\n",
       "      <td>7.767190</td>\n",
       "      <td>81.500555</td>\n",
       "      <td>22.891437</td>\n",
       "      <td>85.785500</td>\n",
       "      <td>17.352962</td>\n",
       "      <td>54</td>\n",
       "    </tr>\n",
       "  </tbody>\n",
       "</table>\n",
       "</div>"
      ],
      "text/plain": [
       "    months  Combine Score Avg  Combine Score Std    SIC Avg    SIC Std  \\\n",
       "0        1          86.732491          13.082947  92.818091   7.696037   \n",
       "1        2          89.123294          12.197283  95.936510   2.711842   \n",
       "2        3          92.011776           5.782858  94.582939   4.201112   \n",
       "3        4          90.569661           6.985963  91.996286   5.956033   \n",
       "4        5          91.201140           7.299908  91.381702   5.903207   \n",
       "5        6          89.376119           8.936371  88.083118  12.150813   \n",
       "6        7          88.567000           9.303620  90.363333   6.989537   \n",
       "7        8          90.546500          11.386560  92.543875  10.808185   \n",
       "8        9          88.942100          13.436313  89.855619  16.125694   \n",
       "9       10          93.827346           7.390960  94.462559   7.028825   \n",
       "10      11          94.155259           7.753209  95.703944   4.539446   \n",
       "11      12          87.049371          12.943823  93.230000   7.767190   \n",
       "\n",
       "      SOD Avg    SOD Std   FLOE Avg   FLOE Std  sample _number  \n",
       "0   83.100636  19.523915  81.825091  23.835882              55  \n",
       "1   84.107333  21.719771  85.529235  19.040618              51  \n",
       "2   89.976653  10.215936  90.939653   8.953561              49  \n",
       "3   91.654965  10.806452  85.546089  12.179540              56  \n",
       "4   92.843895  11.608573  87.554474  15.834190              57  \n",
       "5   93.331424   6.733528  84.051628  15.320308              59  \n",
       "6   90.088233   9.749802  81.931917  18.781235              60  \n",
       "7   90.873448  13.645382  85.897917  16.852395              96  \n",
       "8   88.703173  14.408420  87.592564  15.948574             110  \n",
       "9   94.209173   8.486084  91.793387  12.638282              75  \n",
       "10  95.449926   7.732331  88.468741  20.850680              54  \n",
       "11  81.500555  22.891437  85.785500  17.352962              54  "
      ]
     },
     "metadata": {},
     "output_type": "display_data"
    },
    {
     "data": {
      "image/png": "[encoded data removed]",
      "text/plain": [
       "<Figure size 1500x1500 with 4 Axes>"
      ]
     },
     "metadata": {},
     "output_type": "display_data"
    }
   ],
   "source": [
    "\n",
    "    \n",
    "df_HH_HV = convert_to_df(HH_HV_mean_dic)\n",
    "display(df_HH_HV)\n",
    "df_HH_HV.to_csv('HH_HV_only.csv',index=False)\n",
    "\n",
    "df_time = convert_to_df(Time_mean_dic)\n",
    "display(df_time)\n",
    "df_time.to_csv('HH_HV_Time.csv',index=False)\n",
    "\n",
    "\n",
    "df_time_location = convert_to_df(Time_Location_mean_dic)\n",
    "display(df_time_location)\n",
    "df_time_location.to_csv('HH_HV_Time_Location.csv',index=False)\n",
    "\n",
    "\n",
    "bar_width = 0.25\n",
    "\n",
    "\n",
    "x =  np.arange(len(df_HH_HV['months'].tolist()))\n",
    "\n",
    "\n",
    "\n",
    "fig, axs = plt.subplots(4, 1, figsize=(15,15))\n",
    "fig.suptitle('Validation performace per month with and without time')\n",
    "\n",
    "bp1 = axs[0].boxplot(HH_HV_mean_dic['Combine Score']['array'],positions=x-1.2*bar_width, widths=bar_width, patch_artist=True,\n",
    "               showmeans=True,meanline='True', boxprops=dict(facecolor='lightblue'))\n",
    "bp2 = axs[0].boxplot(Time_mean_dic['Combine Score']['array'],positions=x+0.0*bar_width, widths=bar_width, patch_artist=True,\n",
    "               showmeans=True, meanline='True', boxprops=dict(facecolor='orangered'))\n",
    "bp3 = axs[0].boxplot(Time_Location_mean_dic['Combine Score']['array'],positions=x+1.2*bar_width, widths=bar_width, patch_artist=True,\n",
    "               showmeans=True, meanline='True', boxprops=dict(facecolor='purple'))\n",
    "\n",
    "axs[0].set_xticks(x,labels=['Jan','Feb','Mar','Apr','May','Jun','Jul','Aug','Sept','Oct','Nov','Dec'])\n",
    "axs[0].set_title('Combine Score')\n",
    "\n",
    "axs[1].boxplot(HH_HV_mean_dic['FLOE']['array'],positions=x-1.2*bar_width, widths=bar_width, \n",
    "               showmeans=True, meanline='True', patch_artist=True, boxprops=dict(facecolor='lightblue'))\n",
    "axs[1].boxplot(Time_mean_dic['FLOE']['array'],positions=x+0.0*bar_width, widths=bar_width,\n",
    "               showmeans=True,meanline='True', patch_artist=True, boxprops=dict(facecolor='orangered'))\n",
    "axs[1].boxplot(Time_Location_mean_dic['FLOE']['array'],positions=x+1.2*bar_width, widths=bar_width,\n",
    "               showmeans=True,meanline='True', patch_artist=True, boxprops=dict(facecolor='purple'))\n",
    "\n",
    "axs[1].set_xticks(x,labels=['Jan','Feb','Mar','Apr','May','Jun','Jul','Aug','Sept','Oct','Nov','Dec'])\n",
    "axs[1].set_title('FLOE')\n",
    "\n",
    "axs[2].boxplot(HH_HV_mean_dic['SIC']['array'],positions=x-1.2*bar_width, widths=bar_width, \n",
    "               showmeans=True, meanline='True', patch_artist=True, boxprops=dict(facecolor='lightblue'))\n",
    "axs[2].boxplot(Time_mean_dic['SIC']['array'],positions=x+0.0*bar_width, widths=bar_width,\n",
    "               showmeans=True,meanline='True', patch_artist=True, boxprops=dict(facecolor='orangered'))\n",
    "axs[2].boxplot(Time_Location_mean_dic['SIC']['array'],positions=x+1.2*bar_width, widths=bar_width,\n",
    "               showmeans=True,meanline='True', patch_artist=True, boxprops=dict(facecolor='purple'))\n",
    "\n",
    "axs[2].set_xticks(x,labels=['Jan','Feb','Mar','Apr','May','Jun','Jul','Aug','Sept','Oct','Nov','Dec'])\n",
    "axs[2].set_title('SIC')\n",
    "\n",
    "\n",
    "axs[3].boxplot(HH_HV_mean_dic['SOD']['array'],positions=x-1.2*bar_width, widths=bar_width, \n",
    "               showmeans=True, meanline='True', patch_artist=True, boxprops=dict(facecolor='lightblue'))\n",
    "axs[3].boxplot(Time_mean_dic['SOD']['array'],positions=x+0.0*bar_width, widths=bar_width,\n",
    "               showmeans=True,meanline='True', patch_artist=True, boxprops=dict(facecolor='orangered'))\n",
    "axs[3].boxplot(Time_Location_mean_dic['SOD']['array'],positions=x+1.2*bar_width, widths=bar_width,\n",
    "               showmeans=True,meanline='True', patch_artist=True, boxprops=dict(facecolor='purple'))\n",
    "\n",
    "axs[3].set_xticks(x,labels=['Jan','Feb','Mar','Apr','May','Jun','Jul','Aug','Sept','Oct','Nov','Dec'])\n",
    "axs[3].set_title('SOD')\n",
    "\n",
    "handles, labels = axs[0].get_legend_handles_labels()\n",
    "fig.legend([bp1[\"boxes\"][0], bp2[\"boxes\"][0], bp3[\"boxes\"][0]], ['HH HV', 'HH HV + Time', 'HH HV Time Location'],ncols=2,loc='outside upper right')\n",
    "\n",
    "plt.show()"
   ]
  },
  {
   "cell_type": "code",
   "execution_count": 3,
   "metadata": {},
   "outputs": [
    {
     "name": "stderr",
     "output_type": "stream",
     "text": [
      "\u001b[34m\u001b[1mwandb\u001b[0m:   1 of 1 files downloaded.  \n"
     ]
    },
    {
     "name": "stdout",
     "output_type": "stream",
     "text": [
      "appended val table\n"
     ]
    },
    {
     "name": "stderr",
     "output_type": "stream",
     "text": [
      "\u001b[34m\u001b[1mwandb\u001b[0m:   1 of 1 files downloaded.  \n"
     ]
    },
    {
     "name": "stdout",
     "output_type": "stream",
     "text": [
      "appended val table\n"
     ]
    },
    {
     "name": "stderr",
     "output_type": "stream",
     "text": [
      "\u001b[34m\u001b[1mwandb\u001b[0m:   1 of 1 files downloaded.  \n"
     ]
    },
    {
     "name": "stdout",
     "output_type": "stream",
     "text": [
      "appended val table\n"
     ]
    },
    {
     "name": "stderr",
     "output_type": "stream",
     "text": [
      "\u001b[34m\u001b[1mwandb\u001b[0m:   1 of 1 files downloaded.  \n"
     ]
    },
    {
     "name": "stdout",
     "output_type": "stream",
     "text": [
      "appended val table\n"
     ]
    },
    {
     "name": "stderr",
     "output_type": "stream",
     "text": [
      "\u001b[34m\u001b[1mwandb\u001b[0m:   1 of 1 files downloaded.  \n"
     ]
    },
    {
     "name": "stdout",
     "output_type": "stream",
     "text": [
      "appended val table\n"
     ]
    },
    {
     "name": "stderr",
     "output_type": "stream",
     "text": [
      "\u001b[34m\u001b[1mwandb\u001b[0m:   1 of 1 files downloaded.  \n"
     ]
    },
    {
     "name": "stdout",
     "output_type": "stream",
     "text": [
      "appended val table\n"
     ]
    },
    {
     "name": "stderr",
     "output_type": "stream",
     "text": [
      "\u001b[34m\u001b[1mwandb\u001b[0m:   1 of 1 files downloaded.  \n"
     ]
    },
    {
     "name": "stdout",
     "output_type": "stream",
     "text": [
      "appended val table\n"
     ]
    },
    {
     "name": "stderr",
     "output_type": "stream",
     "text": [
      "\u001b[34m\u001b[1mwandb\u001b[0m:   1 of 1 files downloaded.  \n"
     ]
    },
    {
     "name": "stdout",
     "output_type": "stream",
     "text": [
      "appended val table\n"
     ]
    },
    {
     "name": "stderr",
     "output_type": "stream",
     "text": [
      "\u001b[34m\u001b[1mwandb\u001b[0m:   1 of 1 files downloaded.  \n"
     ]
    },
    {
     "name": "stdout",
     "output_type": "stream",
     "text": [
      "appended val table\n"
     ]
    },
    {
     "name": "stderr",
     "output_type": "stream",
     "text": [
      "\u001b[34m\u001b[1mwandb\u001b[0m:   1 of 1 files downloaded.  \n"
     ]
    },
    {
     "name": "stdout",
     "output_type": "stream",
     "text": [
      "appended val table\n"
     ]
    },
    {
     "name": "stderr",
     "output_type": "stream",
     "text": [
      "\u001b[34m\u001b[1mwandb\u001b[0m:   1 of 1 files downloaded.  \n"
     ]
    },
    {
     "name": "stdout",
     "output_type": "stream",
     "text": [
      "appended val table\n"
     ]
    },
    {
     "name": "stderr",
     "output_type": "stream",
     "text": [
      "\u001b[34m\u001b[1mwandb\u001b[0m:   1 of 1 files downloaded.  \n"
     ]
    },
    {
     "name": "stdout",
     "output_type": "stream",
     "text": [
      "appended val table\n"
     ]
    },
    {
     "name": "stderr",
     "output_type": "stream",
     "text": [
      "\u001b[34m\u001b[1mwandb\u001b[0m:   1 of 1 files downloaded.  \n"
     ]
    },
    {
     "name": "stdout",
     "output_type": "stream",
     "text": [
      "appended val table\n"
     ]
    },
    {
     "name": "stderr",
     "output_type": "stream",
     "text": [
      "\u001b[34m\u001b[1mwandb\u001b[0m:   1 of 1 files downloaded.  \n"
     ]
    },
    {
     "name": "stdout",
     "output_type": "stream",
     "text": [
      "appended val table\n"
     ]
    },
    {
     "name": "stderr",
     "output_type": "stream",
     "text": [
      "\u001b[34m\u001b[1mwandb\u001b[0m:   1 of 1 files downloaded.  \n"
     ]
    },
    {
     "name": "stdout",
     "output_type": "stream",
     "text": [
      "appended val table\n"
     ]
    },
    {
     "name": "stderr",
     "output_type": "stream",
     "text": [
      "\u001b[34m\u001b[1mwandb\u001b[0m:   1 of 1 files downloaded.  \n"
     ]
    },
    {
     "name": "stdout",
     "output_type": "stream",
     "text": [
      "appended val table\n"
     ]
    },
    {
     "name": "stderr",
     "output_type": "stream",
     "text": [
      "\u001b[34m\u001b[1mwandb\u001b[0m:   1 of 1 files downloaded.  \n"
     ]
    },
    {
     "name": "stdout",
     "output_type": "stream",
     "text": [
      "appended val table\n"
     ]
    },
    {
     "name": "stderr",
     "output_type": "stream",
     "text": [
      "\u001b[34m\u001b[1mwandb\u001b[0m:   1 of 1 files downloaded.  \n"
     ]
    },
    {
     "name": "stdout",
     "output_type": "stream",
     "text": [
      "appended val table\n"
     ]
    },
    {
     "name": "stderr",
     "output_type": "stream",
     "text": [
      "\u001b[34m\u001b[1mwandb\u001b[0m:   1 of 1 files downloaded.  \n"
     ]
    },
    {
     "name": "stdout",
     "output_type": "stream",
     "text": [
      "appended val table\n"
     ]
    },
    {
     "name": "stderr",
     "output_type": "stream",
     "text": [
      "\u001b[34m\u001b[1mwandb\u001b[0m:   1 of 1 files downloaded.  \n"
     ]
    },
    {
     "name": "stdout",
     "output_type": "stream",
     "text": [
      "appended val table\n"
     ]
    },
    {
     "name": "stderr",
     "output_type": "stream",
     "text": [
      "\u001b[34m\u001b[1mwandb\u001b[0m:   1 of 1 files downloaded.  \n"
     ]
    },
    {
     "name": "stdout",
     "output_type": "stream",
     "text": [
      "appended val table\n"
     ]
    },
    {
     "name": "stderr",
     "output_type": "stream",
     "text": [
      "\u001b[34m\u001b[1mwandb\u001b[0m:   1 of 1 files downloaded.  \n"
     ]
    },
    {
     "name": "stdout",
     "output_type": "stream",
     "text": [
      "appended val table\n"
     ]
    },
    {
     "name": "stderr",
     "output_type": "stream",
     "text": [
      "\u001b[34m\u001b[1mwandb\u001b[0m:   1 of 1 files downloaded.  \n"
     ]
    },
    {
     "name": "stdout",
     "output_type": "stream",
     "text": [
      "appended val table\n"
     ]
    },
    {
     "name": "stderr",
     "output_type": "stream",
     "text": [
      "\u001b[34m\u001b[1mwandb\u001b[0m:   1 of 1 files downloaded.  \n"
     ]
    },
    {
     "name": "stdout",
     "output_type": "stream",
     "text": [
      "appended val table\n"
     ]
    },
    {
     "name": "stderr",
     "output_type": "stream",
     "text": [
      "\u001b[34m\u001b[1mwandb\u001b[0m:   1 of 1 files downloaded.  \n"
     ]
    },
    {
     "name": "stdout",
     "output_type": "stream",
     "text": [
      "appended val table\n"
     ]
    },
    {
     "name": "stderr",
     "output_type": "stream",
     "text": [
      "\u001b[34m\u001b[1mwandb\u001b[0m:   1 of 1 files downloaded.  \n"
     ]
    },
    {
     "name": "stdout",
     "output_type": "stream",
     "text": [
      "appended val table\n"
     ]
    },
    {
     "name": "stderr",
     "output_type": "stream",
     "text": [
      "\u001b[34m\u001b[1mwandb\u001b[0m:   1 of 1 files downloaded.  \n"
     ]
    },
    {
     "name": "stdout",
     "output_type": "stream",
     "text": [
      "appended val table\n"
     ]
    },
    {
     "name": "stderr",
     "output_type": "stream",
     "text": [
      "\u001b[34m\u001b[1mwandb\u001b[0m:   1 of 1 files downloaded.  \n"
     ]
    },
    {
     "name": "stdout",
     "output_type": "stream",
     "text": [
      "appended val table\n"
     ]
    },
    {
     "name": "stderr",
     "output_type": "stream",
     "text": [
      "\u001b[34m\u001b[1mwandb\u001b[0m:   1 of 1 files downloaded.  \n"
     ]
    },
    {
     "name": "stdout",
     "output_type": "stream",
     "text": [
      "appended val table\n"
     ]
    },
    {
     "name": "stderr",
     "output_type": "stream",
     "text": [
      "\u001b[34m\u001b[1mwandb\u001b[0m:   1 of 1 files downloaded.  \n"
     ]
    },
    {
     "name": "stdout",
     "output_type": "stream",
     "text": [
      "appended val table\n"
     ]
    },
    {
     "name": "stderr",
     "output_type": "stream",
     "text": [
      "\u001b[34m\u001b[1mwandb\u001b[0m:   1 of 1 files downloaded.  \n"
     ]
    },
    {
     "name": "stdout",
     "output_type": "stream",
     "text": [
      "appended val table\n"
     ]
    },
    {
     "name": "stderr",
     "output_type": "stream",
     "text": [
      "\u001b[34m\u001b[1mwandb\u001b[0m:   1 of 1 files downloaded.  \n"
     ]
    },
    {
     "name": "stdout",
     "output_type": "stream",
     "text": [
      "appended val table\n"
     ]
    },
    {
     "name": "stderr",
     "output_type": "stream",
     "text": [
      "\u001b[34m\u001b[1mwandb\u001b[0m:   1 of 1 files downloaded.  \n"
     ]
    },
    {
     "name": "stdout",
     "output_type": "stream",
     "text": [
      "appended val table\n"
     ]
    },
    {
     "name": "stderr",
     "output_type": "stream",
     "text": [
      "\u001b[34m\u001b[1mwandb\u001b[0m:   1 of 1 files downloaded.  \n"
     ]
    },
    {
     "name": "stdout",
     "output_type": "stream",
     "text": [
      "appended val table\n"
     ]
    },
    {
     "name": "stderr",
     "output_type": "stream",
     "text": [
      "\u001b[34m\u001b[1mwandb\u001b[0m:   1 of 1 files downloaded.  \n"
     ]
    },
    {
     "name": "stdout",
     "output_type": "stream",
     "text": [
      "appended val table\n"
     ]
    },
    {
     "name": "stderr",
     "output_type": "stream",
     "text": [
      "\u001b[34m\u001b[1mwandb\u001b[0m:   1 of 1 files downloaded.  \n"
     ]
    },
    {
     "name": "stdout",
     "output_type": "stream",
     "text": [
      "appended val table\n"
     ]
    },
    {
     "name": "stderr",
     "output_type": "stream",
     "text": [
      "\u001b[34m\u001b[1mwandb\u001b[0m:   1 of 1 files downloaded.  \n"
     ]
    },
    {
     "name": "stdout",
     "output_type": "stream",
     "text": [
      "appended val table\n"
     ]
    },
    {
     "name": "stderr",
     "output_type": "stream",
     "text": [
      "\u001b[34m\u001b[1mwandb\u001b[0m:   1 of 1 files downloaded.  \n"
     ]
    },
    {
     "name": "stdout",
     "output_type": "stream",
     "text": [
      "appended val table\n"
     ]
    },
    {
     "name": "stderr",
     "output_type": "stream",
     "text": [
      "\u001b[34m\u001b[1mwandb\u001b[0m:   1 of 1 files downloaded.  \n"
     ]
    },
    {
     "name": "stdout",
     "output_type": "stream",
     "text": [
      "appended val table\n"
     ]
    },
    {
     "name": "stderr",
     "output_type": "stream",
     "text": [
      "\u001b[34m\u001b[1mwandb\u001b[0m:   1 of 1 files downloaded.  \n"
     ]
    },
    {
     "name": "stdout",
     "output_type": "stream",
     "text": [
      "appended val table\n"
     ]
    },
    {
     "name": "stderr",
     "output_type": "stream",
     "text": [
      "\u001b[34m\u001b[1mwandb\u001b[0m:   1 of 1 files downloaded.  \n"
     ]
    },
    {
     "name": "stdout",
     "output_type": "stream",
     "text": [
      "appended val table\n"
     ]
    },
    {
     "name": "stderr",
     "output_type": "stream",
     "text": [
      "\u001b[34m\u001b[1mwandb\u001b[0m:   1 of 1 files downloaded.  \n"
     ]
    },
    {
     "name": "stdout",
     "output_type": "stream",
     "text": [
      "appended val table\n"
     ]
    },
    {
     "name": "stderr",
     "output_type": "stream",
     "text": [
      "\u001b[34m\u001b[1mwandb\u001b[0m:   1 of 1 files downloaded.  \n"
     ]
    },
    {
     "name": "stdout",
     "output_type": "stream",
     "text": [
      "appended val table\n"
     ]
    },
    {
     "name": "stderr",
     "output_type": "stream",
     "text": [
      "\u001b[34m\u001b[1mwandb\u001b[0m:   1 of 1 files downloaded.  \n"
     ]
    },
    {
     "name": "stdout",
     "output_type": "stream",
     "text": [
      "appended val table\n"
     ]
    },
    {
     "name": "stderr",
     "output_type": "stream",
     "text": [
      "\u001b[34m\u001b[1mwandb\u001b[0m:   1 of 1 files downloaded.  \n"
     ]
    },
    {
     "name": "stdout",
     "output_type": "stream",
     "text": [
      "appended val table\n"
     ]
    },
    {
     "name": "stderr",
     "output_type": "stream",
     "text": [
      "\u001b[34m\u001b[1mwandb\u001b[0m:   1 of 1 files downloaded.  \n"
     ]
    },
    {
     "name": "stdout",
     "output_type": "stream",
     "text": [
      "appended val table\n"
     ]
    },
    {
     "name": "stderr",
     "output_type": "stream",
     "text": [
      "\u001b[34m\u001b[1mwandb\u001b[0m:   1 of 1 files downloaded.  \n"
     ]
    },
    {
     "name": "stdout",
     "output_type": "stream",
     "text": [
      "appended val table\n"
     ]
    },
    {
     "name": "stderr",
     "output_type": "stream",
     "text": [
      "\u001b[34m\u001b[1mwandb\u001b[0m:   1 of 1 files downloaded.  \n"
     ]
    },
    {
     "name": "stdout",
     "output_type": "stream",
     "text": [
      "appended val table\n"
     ]
    },
    {
     "name": "stderr",
     "output_type": "stream",
     "text": [
      "\u001b[34m\u001b[1mwandb\u001b[0m:   1 of 1 files downloaded.  \n"
     ]
    },
    {
     "name": "stdout",
     "output_type": "stream",
     "text": [
      "appended val table\n"
     ]
    },
    {
     "name": "stderr",
     "output_type": "stream",
     "text": [
      "\u001b[34m\u001b[1mwandb\u001b[0m:   1 of 1 files downloaded.  \n"
     ]
    },
    {
     "name": "stdout",
     "output_type": "stream",
     "text": [
      "appended val table\n"
     ]
    },
    {
     "name": "stderr",
     "output_type": "stream",
     "text": [
      "\u001b[34m\u001b[1mwandb\u001b[0m:   1 of 1 files downloaded.  \n"
     ]
    },
    {
     "name": "stdout",
     "output_type": "stream",
     "text": [
      "appended val table\n"
     ]
    },
    {
     "name": "stderr",
     "output_type": "stream",
     "text": [
      "\u001b[34m\u001b[1mwandb\u001b[0m:   1 of 1 files downloaded.  \n"
     ]
    },
    {
     "name": "stdout",
     "output_type": "stream",
     "text": [
      "appended val table\n"
     ]
    },
    {
     "name": "stderr",
     "output_type": "stream",
     "text": [
      "\u001b[34m\u001b[1mwandb\u001b[0m:   1 of 1 files downloaded.  \n"
     ]
    },
    {
     "name": "stdout",
     "output_type": "stream",
     "text": [
      "appended val table\n"
     ]
    },
    {
     "name": "stderr",
     "output_type": "stream",
     "text": [
      "\u001b[34m\u001b[1mwandb\u001b[0m:   1 of 1 files downloaded.  \n"
     ]
    },
    {
     "name": "stdout",
     "output_type": "stream",
     "text": [
      "appended val table\n"
     ]
    },
    {
     "name": "stderr",
     "output_type": "stream",
     "text": [
      "\u001b[34m\u001b[1mwandb\u001b[0m:   1 of 1 files downloaded.  \n"
     ]
    },
    {
     "name": "stdout",
     "output_type": "stream",
     "text": [
      "appended val table\n"
     ]
    },
    {
     "name": "stderr",
     "output_type": "stream",
     "text": [
      "\u001b[34m\u001b[1mwandb\u001b[0m:   1 of 1 files downloaded.  \n"
     ]
    },
    {
     "name": "stdout",
     "output_type": "stream",
     "text": [
      "appended val table\n"
     ]
    },
    {
     "name": "stderr",
     "output_type": "stream",
     "text": [
      "\u001b[34m\u001b[1mwandb\u001b[0m:   1 of 1 files downloaded.  \n"
     ]
    },
    {
     "name": "stdout",
     "output_type": "stream",
     "text": [
      "appended val table\n"
     ]
    },
    {
     "name": "stderr",
     "output_type": "stream",
     "text": [
      "\u001b[34m\u001b[1mwandb\u001b[0m:   1 of 1 files downloaded.  \n"
     ]
    },
    {
     "name": "stdout",
     "output_type": "stream",
     "text": [
      "appended val table\n"
     ]
    },
    {
     "name": "stderr",
     "output_type": "stream",
     "text": [
      "\u001b[34m\u001b[1mwandb\u001b[0m:   1 of 1 files downloaded.  \n"
     ]
    },
    {
     "name": "stdout",
     "output_type": "stream",
     "text": [
      "appended val table\n"
     ]
    },
    {
     "name": "stderr",
     "output_type": "stream",
     "text": [
      "\u001b[34m\u001b[1mwandb\u001b[0m:   1 of 1 files downloaded.  \n"
     ]
    },
    {
     "name": "stdout",
     "output_type": "stream",
     "text": [
      "appended val table\n"
     ]
    },
    {
     "name": "stderr",
     "output_type": "stream",
     "text": [
      "\u001b[34m\u001b[1mwandb\u001b[0m:   1 of 1 files downloaded.  \n"
     ]
    },
    {
     "name": "stdout",
     "output_type": "stream",
     "text": [
      "appended val table\n"
     ]
    },
    {
     "name": "stderr",
     "output_type": "stream",
     "text": [
      "\u001b[34m\u001b[1mwandb\u001b[0m:   1 of 1 files downloaded.  \n"
     ]
    },
    {
     "name": "stdout",
     "output_type": "stream",
     "text": [
      "appended val table\n"
     ]
    },
    {
     "name": "stderr",
     "output_type": "stream",
     "text": [
      "\u001b[34m\u001b[1mwandb\u001b[0m:   1 of 1 files downloaded.  \n"
     ]
    },
    {
     "name": "stdout",
     "output_type": "stream",
     "text": [
      "appended val table\n"
     ]
    },
    {
     "name": "stderr",
     "output_type": "stream",
     "text": [
      "\u001b[34m\u001b[1mwandb\u001b[0m:   1 of 1 files downloaded.  \n"
     ]
    },
    {
     "name": "stdout",
     "output_type": "stream",
     "text": [
      "appended val table\n"
     ]
    },
    {
     "name": "stderr",
     "output_type": "stream",
     "text": [
      "\u001b[34m\u001b[1mwandb\u001b[0m:   1 of 1 files downloaded.  \n"
     ]
    },
    {
     "name": "stdout",
     "output_type": "stream",
     "text": [
      "appended val table\n"
     ]
    },
    {
     "name": "stderr",
     "output_type": "stream",
     "text": [
      "\u001b[34m\u001b[1mwandb\u001b[0m:   1 of 1 files downloaded.  \n"
     ]
    },
    {
     "name": "stdout",
     "output_type": "stream",
     "text": [
      "appended val table\n"
     ]
    },
    {
     "name": "stderr",
     "output_type": "stream",
     "text": [
      "\u001b[34m\u001b[1mwandb\u001b[0m:   1 of 1 files downloaded.  \n"
     ]
    },
    {
     "name": "stdout",
     "output_type": "stream",
     "text": [
      "appended val table\n"
     ]
    },
    {
     "name": "stderr",
     "output_type": "stream",
     "text": [
      "\u001b[34m\u001b[1mwandb\u001b[0m:   1 of 1 files downloaded.  \n"
     ]
    },
    {
     "name": "stdout",
     "output_type": "stream",
     "text": [
      "appended val table\n"
     ]
    },
    {
     "name": "stderr",
     "output_type": "stream",
     "text": [
      "\u001b[34m\u001b[1mwandb\u001b[0m:   1 of 1 files downloaded.  \n"
     ]
    },
    {
     "name": "stdout",
     "output_type": "stream",
     "text": [
      "appended val table\n"
     ]
    },
    {
     "name": "stderr",
     "output_type": "stream",
     "text": [
      "\u001b[34m\u001b[1mwandb\u001b[0m:   1 of 1 files downloaded.  \n"
     ]
    },
    {
     "name": "stdout",
     "output_type": "stream",
     "text": [
      "appended val table\n"
     ]
    },
    {
     "name": "stderr",
     "output_type": "stream",
     "text": [
      "\u001b[34m\u001b[1mwandb\u001b[0m:   1 of 1 files downloaded.  \n"
     ]
    },
    {
     "name": "stdout",
     "output_type": "stream",
     "text": [
      "appended val table\n"
     ]
    },
    {
     "name": "stderr",
     "output_type": "stream",
     "text": [
      "\u001b[34m\u001b[1mwandb\u001b[0m:   1 of 1 files downloaded.  \n"
     ]
    },
    {
     "name": "stdout",
     "output_type": "stream",
     "text": [
      "appended val table\n"
     ]
    },
    {
     "name": "stderr",
     "output_type": "stream",
     "text": [
      "\u001b[34m\u001b[1mwandb\u001b[0m:   1 of 1 files downloaded.  \n"
     ]
    },
    {
     "name": "stdout",
     "output_type": "stream",
     "text": [
      "appended val table\n"
     ]
    },
    {
     "name": "stderr",
     "output_type": "stream",
     "text": [
      "\u001b[34m\u001b[1mwandb\u001b[0m:   1 of 1 files downloaded.  \n"
     ]
    },
    {
     "name": "stdout",
     "output_type": "stream",
     "text": [
      "appended val table\n"
     ]
    },
    {
     "name": "stderr",
     "output_type": "stream",
     "text": [
      "\u001b[34m\u001b[1mwandb\u001b[0m:   1 of 1 files downloaded.  \n"
     ]
    },
    {
     "name": "stdout",
     "output_type": "stream",
     "text": [
      "appended val table\n"
     ]
    },
    {
     "name": "stderr",
     "output_type": "stream",
     "text": [
      "\u001b[34m\u001b[1mwandb\u001b[0m:   1 of 1 files downloaded.  \n"
     ]
    },
    {
     "name": "stdout",
     "output_type": "stream",
     "text": [
      "appended val table\n"
     ]
    },
    {
     "name": "stderr",
     "output_type": "stream",
     "text": [
      "\u001b[34m\u001b[1mwandb\u001b[0m:   1 of 1 files downloaded.  \n"
     ]
    },
    {
     "name": "stdout",
     "output_type": "stream",
     "text": [
      "appended val table\n"
     ]
    },
    {
     "name": "stderr",
     "output_type": "stream",
     "text": [
      "\u001b[34m\u001b[1mwandb\u001b[0m:   1 of 1 files downloaded.  \n"
     ]
    },
    {
     "name": "stdout",
     "output_type": "stream",
     "text": [
      "appended val table\n"
     ]
    },
    {
     "name": "stderr",
     "output_type": "stream",
     "text": [
      "\u001b[34m\u001b[1mwandb\u001b[0m:   1 of 1 files downloaded.  \n"
     ]
    },
    {
     "name": "stdout",
     "output_type": "stream",
     "text": [
      "appended val table\n"
     ]
    },
    {
     "name": "stderr",
     "output_type": "stream",
     "text": [
      "\u001b[34m\u001b[1mwandb\u001b[0m:   1 of 1 files downloaded.  \n"
     ]
    },
    {
     "name": "stdout",
     "output_type": "stream",
     "text": [
      "appended val table\n"
     ]
    },
    {
     "name": "stderr",
     "output_type": "stream",
     "text": [
      "\u001b[34m\u001b[1mwandb\u001b[0m:   1 of 1 files downloaded.  \n"
     ]
    },
    {
     "name": "stdout",
     "output_type": "stream",
     "text": [
      "appended val table\n"
     ]
    },
    {
     "name": "stderr",
     "output_type": "stream",
     "text": [
      "\u001b[34m\u001b[1mwandb\u001b[0m:   1 of 1 files downloaded.  \n"
     ]
    },
    {
     "name": "stdout",
     "output_type": "stream",
     "text": [
      "appended val table\n"
     ]
    },
    {
     "name": "stderr",
     "output_type": "stream",
     "text": [
      "\u001b[34m\u001b[1mwandb\u001b[0m:   1 of 1 files downloaded.  \n"
     ]
    },
    {
     "name": "stdout",
     "output_type": "stream",
     "text": [
      "appended val table\n"
     ]
    },
    {
     "name": "stderr",
     "output_type": "stream",
     "text": [
      "\u001b[34m\u001b[1mwandb\u001b[0m:   1 of 1 files downloaded.  \n"
     ]
    },
    {
     "name": "stdout",
     "output_type": "stream",
     "text": [
      "appended val table\n"
     ]
    },
    {
     "name": "stderr",
     "output_type": "stream",
     "text": [
      "\u001b[34m\u001b[1mwandb\u001b[0m:   1 of 1 files downloaded.  \n"
     ]
    },
    {
     "name": "stdout",
     "output_type": "stream",
     "text": [
      "appended val table\n"
     ]
    },
    {
     "name": "stderr",
     "output_type": "stream",
     "text": [
      "\u001b[34m\u001b[1mwandb\u001b[0m:   1 of 1 files downloaded.  \n"
     ]
    },
    {
     "name": "stdout",
     "output_type": "stream",
     "text": [
      "appended val table\n"
     ]
    },
    {
     "name": "stderr",
     "output_type": "stream",
     "text": [
      "\u001b[34m\u001b[1mwandb\u001b[0m:   1 of 1 files downloaded.  \n"
     ]
    },
    {
     "name": "stdout",
     "output_type": "stream",
     "text": [
      "appended val table\n"
     ]
    },
    {
     "name": "stderr",
     "output_type": "stream",
     "text": [
      "\u001b[34m\u001b[1mwandb\u001b[0m:   1 of 1 files downloaded.  \n"
     ]
    },
    {
     "name": "stdout",
     "output_type": "stream",
     "text": [
      "appended val table\n"
     ]
    },
    {
     "name": "stderr",
     "output_type": "stream",
     "text": [
      "\u001b[34m\u001b[1mwandb\u001b[0m:   1 of 1 files downloaded.  \n"
     ]
    },
    {
     "name": "stdout",
     "output_type": "stream",
     "text": [
      "appended val table\n"
     ]
    },
    {
     "name": "stderr",
     "output_type": "stream",
     "text": [
      "\u001b[34m\u001b[1mwandb\u001b[0m:   1 of 1 files downloaded.  \n"
     ]
    },
    {
     "name": "stdout",
     "output_type": "stream",
     "text": [
      "appended val table\n"
     ]
    },
    {
     "name": "stderr",
     "output_type": "stream",
     "text": [
      "\u001b[34m\u001b[1mwandb\u001b[0m:   1 of 1 files downloaded.  \n"
     ]
    },
    {
     "name": "stdout",
     "output_type": "stream",
     "text": [
      "appended val table\n"
     ]
    },
    {
     "name": "stderr",
     "output_type": "stream",
     "text": [
      "\u001b[34m\u001b[1mwandb\u001b[0m:   1 of 1 files downloaded.  \n"
     ]
    },
    {
     "name": "stdout",
     "output_type": "stream",
     "text": [
      "appended val table\n"
     ]
    },
    {
     "name": "stderr",
     "output_type": "stream",
     "text": [
      "\u001b[34m\u001b[1mwandb\u001b[0m:   1 of 1 files downloaded.  \n"
     ]
    },
    {
     "name": "stdout",
     "output_type": "stream",
     "text": [
      "appended val table\n"
     ]
    },
    {
     "name": "stderr",
     "output_type": "stream",
     "text": [
      "\u001b[34m\u001b[1mwandb\u001b[0m:   1 of 1 files downloaded.  \n"
     ]
    },
    {
     "name": "stdout",
     "output_type": "stream",
     "text": [
      "appended val table\n"
     ]
    },
    {
     "name": "stderr",
     "output_type": "stream",
     "text": [
      "\u001b[34m\u001b[1mwandb\u001b[0m:   1 of 1 files downloaded.  \n"
     ]
    },
    {
     "name": "stdout",
     "output_type": "stream",
     "text": [
      "appended val table\n"
     ]
    },
    {
     "name": "stderr",
     "output_type": "stream",
     "text": [
      "\u001b[34m\u001b[1mwandb\u001b[0m:   1 of 1 files downloaded.  \n"
     ]
    },
    {
     "name": "stdout",
     "output_type": "stream",
     "text": [
      "appended val table\n"
     ]
    },
    {
     "name": "stderr",
     "output_type": "stream",
     "text": [
      "\u001b[34m\u001b[1mwandb\u001b[0m:   1 of 1 files downloaded.  \n"
     ]
    },
    {
     "name": "stdout",
     "output_type": "stream",
     "text": [
      "appended val table\n"
     ]
    },
    {
     "name": "stderr",
     "output_type": "stream",
     "text": [
      "\u001b[34m\u001b[1mwandb\u001b[0m:   1 of 1 files downloaded.  \n"
     ]
    },
    {
     "name": "stdout",
     "output_type": "stream",
     "text": [
      "appended val table\n"
     ]
    },
    {
     "name": "stderr",
     "output_type": "stream",
     "text": [
      "\u001b[34m\u001b[1mwandb\u001b[0m:   1 of 1 files downloaded.  \n"
     ]
    },
    {
     "name": "stdout",
     "output_type": "stream",
     "text": [
      "appended val table\n"
     ]
    },
    {
     "name": "stderr",
     "output_type": "stream",
     "text": [
      "\u001b[34m\u001b[1mwandb\u001b[0m:   1 of 1 files downloaded.  \n"
     ]
    },
    {
     "name": "stdout",
     "output_type": "stream",
     "text": [
      "appended val table\n"
     ]
    },
    {
     "name": "stderr",
     "output_type": "stream",
     "text": [
      "\u001b[34m\u001b[1mwandb\u001b[0m:   1 of 1 files downloaded.  \n"
     ]
    },
    {
     "name": "stdout",
     "output_type": "stream",
     "text": [
      "appended val table\n"
     ]
    },
    {
     "name": "stderr",
     "output_type": "stream",
     "text": [
      "\u001b[34m\u001b[1mwandb\u001b[0m:   1 of 1 files downloaded.  \n"
     ]
    },
    {
     "name": "stdout",
     "output_type": "stream",
     "text": [
      "appended val table\n"
     ]
    },
    {
     "name": "stderr",
     "output_type": "stream",
     "text": [
      "\u001b[34m\u001b[1mwandb\u001b[0m:   1 of 1 files downloaded.  \n"
     ]
    },
    {
     "name": "stdout",
     "output_type": "stream",
     "text": [
      "appended val table\n"
     ]
    },
    {
     "name": "stderr",
     "output_type": "stream",
     "text": [
      "\u001b[34m\u001b[1mwandb\u001b[0m:   1 of 1 files downloaded.  \n"
     ]
    },
    {
     "name": "stdout",
     "output_type": "stream",
     "text": [
      "appended val table\n"
     ]
    },
    {
     "name": "stderr",
     "output_type": "stream",
     "text": [
      "\u001b[34m\u001b[1mwandb\u001b[0m:   1 of 1 files downloaded.  \n"
     ]
    },
    {
     "name": "stdout",
     "output_type": "stream",
     "text": [
      "appended val table\n"
     ]
    }
   ],
   "source": [
    "\n",
    "path = 'ai4arctic/feature_selection_rerun_inference'\n",
    "group = 'rerun_base'\n",
    "\n",
    "base_mean_dic, base_relative_mean_dic = performace_per_month(path,group)\n",
    "\n",
    "\n",
    "path = 'ai4arctic/feature_selection_rerun_inference'\n",
    "group = 'remove_time'\n",
    "\n",
    "remove_time_mean_dic, remove_time_relative_mean_dic = performace_per_month(path,group)\n",
    "\n",
    "\n",
    "path = 'ai4arctic/feature_selection_rerun_inference'\n",
    "group = 'remove_time_location'\n",
    "\n",
    "remove_time_location_mean_dic, remove_time_location_relative_mean_dic  = performace_per_month(path,group)"
   ]
  },
  {
   "cell_type": "code",
   "execution_count": 5,
   "metadata": {},
   "outputs": [
    {
     "data": {
      "text/html": [
       "<div>\n",
       "<style scoped>\n",
       "    .dataframe tbody tr th:only-of-type {\n",
       "        vertical-align: middle;\n",
       "    }\n",
       "\n",
       "    .dataframe tbody tr th {\n",
       "        vertical-align: top;\n",
       "    }\n",
       "\n",
       "    .dataframe thead th {\n",
       "        text-align: right;\n",
       "    }\n",
       "</style>\n",
       "<table border=\"1\" class=\"dataframe\">\n",
       "  <thead>\n",
       "    <tr style=\"text-align: right;\">\n",
       "      <th></th>\n",
       "      <th>months</th>\n",
       "      <th>Combine Score Avg</th>\n",
       "      <th>Combine Score Std</th>\n",
       "      <th>SIC Avg</th>\n",
       "      <th>SIC Std</th>\n",
       "      <th>SOD Avg</th>\n",
       "      <th>SOD Std</th>\n",
       "      <th>FLOE Avg</th>\n",
       "      <th>FLOE Std</th>\n",
       "      <th>sample _number</th>\n",
       "    </tr>\n",
       "  </thead>\n",
       "  <tbody>\n",
       "    <tr>\n",
       "      <th>0</th>\n",
       "      <td>1</td>\n",
       "      <td>86.947555</td>\n",
       "      <td>10.319442</td>\n",
       "      <td>94.582711</td>\n",
       "      <td>4.684472</td>\n",
       "      <td>82.984556</td>\n",
       "      <td>18.339640</td>\n",
       "      <td>79.603022</td>\n",
       "      <td>23.688535</td>\n",
       "      <td>45</td>\n",
       "    </tr>\n",
       "    <tr>\n",
       "      <th>1</th>\n",
       "      <td>2</td>\n",
       "      <td>90.514568</td>\n",
       "      <td>10.278566</td>\n",
       "      <td>96.297409</td>\n",
       "      <td>3.519859</td>\n",
       "      <td>86.821523</td>\n",
       "      <td>17.459269</td>\n",
       "      <td>86.334704</td>\n",
       "      <td>16.396162</td>\n",
       "      <td>44</td>\n",
       "    </tr>\n",
       "    <tr>\n",
       "      <th>2</th>\n",
       "      <td>3</td>\n",
       "      <td>91.626656</td>\n",
       "      <td>6.122537</td>\n",
       "      <td>96.257499</td>\n",
       "      <td>2.429754</td>\n",
       "      <td>88.528500</td>\n",
       "      <td>11.915263</td>\n",
       "      <td>88.561343</td>\n",
       "      <td>9.222398</td>\n",
       "      <td>32</td>\n",
       "    </tr>\n",
       "    <tr>\n",
       "      <th>3</th>\n",
       "      <td>4</td>\n",
       "      <td>91.173957</td>\n",
       "      <td>6.146980</td>\n",
       "      <td>94.237319</td>\n",
       "      <td>4.345387</td>\n",
       "      <td>91.601042</td>\n",
       "      <td>9.329425</td>\n",
       "      <td>84.192830</td>\n",
       "      <td>13.639097</td>\n",
       "      <td>47</td>\n",
       "    </tr>\n",
       "    <tr>\n",
       "      <th>4</th>\n",
       "      <td>5</td>\n",
       "      <td>90.752023</td>\n",
       "      <td>6.681066</td>\n",
       "      <td>91.839387</td>\n",
       "      <td>6.047903</td>\n",
       "      <td>94.645364</td>\n",
       "      <td>7.922273</td>\n",
       "      <td>80.790477</td>\n",
       "      <td>23.007570</td>\n",
       "      <td>44</td>\n",
       "    </tr>\n",
       "    <tr>\n",
       "      <th>5</th>\n",
       "      <td>6</td>\n",
       "      <td>88.904514</td>\n",
       "      <td>7.354898</td>\n",
       "      <td>88.418378</td>\n",
       "      <td>9.578672</td>\n",
       "      <td>93.844675</td>\n",
       "      <td>6.213994</td>\n",
       "      <td>79.996568</td>\n",
       "      <td>19.109947</td>\n",
       "      <td>37</td>\n",
       "    </tr>\n",
       "    <tr>\n",
       "      <th>6</th>\n",
       "      <td>7</td>\n",
       "      <td>85.123852</td>\n",
       "      <td>17.647459</td>\n",
       "      <td>86.886770</td>\n",
       "      <td>27.839262</td>\n",
       "      <td>86.948098</td>\n",
       "      <td>13.360567</td>\n",
       "      <td>77.949377</td>\n",
       "      <td>22.293593</td>\n",
       "      <td>61</td>\n",
       "    </tr>\n",
       "    <tr>\n",
       "      <th>7</th>\n",
       "      <td>8</td>\n",
       "      <td>90.655412</td>\n",
       "      <td>9.335227</td>\n",
       "      <td>92.261907</td>\n",
       "      <td>8.132092</td>\n",
       "      <td>91.251753</td>\n",
       "      <td>11.268376</td>\n",
       "      <td>86.249495</td>\n",
       "      <td>14.698294</td>\n",
       "      <td>97</td>\n",
       "    </tr>\n",
       "    <tr>\n",
       "      <th>8</th>\n",
       "      <td>9</td>\n",
       "      <td>93.187951</td>\n",
       "      <td>7.805387</td>\n",
       "      <td>95.013866</td>\n",
       "      <td>6.172767</td>\n",
       "      <td>93.436475</td>\n",
       "      <td>8.623779</td>\n",
       "      <td>89.039000</td>\n",
       "      <td>17.836265</td>\n",
       "      <td>82</td>\n",
       "    </tr>\n",
       "    <tr>\n",
       "      <th>9</th>\n",
       "      <td>10</td>\n",
       "      <td>91.537895</td>\n",
       "      <td>10.292290</td>\n",
       "      <td>93.636403</td>\n",
       "      <td>8.033898</td>\n",
       "      <td>89.762298</td>\n",
       "      <td>14.941117</td>\n",
       "      <td>90.892298</td>\n",
       "      <td>12.031935</td>\n",
       "      <td>67</td>\n",
       "    </tr>\n",
       "    <tr>\n",
       "      <th>10</th>\n",
       "      <td>11</td>\n",
       "      <td>88.684578</td>\n",
       "      <td>12.341653</td>\n",
       "      <td>93.691022</td>\n",
       "      <td>8.744772</td>\n",
       "      <td>88.302334</td>\n",
       "      <td>15.219248</td>\n",
       "      <td>79.436111</td>\n",
       "      <td>26.251672</td>\n",
       "      <td>45</td>\n",
       "    </tr>\n",
       "    <tr>\n",
       "      <th>11</th>\n",
       "      <td>12</td>\n",
       "      <td>85.981377</td>\n",
       "      <td>11.289476</td>\n",
       "      <td>94.448887</td>\n",
       "      <td>4.459056</td>\n",
       "      <td>79.109132</td>\n",
       "      <td>22.762186</td>\n",
       "      <td>82.791038</td>\n",
       "      <td>15.791968</td>\n",
       "      <td>53</td>\n",
       "    </tr>\n",
       "  </tbody>\n",
       "</table>\n",
       "</div>"
      ],
      "text/plain": [
       "    months  Combine Score Avg  Combine Score Std    SIC Avg    SIC Std  \\\n",
       "0        1          86.947555          10.319442  94.582711   4.684472   \n",
       "1        2          90.514568          10.278566  96.297409   3.519859   \n",
       "2        3          91.626656           6.122537  96.257499   2.429754   \n",
       "3        4          91.173957           6.146980  94.237319   4.345387   \n",
       "4        5          90.752023           6.681066  91.839387   6.047903   \n",
       "5        6          88.904514           7.354898  88.418378   9.578672   \n",
       "6        7          85.123852          17.647459  86.886770  27.839262   \n",
       "7        8          90.655412           9.335227  92.261907   8.132092   \n",
       "8        9          93.187951           7.805387  95.013866   6.172767   \n",
       "9       10          91.537895          10.292290  93.636403   8.033898   \n",
       "10      11          88.684578          12.341653  93.691022   8.744772   \n",
       "11      12          85.981377          11.289476  94.448887   4.459056   \n",
       "\n",
       "      SOD Avg    SOD Std   FLOE Avg   FLOE Std  sample _number  \n",
       "0   82.984556  18.339640  79.603022  23.688535              45  \n",
       "1   86.821523  17.459269  86.334704  16.396162              44  \n",
       "2   88.528500  11.915263  88.561343   9.222398              32  \n",
       "3   91.601042   9.329425  84.192830  13.639097              47  \n",
       "4   94.645364   7.922273  80.790477  23.007570              44  \n",
       "5   93.844675   6.213994  79.996568  19.109947              37  \n",
       "6   86.948098  13.360567  77.949377  22.293593              61  \n",
       "7   91.251753  11.268376  86.249495  14.698294              97  \n",
       "8   93.436475   8.623779  89.039000  17.836265              82  \n",
       "9   89.762298  14.941117  90.892298  12.031935              67  \n",
       "10  88.302334  15.219248  79.436111  26.251672              45  \n",
       "11  79.109132  22.762186  82.791038  15.791968              53  "
      ]
     },
     "metadata": {},
     "output_type": "display_data"
    },
    {
     "data": {
      "text/html": [
       "<div>\n",
       "<style scoped>\n",
       "    .dataframe tbody tr th:only-of-type {\n",
       "        vertical-align: middle;\n",
       "    }\n",
       "\n",
       "    .dataframe tbody tr th {\n",
       "        vertical-align: top;\n",
       "    }\n",
       "\n",
       "    .dataframe thead th {\n",
       "        text-align: right;\n",
       "    }\n",
       "</style>\n",
       "<table border=\"1\" class=\"dataframe\">\n",
       "  <thead>\n",
       "    <tr style=\"text-align: right;\">\n",
       "      <th></th>\n",
       "      <th>months</th>\n",
       "      <th>Combine Score Avg</th>\n",
       "      <th>Combine Score Std</th>\n",
       "      <th>SIC Avg</th>\n",
       "      <th>SIC Std</th>\n",
       "      <th>SOD Avg</th>\n",
       "      <th>SOD Std</th>\n",
       "      <th>FLOE Avg</th>\n",
       "      <th>FLOE Std</th>\n",
       "      <th>sample _number</th>\n",
       "    </tr>\n",
       "  </thead>\n",
       "  <tbody>\n",
       "    <tr>\n",
       "      <th>0</th>\n",
       "      <td>1</td>\n",
       "      <td>83.766188</td>\n",
       "      <td>12.615618</td>\n",
       "      <td>94.911562</td>\n",
       "      <td>5.033335</td>\n",
       "      <td>76.665422</td>\n",
       "      <td>24.450729</td>\n",
       "      <td>75.676891</td>\n",
       "      <td>27.419392</td>\n",
       "      <td>64</td>\n",
       "    </tr>\n",
       "    <tr>\n",
       "      <th>1</th>\n",
       "      <td>2</td>\n",
       "      <td>91.627828</td>\n",
       "      <td>10.884271</td>\n",
       "      <td>97.067781</td>\n",
       "      <td>2.478622</td>\n",
       "      <td>87.679235</td>\n",
       "      <td>18.634107</td>\n",
       "      <td>88.645203</td>\n",
       "      <td>17.234939</td>\n",
       "      <td>64</td>\n",
       "    </tr>\n",
       "    <tr>\n",
       "      <th>2</th>\n",
       "      <td>3</td>\n",
       "      <td>91.615902</td>\n",
       "      <td>5.734641</td>\n",
       "      <td>95.412686</td>\n",
       "      <td>3.222534</td>\n",
       "      <td>89.424549</td>\n",
       "      <td>10.410970</td>\n",
       "      <td>88.404765</td>\n",
       "      <td>9.513691</td>\n",
       "      <td>51</td>\n",
       "    </tr>\n",
       "    <tr>\n",
       "      <th>3</th>\n",
       "      <td>4</td>\n",
       "      <td>89.506923</td>\n",
       "      <td>7.861134</td>\n",
       "      <td>92.086138</td>\n",
       "      <td>7.991429</td>\n",
       "      <td>89.951631</td>\n",
       "      <td>10.426184</td>\n",
       "      <td>83.458877</td>\n",
       "      <td>13.477869</td>\n",
       "      <td>65</td>\n",
       "    </tr>\n",
       "    <tr>\n",
       "      <th>4</th>\n",
       "      <td>5</td>\n",
       "      <td>91.873224</td>\n",
       "      <td>4.652526</td>\n",
       "      <td>93.224483</td>\n",
       "      <td>3.979543</td>\n",
       "      <td>94.498104</td>\n",
       "      <td>6.978757</td>\n",
       "      <td>83.920948</td>\n",
       "      <td>16.706418</td>\n",
       "      <td>58</td>\n",
       "    </tr>\n",
       "    <tr>\n",
       "      <th>5</th>\n",
       "      <td>6</td>\n",
       "      <td>88.954393</td>\n",
       "      <td>8.564816</td>\n",
       "      <td>87.416750</td>\n",
       "      <td>15.251636</td>\n",
       "      <td>92.657893</td>\n",
       "      <td>6.251611</td>\n",
       "      <td>84.622697</td>\n",
       "      <td>13.521041</td>\n",
       "      <td>56</td>\n",
       "    </tr>\n",
       "    <tr>\n",
       "      <th>6</th>\n",
       "      <td>7</td>\n",
       "      <td>90.856640</td>\n",
       "      <td>7.846388</td>\n",
       "      <td>92.253164</td>\n",
       "      <td>5.597074</td>\n",
       "      <td>92.102197</td>\n",
       "      <td>9.078862</td>\n",
       "      <td>85.572836</td>\n",
       "      <td>14.923382</td>\n",
       "      <td>61</td>\n",
       "    </tr>\n",
       "    <tr>\n",
       "      <th>7</th>\n",
       "      <td>8</td>\n",
       "      <td>91.827198</td>\n",
       "      <td>8.827858</td>\n",
       "      <td>93.572238</td>\n",
       "      <td>6.891212</td>\n",
       "      <td>91.823574</td>\n",
       "      <td>11.771951</td>\n",
       "      <td>88.344436</td>\n",
       "      <td>13.960784</td>\n",
       "      <td>101</td>\n",
       "    </tr>\n",
       "    <tr>\n",
       "      <th>8</th>\n",
       "      <td>9</td>\n",
       "      <td>92.970060</td>\n",
       "      <td>8.957087</td>\n",
       "      <td>94.102607</td>\n",
       "      <td>9.372245</td>\n",
       "      <td>92.628342</td>\n",
       "      <td>9.814157</td>\n",
       "      <td>91.388581</td>\n",
       "      <td>13.125536</td>\n",
       "      <td>117</td>\n",
       "    </tr>\n",
       "    <tr>\n",
       "      <th>9</th>\n",
       "      <td>10</td>\n",
       "      <td>92.214269</td>\n",
       "      <td>11.448151</td>\n",
       "      <td>93.576074</td>\n",
       "      <td>9.289500</td>\n",
       "      <td>91.191895</td>\n",
       "      <td>15.341765</td>\n",
       "      <td>91.535329</td>\n",
       "      <td>12.341848</td>\n",
       "      <td>67</td>\n",
       "    </tr>\n",
       "    <tr>\n",
       "      <th>10</th>\n",
       "      <td>11</td>\n",
       "      <td>90.492661</td>\n",
       "      <td>12.223014</td>\n",
       "      <td>94.931643</td>\n",
       "      <td>8.676409</td>\n",
       "      <td>88.548946</td>\n",
       "      <td>16.954144</td>\n",
       "      <td>85.502393</td>\n",
       "      <td>21.850407</td>\n",
       "      <td>56</td>\n",
       "    </tr>\n",
       "    <tr>\n",
       "      <th>11</th>\n",
       "      <td>12</td>\n",
       "      <td>81.910631</td>\n",
       "      <td>11.726415</td>\n",
       "      <td>93.896000</td>\n",
       "      <td>4.324536</td>\n",
       "      <td>71.790552</td>\n",
       "      <td>24.856764</td>\n",
       "      <td>78.180158</td>\n",
       "      <td>19.245680</td>\n",
       "      <td>38</td>\n",
       "    </tr>\n",
       "  </tbody>\n",
       "</table>\n",
       "</div>"
      ],
      "text/plain": [
       "    months  Combine Score Avg  Combine Score Std    SIC Avg    SIC Std  \\\n",
       "0        1          83.766188          12.615618  94.911562   5.033335   \n",
       "1        2          91.627828          10.884271  97.067781   2.478622   \n",
       "2        3          91.615902           5.734641  95.412686   3.222534   \n",
       "3        4          89.506923           7.861134  92.086138   7.991429   \n",
       "4        5          91.873224           4.652526  93.224483   3.979543   \n",
       "5        6          88.954393           8.564816  87.416750  15.251636   \n",
       "6        7          90.856640           7.846388  92.253164   5.597074   \n",
       "7        8          91.827198           8.827858  93.572238   6.891212   \n",
       "8        9          92.970060           8.957087  94.102607   9.372245   \n",
       "9       10          92.214269          11.448151  93.576074   9.289500   \n",
       "10      11          90.492661          12.223014  94.931643   8.676409   \n",
       "11      12          81.910631          11.726415  93.896000   4.324536   \n",
       "\n",
       "      SOD Avg    SOD Std   FLOE Avg   FLOE Std  sample _number  \n",
       "0   76.665422  24.450729  75.676891  27.419392              64  \n",
       "1   87.679235  18.634107  88.645203  17.234939              64  \n",
       "2   89.424549  10.410970  88.404765   9.513691              51  \n",
       "3   89.951631  10.426184  83.458877  13.477869              65  \n",
       "4   94.498104   6.978757  83.920948  16.706418              58  \n",
       "5   92.657893   6.251611  84.622697  13.521041              56  \n",
       "6   92.102197   9.078862  85.572836  14.923382              61  \n",
       "7   91.823574  11.771951  88.344436  13.960784             101  \n",
       "8   92.628342   9.814157  91.388581  13.125536             117  \n",
       "9   91.191895  15.341765  91.535329  12.341848              67  \n",
       "10  88.548946  16.954144  85.502393  21.850407              56  \n",
       "11  71.790552  24.856764  78.180158  19.245680              38  "
      ]
     },
     "metadata": {},
     "output_type": "display_data"
    },
    {
     "data": {
      "text/html": [
       "<div>\n",
       "<style scoped>\n",
       "    .dataframe tbody tr th:only-of-type {\n",
       "        vertical-align: middle;\n",
       "    }\n",
       "\n",
       "    .dataframe tbody tr th {\n",
       "        vertical-align: top;\n",
       "    }\n",
       "\n",
       "    .dataframe thead th {\n",
       "        text-align: right;\n",
       "    }\n",
       "</style>\n",
       "<table border=\"1\" class=\"dataframe\">\n",
       "  <thead>\n",
       "    <tr style=\"text-align: right;\">\n",
       "      <th></th>\n",
       "      <th>months</th>\n",
       "      <th>Combine Score Avg</th>\n",
       "      <th>Combine Score Std</th>\n",
       "      <th>SIC Avg</th>\n",
       "      <th>SIC Std</th>\n",
       "      <th>SOD Avg</th>\n",
       "      <th>SOD Std</th>\n",
       "      <th>FLOE Avg</th>\n",
       "      <th>FLOE Std</th>\n",
       "      <th>sample _number</th>\n",
       "    </tr>\n",
       "  </thead>\n",
       "  <tbody>\n",
       "    <tr>\n",
       "      <th>0</th>\n",
       "      <td>1</td>\n",
       "      <td>87.211135</td>\n",
       "      <td>10.059675</td>\n",
       "      <td>95.153730</td>\n",
       "      <td>4.668365</td>\n",
       "      <td>83.244243</td>\n",
       "      <td>19.310059</td>\n",
       "      <td>79.259757</td>\n",
       "      <td>23.882316</td>\n",
       "      <td>37</td>\n",
       "    </tr>\n",
       "    <tr>\n",
       "      <th>1</th>\n",
       "      <td>2</td>\n",
       "      <td>89.741175</td>\n",
       "      <td>9.129662</td>\n",
       "      <td>95.496275</td>\n",
       "      <td>3.947979</td>\n",
       "      <td>84.808250</td>\n",
       "      <td>16.607735</td>\n",
       "      <td>88.096975</td>\n",
       "      <td>12.703458</td>\n",
       "      <td>40</td>\n",
       "    </tr>\n",
       "    <tr>\n",
       "      <th>2</th>\n",
       "      <td>3</td>\n",
       "      <td>85.962441</td>\n",
       "      <td>13.601284</td>\n",
       "      <td>93.863353</td>\n",
       "      <td>4.326091</td>\n",
       "      <td>79.228706</td>\n",
       "      <td>25.118239</td>\n",
       "      <td>83.628412</td>\n",
       "      <td>14.869189</td>\n",
       "      <td>34</td>\n",
       "    </tr>\n",
       "    <tr>\n",
       "      <th>3</th>\n",
       "      <td>4</td>\n",
       "      <td>88.716410</td>\n",
       "      <td>8.868981</td>\n",
       "      <td>92.272205</td>\n",
       "      <td>6.325216</td>\n",
       "      <td>88.383026</td>\n",
       "      <td>11.981571</td>\n",
       "      <td>82.270949</td>\n",
       "      <td>14.952926</td>\n",
       "      <td>39</td>\n",
       "    </tr>\n",
       "    <tr>\n",
       "      <th>4</th>\n",
       "      <td>5</td>\n",
       "      <td>90.115635</td>\n",
       "      <td>8.189705</td>\n",
       "      <td>93.084920</td>\n",
       "      <td>4.999324</td>\n",
       "      <td>90.555111</td>\n",
       "      <td>13.159527</td>\n",
       "      <td>83.297952</td>\n",
       "      <td>19.624235</td>\n",
       "      <td>63</td>\n",
       "    </tr>\n",
       "    <tr>\n",
       "      <th>5</th>\n",
       "      <td>6</td>\n",
       "      <td>86.571039</td>\n",
       "      <td>8.448217</td>\n",
       "      <td>88.255346</td>\n",
       "      <td>10.031599</td>\n",
       "      <td>91.010365</td>\n",
       "      <td>8.461812</td>\n",
       "      <td>74.323865</td>\n",
       "      <td>22.189748</td>\n",
       "      <td>52</td>\n",
       "    </tr>\n",
       "    <tr>\n",
       "      <th>6</th>\n",
       "      <td>7</td>\n",
       "      <td>87.189732</td>\n",
       "      <td>19.402209</td>\n",
       "      <td>86.910658</td>\n",
       "      <td>33.388706</td>\n",
       "      <td>89.944927</td>\n",
       "      <td>11.126202</td>\n",
       "      <td>82.237269</td>\n",
       "      <td>20.109641</td>\n",
       "      <td>41</td>\n",
       "    </tr>\n",
       "    <tr>\n",
       "      <th>7</th>\n",
       "      <td>8</td>\n",
       "      <td>90.236707</td>\n",
       "      <td>9.796249</td>\n",
       "      <td>93.391493</td>\n",
       "      <td>6.999474</td>\n",
       "      <td>89.591240</td>\n",
       "      <td>12.466983</td>\n",
       "      <td>85.218280</td>\n",
       "      <td>14.910161</td>\n",
       "      <td>75</td>\n",
       "    </tr>\n",
       "    <tr>\n",
       "      <th>8</th>\n",
       "      <td>9</td>\n",
       "      <td>92.049844</td>\n",
       "      <td>10.184550</td>\n",
       "      <td>93.610078</td>\n",
       "      <td>8.982735</td>\n",
       "      <td>91.391478</td>\n",
       "      <td>12.069914</td>\n",
       "      <td>90.246177</td>\n",
       "      <td>14.689743</td>\n",
       "      <td>90</td>\n",
       "    </tr>\n",
       "    <tr>\n",
       "      <th>9</th>\n",
       "      <td>10</td>\n",
       "      <td>91.313536</td>\n",
       "      <td>10.045833</td>\n",
       "      <td>91.905999</td>\n",
       "      <td>10.119899</td>\n",
       "      <td>90.591339</td>\n",
       "      <td>11.998312</td>\n",
       "      <td>91.573214</td>\n",
       "      <td>10.720703</td>\n",
       "      <td>56</td>\n",
       "    </tr>\n",
       "    <tr>\n",
       "      <th>10</th>\n",
       "      <td>11</td>\n",
       "      <td>88.905237</td>\n",
       "      <td>13.334727</td>\n",
       "      <td>94.169475</td>\n",
       "      <td>8.729703</td>\n",
       "      <td>87.107050</td>\n",
       "      <td>17.705044</td>\n",
       "      <td>81.973085</td>\n",
       "      <td>24.900706</td>\n",
       "      <td>59</td>\n",
       "    </tr>\n",
       "    <tr>\n",
       "      <th>11</th>\n",
       "      <td>12</td>\n",
       "      <td>86.440189</td>\n",
       "      <td>12.528939</td>\n",
       "      <td>95.329000</td>\n",
       "      <td>3.782967</td>\n",
       "      <td>77.422830</td>\n",
       "      <td>26.456590</td>\n",
       "      <td>86.697414</td>\n",
       "      <td>14.329933</td>\n",
       "      <td>53</td>\n",
       "    </tr>\n",
       "  </tbody>\n",
       "</table>\n",
       "</div>"
      ],
      "text/plain": [
       "    months  Combine Score Avg  Combine Score Std    SIC Avg    SIC Std  \\\n",
       "0        1          87.211135          10.059675  95.153730   4.668365   \n",
       "1        2          89.741175           9.129662  95.496275   3.947979   \n",
       "2        3          85.962441          13.601284  93.863353   4.326091   \n",
       "3        4          88.716410           8.868981  92.272205   6.325216   \n",
       "4        5          90.115635           8.189705  93.084920   4.999324   \n",
       "5        6          86.571039           8.448217  88.255346  10.031599   \n",
       "6        7          87.189732          19.402209  86.910658  33.388706   \n",
       "7        8          90.236707           9.796249  93.391493   6.999474   \n",
       "8        9          92.049844          10.184550  93.610078   8.982735   \n",
       "9       10          91.313536          10.045833  91.905999  10.119899   \n",
       "10      11          88.905237          13.334727  94.169475   8.729703   \n",
       "11      12          86.440189          12.528939  95.329000   3.782967   \n",
       "\n",
       "      SOD Avg    SOD Std   FLOE Avg   FLOE Std  sample _number  \n",
       "0   83.244243  19.310059  79.259757  23.882316              37  \n",
       "1   84.808250  16.607735  88.096975  12.703458              40  \n",
       "2   79.228706  25.118239  83.628412  14.869189              34  \n",
       "3   88.383026  11.981571  82.270949  14.952926              39  \n",
       "4   90.555111  13.159527  83.297952  19.624235              63  \n",
       "5   91.010365   8.461812  74.323865  22.189748              52  \n",
       "6   89.944927  11.126202  82.237269  20.109641              41  \n",
       "7   89.591240  12.466983  85.218280  14.910161              75  \n",
       "8   91.391478  12.069914  90.246177  14.689743              90  \n",
       "9   90.591339  11.998312  91.573214  10.720703              56  \n",
       "10  87.107050  17.705044  81.973085  24.900706              59  \n",
       "11  77.422830  26.456590  86.697414  14.329933              53  "
      ]
     },
     "metadata": {},
     "output_type": "display_data"
    },
    {
     "data": {
      "image/png": "[encoded data removed]",
      "text/plain": [
       "<Figure size 1500x1500 with 4 Axes>"
      ]
     },
     "metadata": {},
     "output_type": "display_data"
    }
   ],
   "source": [
    "df_base = convert_to_df(base_mean_dic)\n",
    "display(df_base)\n",
    "\n",
    "\n",
    "df_remove_time = convert_to_df(remove_time_mean_dic)\n",
    "display(df_remove_time)\n",
    "\n",
    "\n",
    "df_remove_time_location = convert_to_df(remove_time_location_mean_dic)\n",
    "display(df_remove_time_location)\n",
    "\n",
    "\n",
    "\n",
    "bar_width = 0.25\n",
    "\n",
    "\n",
    "x =  np.arange(len(df_base['months'].tolist()))\n",
    "\n",
    "\n",
    "\n",
    "fig, axs = plt.subplots(4, 1, figsize=(15,15))\n",
    "fig.suptitle('Validation performace per month with and without time')\n",
    "\n",
    "bp1 = axs[0].boxplot(base_mean_dic['Combine Score']['array'],positions=x-1.2*bar_width, widths=bar_width, patch_artist=True,\n",
    "               showmeans=True,meanline='True', boxprops=dict(facecolor='lightblue'))\n",
    "bp2 = axs[0].boxplot(remove_time_mean_dic['Combine Score']['array'],positions=x+0.0*bar_width, widths=bar_width, patch_artist=True,\n",
    "               showmeans=True, meanline='True', boxprops=dict(facecolor='orangered'))\n",
    "bp3 = axs[0].boxplot(remove_time_location_mean_dic['Combine Score']['array'],positions=x+1.2*bar_width, widths=bar_width, patch_artist=True,\n",
    "               showmeans=True, meanline='True', boxprops=dict(facecolor='purple'))\n",
    "\n",
    "axs[0].set_xticks(x,labels=['Jan','Feb','Mar','Apr','May','Jun','Jul','Aug','Sept','Oct','Nov','Dec'])\n",
    "axs[0].set_title('Combine Score')\n",
    "\n",
    "axs[1].boxplot(base_mean_dic['FLOE']['array'],positions=x-1.2*bar_width, widths=bar_width, \n",
    "               showmeans=True, meanline='True', patch_artist=True, boxprops=dict(facecolor='lightblue'))\n",
    "axs[1].boxplot(remove_time_mean_dic['FLOE']['array'],positions=x+0.0*bar_width, widths=bar_width,\n",
    "               showmeans=True,meanline='True', patch_artist=True, boxprops=dict(facecolor='orangered'))\n",
    "axs[1].boxplot(remove_time_location_mean_dic['FLOE']['array'],positions=x+1.2*bar_width, widths=bar_width,\n",
    "               showmeans=True,meanline='True', patch_artist=True, boxprops=dict(facecolor='purple'))\n",
    "\n",
    "axs[1].set_xticks(x,labels=['Jan','Feb','Mar','Apr','May','Jun','Jul','Aug','Sept','Oct','Nov','Dec'])\n",
    "axs[1].set_title('FLOE')\n",
    "\n",
    "axs[2].boxplot(base_mean_dic['SIC']['array'],positions=x-1.2*bar_width, widths=bar_width, \n",
    "               showmeans=True, meanline='True', patch_artist=True, boxprops=dict(facecolor='lightblue'))\n",
    "axs[2].boxplot(remove_time_mean_dic['SIC']['array'],positions=x+0.0*bar_width, widths=bar_width,\n",
    "               showmeans=True,meanline='True', patch_artist=True, boxprops=dict(facecolor='orangered'))\n",
    "axs[2].boxplot(remove_time_location_mean_dic['SIC']['array'],positions=x+1.2*bar_width, widths=bar_width,\n",
    "               showmeans=True,meanline='True', patch_artist=True, boxprops=dict(facecolor='purple'))\n",
    "\n",
    "axs[2].set_xticks(x,labels=['Jan','Feb','Mar','Apr','May','Jun','Jul','Aug','Sept','Oct','Nov','Dec'])\n",
    "axs[2].set_title('SIC')\n",
    "\n",
    "\n",
    "axs[3].boxplot(base_mean_dic['SOD']['array'],positions=x-1.2*bar_width, widths=bar_width, \n",
    "               showmeans=True, meanline='True', patch_artist=True, boxprops=dict(facecolor='lightblue'))\n",
    "axs[3].boxplot(remove_time_mean_dic['SOD']['array'],positions=x+0.0*bar_width, widths=bar_width,\n",
    "               showmeans=True,meanline='True', patch_artist=True, boxprops=dict(facecolor='orangered'))\n",
    "axs[3].boxplot(remove_time_location_mean_dic['SOD']['array'],positions=x+1.2*bar_width, widths=bar_width,\n",
    "               showmeans=True,meanline='True', patch_artist=True, boxprops=dict(facecolor='purple'))\n",
    "\n",
    "axs[3].set_xticks(x,labels=['Jan','Feb','Mar','Apr','May','Jun','Jul','Aug','Sept','Oct','Nov','Dec'])\n",
    "axs[3].set_title('SOD')\n",
    "\n",
    "handles, labels = axs[0].get_legend_handles_labels()\n",
    "fig.legend([bp1[\"boxes\"][0], bp2[\"boxes\"][0], bp3[\"boxes\"][0]], ['All', 'Remove Time', 'Remove Time Location'],ncols=2,loc='outside upper right')\n",
    "\n",
    "plt.show()"
   ]
  },
  {
   "cell_type": "code",
   "execution_count": 4,
   "metadata": {},
   "outputs": [
    {
     "name": "stderr",
     "output_type": "stream",
     "text": [
      "\u001b[34m\u001b[1mwandb\u001b[0m:   1 of 1 files downloaded.  \n"
     ]
    },
    {
     "name": "stdout",
     "output_type": "stream",
     "text": [
      "appended val table\n"
     ]
    },
    {
     "name": "stderr",
     "output_type": "stream",
     "text": [
      "\u001b[34m\u001b[1mwandb\u001b[0m:   1 of 1 files downloaded.  \n"
     ]
    },
    {
     "name": "stdout",
     "output_type": "stream",
     "text": [
      "appended val table\n"
     ]
    },
    {
     "name": "stderr",
     "output_type": "stream",
     "text": [
      "\u001b[34m\u001b[1mwandb\u001b[0m:   1 of 1 files downloaded.  \n"
     ]
    },
    {
     "name": "stdout",
     "output_type": "stream",
     "text": [
      "appended val table\n"
     ]
    },
    {
     "name": "stderr",
     "output_type": "stream",
     "text": [
      "\u001b[34m\u001b[1mwandb\u001b[0m:   1 of 1 files downloaded.  \n"
     ]
    },
    {
     "name": "stdout",
     "output_type": "stream",
     "text": [
      "appended val table\n"
     ]
    },
    {
     "name": "stderr",
     "output_type": "stream",
     "text": [
      "\u001b[34m\u001b[1mwandb\u001b[0m:   1 of 1 files downloaded.  \n"
     ]
    },
    {
     "name": "stdout",
     "output_type": "stream",
     "text": [
      "appended val table\n"
     ]
    },
    {
     "name": "stderr",
     "output_type": "stream",
     "text": [
      "\u001b[34m\u001b[1mwandb\u001b[0m:   1 of 1 files downloaded.  \n"
     ]
    },
    {
     "name": "stdout",
     "output_type": "stream",
     "text": [
      "appended val table\n"
     ]
    },
    {
     "name": "stderr",
     "output_type": "stream",
     "text": [
      "\u001b[34m\u001b[1mwandb\u001b[0m:   1 of 1 files downloaded.  \n"
     ]
    },
    {
     "name": "stdout",
     "output_type": "stream",
     "text": [
      "appended val table\n"
     ]
    },
    {
     "name": "stderr",
     "output_type": "stream",
     "text": [
      "\u001b[34m\u001b[1mwandb\u001b[0m:   1 of 1 files downloaded.  \n"
     ]
    },
    {
     "name": "stdout",
     "output_type": "stream",
     "text": [
      "appended val table\n"
     ]
    },
    {
     "name": "stderr",
     "output_type": "stream",
     "text": [
      "\u001b[34m\u001b[1mwandb\u001b[0m:   1 of 1 files downloaded.  \n"
     ]
    },
    {
     "name": "stdout",
     "output_type": "stream",
     "text": [
      "appended val table\n"
     ]
    },
    {
     "name": "stderr",
     "output_type": "stream",
     "text": [
      "\u001b[34m\u001b[1mwandb\u001b[0m:   1 of 1 files downloaded.  \n"
     ]
    },
    {
     "name": "stdout",
     "output_type": "stream",
     "text": [
      "appended val table\n"
     ]
    },
    {
     "name": "stderr",
     "output_type": "stream",
     "text": [
      "\u001b[34m\u001b[1mwandb\u001b[0m:   1 of 1 files downloaded.  \n"
     ]
    },
    {
     "name": "stdout",
     "output_type": "stream",
     "text": [
      "appended val table\n"
     ]
    },
    {
     "name": "stderr",
     "output_type": "stream",
     "text": [
      "\u001b[34m\u001b[1mwandb\u001b[0m:   1 of 1 files downloaded.  \n"
     ]
    },
    {
     "name": "stdout",
     "output_type": "stream",
     "text": [
      "appended val table\n"
     ]
    },
    {
     "name": "stderr",
     "output_type": "stream",
     "text": [
      "\u001b[34m\u001b[1mwandb\u001b[0m:   1 of 1 files downloaded.  \n"
     ]
    },
    {
     "name": "stdout",
     "output_type": "stream",
     "text": [
      "appended val table\n"
     ]
    },
    {
     "name": "stderr",
     "output_type": "stream",
     "text": [
      "\u001b[34m\u001b[1mwandb\u001b[0m:   1 of 1 files downloaded.  \n"
     ]
    },
    {
     "name": "stdout",
     "output_type": "stream",
     "text": [
      "appended val table\n"
     ]
    },
    {
     "name": "stderr",
     "output_type": "stream",
     "text": [
      "\u001b[34m\u001b[1mwandb\u001b[0m:   1 of 1 files downloaded.  \n"
     ]
    },
    {
     "name": "stdout",
     "output_type": "stream",
     "text": [
      "appended val table\n"
     ]
    },
    {
     "name": "stderr",
     "output_type": "stream",
     "text": [
      "\u001b[34m\u001b[1mwandb\u001b[0m:   1 of 1 files downloaded.  \n"
     ]
    },
    {
     "name": "stdout",
     "output_type": "stream",
     "text": [
      "appended val table\n"
     ]
    },
    {
     "name": "stderr",
     "output_type": "stream",
     "text": [
      "\u001b[34m\u001b[1mwandb\u001b[0m:   1 of 1 files downloaded.  \n"
     ]
    },
    {
     "name": "stdout",
     "output_type": "stream",
     "text": [
      "appended val table\n"
     ]
    },
    {
     "name": "stderr",
     "output_type": "stream",
     "text": [
      "\u001b[34m\u001b[1mwandb\u001b[0m:   1 of 1 files downloaded.  \n"
     ]
    },
    {
     "name": "stdout",
     "output_type": "stream",
     "text": [
      "appended val table\n"
     ]
    },
    {
     "name": "stderr",
     "output_type": "stream",
     "text": [
      "\u001b[34m\u001b[1mwandb\u001b[0m:   1 of 1 files downloaded.  \n"
     ]
    },
    {
     "name": "stdout",
     "output_type": "stream",
     "text": [
      "appended val table\n"
     ]
    },
    {
     "name": "stderr",
     "output_type": "stream",
     "text": [
      "\u001b[34m\u001b[1mwandb\u001b[0m:   1 of 1 files downloaded.  \n"
     ]
    },
    {
     "name": "stdout",
     "output_type": "stream",
     "text": [
      "appended val table\n"
     ]
    },
    {
     "name": "stderr",
     "output_type": "stream",
     "text": [
      "\u001b[34m\u001b[1mwandb\u001b[0m:   1 of 1 files downloaded.  \n"
     ]
    },
    {
     "name": "stdout",
     "output_type": "stream",
     "text": [
      "appended val table\n"
     ]
    },
    {
     "name": "stderr",
     "output_type": "stream",
     "text": [
      "\u001b[34m\u001b[1mwandb\u001b[0m:   1 of 1 files downloaded.  \n"
     ]
    },
    {
     "name": "stdout",
     "output_type": "stream",
     "text": [
      "appended val table\n"
     ]
    },
    {
     "name": "stderr",
     "output_type": "stream",
     "text": [
      "\u001b[34m\u001b[1mwandb\u001b[0m:   1 of 1 files downloaded.  \n"
     ]
    },
    {
     "name": "stdout",
     "output_type": "stream",
     "text": [
      "appended val table\n"
     ]
    },
    {
     "name": "stderr",
     "output_type": "stream",
     "text": [
      "\u001b[34m\u001b[1mwandb\u001b[0m:   1 of 1 files downloaded.  \n"
     ]
    },
    {
     "name": "stdout",
     "output_type": "stream",
     "text": [
      "appended val table\n"
     ]
    },
    {
     "name": "stderr",
     "output_type": "stream",
     "text": [
      "\u001b[34m\u001b[1mwandb\u001b[0m:   1 of 1 files downloaded.  \n"
     ]
    },
    {
     "name": "stdout",
     "output_type": "stream",
     "text": [
      "appended val table\n"
     ]
    },
    {
     "name": "stderr",
     "output_type": "stream",
     "text": [
      "\u001b[34m\u001b[1mwandb\u001b[0m:   1 of 1 files downloaded.  \n"
     ]
    },
    {
     "name": "stdout",
     "output_type": "stream",
     "text": [
      "appended val table\n"
     ]
    },
    {
     "name": "stderr",
     "output_type": "stream",
     "text": [
      "\u001b[34m\u001b[1mwandb\u001b[0m:   1 of 1 files downloaded.  \n"
     ]
    },
    {
     "name": "stdout",
     "output_type": "stream",
     "text": [
      "appended val table\n"
     ]
    },
    {
     "name": "stderr",
     "output_type": "stream",
     "text": [
      "\u001b[34m\u001b[1mwandb\u001b[0m:   1 of 1 files downloaded.  \n"
     ]
    },
    {
     "name": "stdout",
     "output_type": "stream",
     "text": [
      "appended val table\n"
     ]
    },
    {
     "name": "stderr",
     "output_type": "stream",
     "text": [
      "\u001b[34m\u001b[1mwandb\u001b[0m:   1 of 1 files downloaded.  \n"
     ]
    },
    {
     "name": "stdout",
     "output_type": "stream",
     "text": [
      "appended val table\n"
     ]
    },
    {
     "name": "stderr",
     "output_type": "stream",
     "text": [
      "\u001b[34m\u001b[1mwandb\u001b[0m:   1 of 1 files downloaded.  \n"
     ]
    },
    {
     "name": "stdout",
     "output_type": "stream",
     "text": [
      "appended val table\n"
     ]
    },
    {
     "name": "stderr",
     "output_type": "stream",
     "text": [
      "\u001b[34m\u001b[1mwandb\u001b[0m:   1 of 1 files downloaded.  \n"
     ]
    },
    {
     "name": "stdout",
     "output_type": "stream",
     "text": [
      "appended val table\n"
     ]
    },
    {
     "name": "stderr",
     "output_type": "stream",
     "text": [
      "\u001b[34m\u001b[1mwandb\u001b[0m:   1 of 1 files downloaded.  \n"
     ]
    },
    {
     "name": "stdout",
     "output_type": "stream",
     "text": [
      "appended val table\n"
     ]
    },
    {
     "name": "stderr",
     "output_type": "stream",
     "text": [
      "\u001b[34m\u001b[1mwandb\u001b[0m:   1 of 1 files downloaded.  \n"
     ]
    },
    {
     "name": "stdout",
     "output_type": "stream",
     "text": [
      "appended val table\n"
     ]
    },
    {
     "name": "stderr",
     "output_type": "stream",
     "text": [
      "\u001b[34m\u001b[1mwandb\u001b[0m:   1 of 1 files downloaded.  \n"
     ]
    },
    {
     "name": "stdout",
     "output_type": "stream",
     "text": [
      "appended val table\n"
     ]
    },
    {
     "name": "stderr",
     "output_type": "stream",
     "text": [
      "\u001b[34m\u001b[1mwandb\u001b[0m:   1 of 1 files downloaded.  \n"
     ]
    },
    {
     "name": "stdout",
     "output_type": "stream",
     "text": [
      "appended val table\n"
     ]
    },
    {
     "name": "stderr",
     "output_type": "stream",
     "text": [
      "\u001b[34m\u001b[1mwandb\u001b[0m:   1 of 1 files downloaded.  \n"
     ]
    },
    {
     "name": "stdout",
     "output_type": "stream",
     "text": [
      "appended val table\n"
     ]
    },
    {
     "name": "stderr",
     "output_type": "stream",
     "text": [
      "\u001b[34m\u001b[1mwandb\u001b[0m:   1 of 1 files downloaded.  \n"
     ]
    },
    {
     "name": "stdout",
     "output_type": "stream",
     "text": [
      "appended val table\n"
     ]
    },
    {
     "name": "stderr",
     "output_type": "stream",
     "text": [
      "\u001b[34m\u001b[1mwandb\u001b[0m:   1 of 1 files downloaded.  \n"
     ]
    },
    {
     "name": "stdout",
     "output_type": "stream",
     "text": [
      "appended val table\n"
     ]
    },
    {
     "name": "stderr",
     "output_type": "stream",
     "text": [
      "\u001b[34m\u001b[1mwandb\u001b[0m:   1 of 1 files downloaded.  \n"
     ]
    },
    {
     "name": "stdout",
     "output_type": "stream",
     "text": [
      "appended val table\n"
     ]
    },
    {
     "name": "stderr",
     "output_type": "stream",
     "text": [
      "\u001b[34m\u001b[1mwandb\u001b[0m:   1 of 1 files downloaded.  \n"
     ]
    },
    {
     "name": "stdout",
     "output_type": "stream",
     "text": [
      "appended val table\n"
     ]
    },
    {
     "name": "stderr",
     "output_type": "stream",
     "text": [
      "\u001b[34m\u001b[1mwandb\u001b[0m:   1 of 1 files downloaded.  \n"
     ]
    },
    {
     "name": "stdout",
     "output_type": "stream",
     "text": [
      "appended val table\n"
     ]
    },
    {
     "name": "stderr",
     "output_type": "stream",
     "text": [
      "\u001b[34m\u001b[1mwandb\u001b[0m:   1 of 1 files downloaded.  \n"
     ]
    },
    {
     "name": "stdout",
     "output_type": "stream",
     "text": [
      "appended val table\n"
     ]
    },
    {
     "name": "stderr",
     "output_type": "stream",
     "text": [
      "\u001b[34m\u001b[1mwandb\u001b[0m:   1 of 1 files downloaded.  \n"
     ]
    },
    {
     "name": "stdout",
     "output_type": "stream",
     "text": [
      "appended val table\n"
     ]
    },
    {
     "name": "stderr",
     "output_type": "stream",
     "text": [
      "\u001b[34m\u001b[1mwandb\u001b[0m:   1 of 1 files downloaded.  \n"
     ]
    },
    {
     "name": "stdout",
     "output_type": "stream",
     "text": [
      "appended val table\n"
     ]
    },
    {
     "name": "stderr",
     "output_type": "stream",
     "text": [
      "\u001b[34m\u001b[1mwandb\u001b[0m:   1 of 1 files downloaded.  \n"
     ]
    },
    {
     "name": "stdout",
     "output_type": "stream",
     "text": [
      "appended val table\n"
     ]
    },
    {
     "name": "stderr",
     "output_type": "stream",
     "text": [
      "\u001b[34m\u001b[1mwandb\u001b[0m:   1 of 1 files downloaded.  \n"
     ]
    },
    {
     "name": "stdout",
     "output_type": "stream",
     "text": [
      "appended val table\n"
     ]
    },
    {
     "name": "stderr",
     "output_type": "stream",
     "text": [
      "\u001b[34m\u001b[1mwandb\u001b[0m:   1 of 1 files downloaded.  \n"
     ]
    },
    {
     "name": "stdout",
     "output_type": "stream",
     "text": [
      "appended val table\n"
     ]
    },
    {
     "name": "stderr",
     "output_type": "stream",
     "text": [
      "\u001b[34m\u001b[1mwandb\u001b[0m:   1 of 1 files downloaded.  \n"
     ]
    },
    {
     "name": "stdout",
     "output_type": "stream",
     "text": [
      "appended val table\n"
     ]
    },
    {
     "name": "stderr",
     "output_type": "stream",
     "text": [
      "\u001b[34m\u001b[1mwandb\u001b[0m:   1 of 1 files downloaded.  \n"
     ]
    },
    {
     "name": "stdout",
     "output_type": "stream",
     "text": [
      "appended val table\n"
     ]
    },
    {
     "name": "stderr",
     "output_type": "stream",
     "text": [
      "\u001b[34m\u001b[1mwandb\u001b[0m:   1 of 1 files downloaded.  \n"
     ]
    },
    {
     "name": "stdout",
     "output_type": "stream",
     "text": [
      "appended val table\n"
     ]
    },
    {
     "name": "stderr",
     "output_type": "stream",
     "text": [
      "\u001b[34m\u001b[1mwandb\u001b[0m:   1 of 1 files downloaded.  \n"
     ]
    },
    {
     "name": "stdout",
     "output_type": "stream",
     "text": [
      "appended val table\n"
     ]
    },
    {
     "name": "stderr",
     "output_type": "stream",
     "text": [
      "\u001b[34m\u001b[1mwandb\u001b[0m:   1 of 1 files downloaded.  \n"
     ]
    },
    {
     "name": "stdout",
     "output_type": "stream",
     "text": [
      "appended val table\n"
     ]
    },
    {
     "name": "stderr",
     "output_type": "stream",
     "text": [
      "\u001b[34m\u001b[1mwandb\u001b[0m:   1 of 1 files downloaded.  \n"
     ]
    },
    {
     "name": "stdout",
     "output_type": "stream",
     "text": [
      "appended val table\n"
     ]
    },
    {
     "name": "stderr",
     "output_type": "stream",
     "text": [
      "\u001b[34m\u001b[1mwandb\u001b[0m:   1 of 1 files downloaded.  \n"
     ]
    },
    {
     "name": "stdout",
     "output_type": "stream",
     "text": [
      "appended val table\n"
     ]
    },
    {
     "name": "stderr",
     "output_type": "stream",
     "text": [
      "\u001b[34m\u001b[1mwandb\u001b[0m:   1 of 1 files downloaded.  \n"
     ]
    },
    {
     "name": "stdout",
     "output_type": "stream",
     "text": [
      "appended val table\n"
     ]
    },
    {
     "name": "stderr",
     "output_type": "stream",
     "text": [
      "\u001b[34m\u001b[1mwandb\u001b[0m:   1 of 1 files downloaded.  \n"
     ]
    },
    {
     "name": "stdout",
     "output_type": "stream",
     "text": [
      "appended val table\n"
     ]
    },
    {
     "name": "stderr",
     "output_type": "stream",
     "text": [
      "\u001b[34m\u001b[1mwandb\u001b[0m:   1 of 1 files downloaded.  \n"
     ]
    },
    {
     "name": "stdout",
     "output_type": "stream",
     "text": [
      "appended val table\n"
     ]
    },
    {
     "name": "stderr",
     "output_type": "stream",
     "text": [
      "\u001b[34m\u001b[1mwandb\u001b[0m:   1 of 1 files downloaded.  \n"
     ]
    },
    {
     "name": "stdout",
     "output_type": "stream",
     "text": [
      "appended val table\n"
     ]
    },
    {
     "name": "stderr",
     "output_type": "stream",
     "text": [
      "\u001b[34m\u001b[1mwandb\u001b[0m:   1 of 1 files downloaded.  \n"
     ]
    },
    {
     "name": "stdout",
     "output_type": "stream",
     "text": [
      "appended val table\n"
     ]
    },
    {
     "name": "stderr",
     "output_type": "stream",
     "text": [
      "\u001b[34m\u001b[1mwandb\u001b[0m:   1 of 1 files downloaded.  \n"
     ]
    },
    {
     "name": "stdout",
     "output_type": "stream",
     "text": [
      "appended val table\n"
     ]
    },
    {
     "name": "stderr",
     "output_type": "stream",
     "text": [
      "\u001b[34m\u001b[1mwandb\u001b[0m:   1 of 1 files downloaded.  \n"
     ]
    },
    {
     "name": "stdout",
     "output_type": "stream",
     "text": [
      "appended val table\n"
     ]
    },
    {
     "name": "stderr",
     "output_type": "stream",
     "text": [
      "\u001b[34m\u001b[1mwandb\u001b[0m:   1 of 1 files downloaded.  \n"
     ]
    },
    {
     "name": "stdout",
     "output_type": "stream",
     "text": [
      "appended val table\n"
     ]
    },
    {
     "name": "stderr",
     "output_type": "stream",
     "text": [
      "\u001b[34m\u001b[1mwandb\u001b[0m:   1 of 1 files downloaded.  \n"
     ]
    },
    {
     "name": "stdout",
     "output_type": "stream",
     "text": [
      "appended val table\n"
     ]
    },
    {
     "name": "stderr",
     "output_type": "stream",
     "text": [
      "\u001b[34m\u001b[1mwandb\u001b[0m:   1 of 1 files downloaded.  \n"
     ]
    },
    {
     "name": "stdout",
     "output_type": "stream",
     "text": [
      "appended val table\n"
     ]
    },
    {
     "name": "stderr",
     "output_type": "stream",
     "text": [
      "\u001b[34m\u001b[1mwandb\u001b[0m:   1 of 1 files downloaded.  \n"
     ]
    },
    {
     "name": "stdout",
     "output_type": "stream",
     "text": [
      "appended val table\n"
     ]
    },
    {
     "name": "stderr",
     "output_type": "stream",
     "text": [
      "\u001b[34m\u001b[1mwandb\u001b[0m:   1 of 1 files downloaded.  \n"
     ]
    },
    {
     "name": "stdout",
     "output_type": "stream",
     "text": [
      "appended val table\n"
     ]
    },
    {
     "name": "stderr",
     "output_type": "stream",
     "text": [
      "\u001b[34m\u001b[1mwandb\u001b[0m:   1 of 1 files downloaded.  \n"
     ]
    },
    {
     "name": "stdout",
     "output_type": "stream",
     "text": [
      "appended val table\n"
     ]
    },
    {
     "name": "stderr",
     "output_type": "stream",
     "text": [
      "\u001b[34m\u001b[1mwandb\u001b[0m:   1 of 1 files downloaded.  \n"
     ]
    },
    {
     "name": "stdout",
     "output_type": "stream",
     "text": [
      "appended val table\n"
     ]
    },
    {
     "name": "stderr",
     "output_type": "stream",
     "text": [
      "\u001b[34m\u001b[1mwandb\u001b[0m:   1 of 1 files downloaded.  \n"
     ]
    },
    {
     "name": "stdout",
     "output_type": "stream",
     "text": [
      "appended val table\n"
     ]
    },
    {
     "name": "stderr",
     "output_type": "stream",
     "text": [
      "\u001b[34m\u001b[1mwandb\u001b[0m:   1 of 1 files downloaded.  \n"
     ]
    },
    {
     "name": "stdout",
     "output_type": "stream",
     "text": [
      "appended val table\n"
     ]
    },
    {
     "name": "stderr",
     "output_type": "stream",
     "text": [
      "\u001b[34m\u001b[1mwandb\u001b[0m:   1 of 1 files downloaded.  \n"
     ]
    },
    {
     "name": "stdout",
     "output_type": "stream",
     "text": [
      "appended val table\n"
     ]
    },
    {
     "name": "stderr",
     "output_type": "stream",
     "text": [
      "\u001b[34m\u001b[1mwandb\u001b[0m:   1 of 1 files downloaded.  \n"
     ]
    },
    {
     "name": "stdout",
     "output_type": "stream",
     "text": [
      "appended val table\n"
     ]
    },
    {
     "name": "stderr",
     "output_type": "stream",
     "text": [
      "\u001b[34m\u001b[1mwandb\u001b[0m:   1 of 1 files downloaded.  \n"
     ]
    },
    {
     "name": "stdout",
     "output_type": "stream",
     "text": [
      "appended val table\n"
     ]
    }
   ],
   "source": [
    "\n",
    "path = 'ai4arctic/feature_selection_rerun_inference'\n",
    "group = 'rerun_base'\n",
    "\n",
    "base_mean_dic, base_relative_mean_dic = performace_per_month(path,group)\n",
    "\n",
    "\n",
    "path = 'ai4arctic/feature_selection_rerun_inference'\n",
    "group = 'remove_amsr2'\n",
    "\n",
    "remove_amsr2_mean_dic, remove_amsr2_relative_mean_dic = performace_per_month(path,group)\n",
    "\n",
    "\n",
    "# path = 'ai4arctic/feature_selection_time_rerun'\n",
    "# group = 'HH_HV_Time'\n",
    "\n",
    "# Time_mean_dic, Time_relative_mean_dic = performace_per_month(path,group)\n",
    "\n",
    "\n",
    "# path = 'ai4arctic/feature_selection_base'\n",
    "# group = 'HH_HV_Time_Location'\n",
    "\n",
    "# Time_Location_mean_dic, Time_Location_relative_mean_dic = performace_per_month(path,group)"
   ]
  },
  {
   "cell_type": "code",
   "execution_count": null,
   "metadata": {},
   "outputs": [],
   "source": [
    "\n",
    "df_base = convert_to_df(base_mean_dic)\n",
    "display(df_base)\n",
    "\n",
    "\n",
    "df_remove_amsr2 = convert_to_df(remove_amsr2_mean_dic)\n",
    "display(df_remove_amsr2)"
   ]
  },
  {
   "cell_type": "code",
   "execution_count": 3,
   "metadata": {},
   "outputs": [
    {
     "name": "stderr",
     "output_type": "stream",
     "text": [
      "\u001b[34m\u001b[1mwandb\u001b[0m:   1 of 1 files downloaded.  \n"
     ]
    },
    {
     "name": "stdout",
     "output_type": "stream",
     "text": [
      "appended val table\n"
     ]
    },
    {
     "name": "stderr",
     "output_type": "stream",
     "text": [
      "\u001b[34m\u001b[1mwandb\u001b[0m:   1 of 1 files downloaded.  \n"
     ]
    },
    {
     "name": "stdout",
     "output_type": "stream",
     "text": [
      "appended val table\n"
     ]
    },
    {
     "name": "stderr",
     "output_type": "stream",
     "text": [
      "\u001b[34m\u001b[1mwandb\u001b[0m:   1 of 1 files downloaded.  \n"
     ]
    },
    {
     "name": "stdout",
     "output_type": "stream",
     "text": [
      "appended val table\n"
     ]
    },
    {
     "name": "stderr",
     "output_type": "stream",
     "text": [
      "\u001b[34m\u001b[1mwandb\u001b[0m:   1 of 1 files downloaded.  \n"
     ]
    },
    {
     "name": "stdout",
     "output_type": "stream",
     "text": [
      "appended val table\n"
     ]
    },
    {
     "name": "stderr",
     "output_type": "stream",
     "text": [
      "\u001b[34m\u001b[1mwandb\u001b[0m:   1 of 1 files downloaded.  \n"
     ]
    },
    {
     "name": "stdout",
     "output_type": "stream",
     "text": [
      "appended val table\n"
     ]
    },
    {
     "name": "stderr",
     "output_type": "stream",
     "text": [
      "\u001b[34m\u001b[1mwandb\u001b[0m:   1 of 1 files downloaded.  \n"
     ]
    },
    {
     "name": "stdout",
     "output_type": "stream",
     "text": [
      "appended val table\n"
     ]
    },
    {
     "name": "stderr",
     "output_type": "stream",
     "text": [
      "\u001b[34m\u001b[1mwandb\u001b[0m:   1 of 1 files downloaded.  \n"
     ]
    },
    {
     "name": "stdout",
     "output_type": "stream",
     "text": [
      "appended val table\n"
     ]
    },
    {
     "name": "stderr",
     "output_type": "stream",
     "text": [
      "\u001b[34m\u001b[1mwandb\u001b[0m:   1 of 1 files downloaded.  \n"
     ]
    },
    {
     "name": "stdout",
     "output_type": "stream",
     "text": [
      "appended val table\n"
     ]
    },
    {
     "name": "stderr",
     "output_type": "stream",
     "text": [
      "\u001b[34m\u001b[1mwandb\u001b[0m:   1 of 1 files downloaded.  \n"
     ]
    },
    {
     "name": "stdout",
     "output_type": "stream",
     "text": [
      "appended val table\n"
     ]
    },
    {
     "name": "stderr",
     "output_type": "stream",
     "text": [
      "\u001b[34m\u001b[1mwandb\u001b[0m:   1 of 1 files downloaded.  \n"
     ]
    },
    {
     "name": "stdout",
     "output_type": "stream",
     "text": [
      "appended val table\n"
     ]
    },
    {
     "name": "stderr",
     "output_type": "stream",
     "text": [
      "\u001b[34m\u001b[1mwandb\u001b[0m:   1 of 1 files downloaded.  \n"
     ]
    },
    {
     "name": "stdout",
     "output_type": "stream",
     "text": [
      "appended val table\n"
     ]
    },
    {
     "name": "stderr",
     "output_type": "stream",
     "text": [
      "\u001b[34m\u001b[1mwandb\u001b[0m:   1 of 1 files downloaded.  \n"
     ]
    },
    {
     "name": "stdout",
     "output_type": "stream",
     "text": [
      "appended val table\n"
     ]
    },
    {
     "name": "stderr",
     "output_type": "stream",
     "text": [
      "\u001b[34m\u001b[1mwandb\u001b[0m:   1 of 1 files downloaded.  \n"
     ]
    },
    {
     "name": "stdout",
     "output_type": "stream",
     "text": [
      "appended val table\n"
     ]
    },
    {
     "name": "stderr",
     "output_type": "stream",
     "text": [
      "\u001b[34m\u001b[1mwandb\u001b[0m:   1 of 1 files downloaded.  \n"
     ]
    },
    {
     "name": "stdout",
     "output_type": "stream",
     "text": [
      "appended val table\n"
     ]
    },
    {
     "name": "stderr",
     "output_type": "stream",
     "text": [
      "\u001b[34m\u001b[1mwandb\u001b[0m:   1 of 1 files downloaded.  \n"
     ]
    },
    {
     "name": "stdout",
     "output_type": "stream",
     "text": [
      "appended val table\n"
     ]
    },
    {
     "name": "stderr",
     "output_type": "stream",
     "text": [
      "\u001b[34m\u001b[1mwandb\u001b[0m:   1 of 1 files downloaded.  \n"
     ]
    },
    {
     "name": "stdout",
     "output_type": "stream",
     "text": [
      "appended val table\n"
     ]
    },
    {
     "name": "stderr",
     "output_type": "stream",
     "text": [
      "\u001b[34m\u001b[1mwandb\u001b[0m:   1 of 1 files downloaded.  \n"
     ]
    },
    {
     "name": "stdout",
     "output_type": "stream",
     "text": [
      "appended val table\n"
     ]
    },
    {
     "name": "stderr",
     "output_type": "stream",
     "text": [
      "\u001b[34m\u001b[1mwandb\u001b[0m:   1 of 1 files downloaded.  \n"
     ]
    },
    {
     "name": "stdout",
     "output_type": "stream",
     "text": [
      "appended val table\n"
     ]
    },
    {
     "name": "stderr",
     "output_type": "stream",
     "text": [
      "\u001b[34m\u001b[1mwandb\u001b[0m:   1 of 1 files downloaded.  \n"
     ]
    },
    {
     "name": "stdout",
     "output_type": "stream",
     "text": [
      "appended val table\n"
     ]
    },
    {
     "name": "stderr",
     "output_type": "stream",
     "text": [
      "\u001b[34m\u001b[1mwandb\u001b[0m:   1 of 1 files downloaded.  \n"
     ]
    },
    {
     "name": "stdout",
     "output_type": "stream",
     "text": [
      "appended val table\n"
     ]
    },
    {
     "name": "stderr",
     "output_type": "stream",
     "text": [
      "\u001b[34m\u001b[1mwandb\u001b[0m:   1 of 1 files downloaded.  \n"
     ]
    },
    {
     "name": "stdout",
     "output_type": "stream",
     "text": [
      "appended val table\n"
     ]
    },
    {
     "name": "stderr",
     "output_type": "stream",
     "text": [
      "\u001b[34m\u001b[1mwandb\u001b[0m:   1 of 1 files downloaded.  \n"
     ]
    },
    {
     "name": "stdout",
     "output_type": "stream",
     "text": [
      "appended val table\n"
     ]
    },
    {
     "name": "stderr",
     "output_type": "stream",
     "text": [
      "\u001b[34m\u001b[1mwandb\u001b[0m:   1 of 1 files downloaded.  \n"
     ]
    },
    {
     "name": "stdout",
     "output_type": "stream",
     "text": [
      "appended val table\n"
     ]
    },
    {
     "name": "stderr",
     "output_type": "stream",
     "text": [
      "\u001b[34m\u001b[1mwandb\u001b[0m:   1 of 1 files downloaded.  \n"
     ]
    },
    {
     "name": "stdout",
     "output_type": "stream",
     "text": [
      "appended val table\n"
     ]
    },
    {
     "name": "stderr",
     "output_type": "stream",
     "text": [
      "\u001b[34m\u001b[1mwandb\u001b[0m:   1 of 1 files downloaded.  \n"
     ]
    },
    {
     "name": "stdout",
     "output_type": "stream",
     "text": [
      "appended val table\n"
     ]
    },
    {
     "name": "stderr",
     "output_type": "stream",
     "text": [
      "\u001b[34m\u001b[1mwandb\u001b[0m:   1 of 1 files downloaded.  \n"
     ]
    },
    {
     "name": "stdout",
     "output_type": "stream",
     "text": [
      "appended val table\n"
     ]
    },
    {
     "name": "stderr",
     "output_type": "stream",
     "text": [
      "\u001b[34m\u001b[1mwandb\u001b[0m:   1 of 1 files downloaded.  \n"
     ]
    },
    {
     "name": "stdout",
     "output_type": "stream",
     "text": [
      "appended val table\n"
     ]
    },
    {
     "name": "stderr",
     "output_type": "stream",
     "text": [
      "\u001b[34m\u001b[1mwandb\u001b[0m:   1 of 1 files downloaded.  \n"
     ]
    },
    {
     "name": "stdout",
     "output_type": "stream",
     "text": [
      "appended val table\n"
     ]
    },
    {
     "name": "stderr",
     "output_type": "stream",
     "text": [
      "\u001b[34m\u001b[1mwandb\u001b[0m:   1 of 1 files downloaded.  \n"
     ]
    },
    {
     "name": "stdout",
     "output_type": "stream",
     "text": [
      "appended val table\n"
     ]
    },
    {
     "name": "stderr",
     "output_type": "stream",
     "text": [
      "\u001b[34m\u001b[1mwandb\u001b[0m:   1 of 1 files downloaded.  \n"
     ]
    },
    {
     "name": "stdout",
     "output_type": "stream",
     "text": [
      "appended val table\n"
     ]
    },
    {
     "name": "stderr",
     "output_type": "stream",
     "text": [
      "\u001b[34m\u001b[1mwandb\u001b[0m:   1 of 1 files downloaded.  \n"
     ]
    },
    {
     "name": "stdout",
     "output_type": "stream",
     "text": [
      "appended val table\n"
     ]
    },
    {
     "name": "stderr",
     "output_type": "stream",
     "text": [
      "\u001b[34m\u001b[1mwandb\u001b[0m:   1 of 1 files downloaded.  \n"
     ]
    },
    {
     "name": "stdout",
     "output_type": "stream",
     "text": [
      "appended val table\n"
     ]
    },
    {
     "name": "stderr",
     "output_type": "stream",
     "text": [
      "\u001b[34m\u001b[1mwandb\u001b[0m:   1 of 1 files downloaded.  \n"
     ]
    },
    {
     "name": "stdout",
     "output_type": "stream",
     "text": [
      "appended val table\n"
     ]
    },
    {
     "name": "stderr",
     "output_type": "stream",
     "text": [
      "\u001b[34m\u001b[1mwandb\u001b[0m:   1 of 1 files downloaded.  \n"
     ]
    },
    {
     "name": "stdout",
     "output_type": "stream",
     "text": [
      "appended val table\n"
     ]
    },
    {
     "name": "stderr",
     "output_type": "stream",
     "text": [
      "\u001b[34m\u001b[1mwandb\u001b[0m:   1 of 1 files downloaded.  \n"
     ]
    },
    {
     "name": "stdout",
     "output_type": "stream",
     "text": [
      "appended val table\n"
     ]
    },
    {
     "name": "stderr",
     "output_type": "stream",
     "text": [
      "\u001b[34m\u001b[1mwandb\u001b[0m:   1 of 1 files downloaded.  \n"
     ]
    },
    {
     "name": "stdout",
     "output_type": "stream",
     "text": [
      "appended val table\n"
     ]
    },
    {
     "name": "stderr",
     "output_type": "stream",
     "text": [
      "\u001b[34m\u001b[1mwandb\u001b[0m:   1 of 1 files downloaded.  \n"
     ]
    },
    {
     "name": "stdout",
     "output_type": "stream",
     "text": [
      "appended val table\n"
     ]
    },
    {
     "name": "stderr",
     "output_type": "stream",
     "text": [
      "\u001b[34m\u001b[1mwandb\u001b[0m:   1 of 1 files downloaded.  \n"
     ]
    },
    {
     "name": "stdout",
     "output_type": "stream",
     "text": [
      "appended val table\n"
     ]
    },
    {
     "name": "stderr",
     "output_type": "stream",
     "text": [
      "\u001b[34m\u001b[1mwandb\u001b[0m:   1 of 1 files downloaded.  \n"
     ]
    },
    {
     "name": "stdout",
     "output_type": "stream",
     "text": [
      "appended val table\n"
     ]
    },
    {
     "name": "stderr",
     "output_type": "stream",
     "text": [
      "\u001b[34m\u001b[1mwandb\u001b[0m:   1 of 1 files downloaded.  \n"
     ]
    },
    {
     "name": "stdout",
     "output_type": "stream",
     "text": [
      "appended val table\n"
     ]
    },
    {
     "name": "stderr",
     "output_type": "stream",
     "text": [
      "\u001b[34m\u001b[1mwandb\u001b[0m:   1 of 1 files downloaded.  \n"
     ]
    },
    {
     "name": "stdout",
     "output_type": "stream",
     "text": [
      "appended val table\n"
     ]
    },
    {
     "name": "stderr",
     "output_type": "stream",
     "text": [
      "\u001b[34m\u001b[1mwandb\u001b[0m:   1 of 1 files downloaded.  \n"
     ]
    },
    {
     "name": "stdout",
     "output_type": "stream",
     "text": [
      "appended val table\n"
     ]
    },
    {
     "name": "stderr",
     "output_type": "stream",
     "text": [
      "\u001b[34m\u001b[1mwandb\u001b[0m:   1 of 1 files downloaded.  \n"
     ]
    },
    {
     "name": "stdout",
     "output_type": "stream",
     "text": [
      "appended val table\n"
     ]
    },
    {
     "name": "stderr",
     "output_type": "stream",
     "text": [
      "\u001b[34m\u001b[1mwandb\u001b[0m:   1 of 1 files downloaded.  \n"
     ]
    },
    {
     "name": "stdout",
     "output_type": "stream",
     "text": [
      "appended val table\n"
     ]
    },
    {
     "name": "stderr",
     "output_type": "stream",
     "text": [
      "\u001b[34m\u001b[1mwandb\u001b[0m:   1 of 1 files downloaded.  \n"
     ]
    },
    {
     "name": "stdout",
     "output_type": "stream",
     "text": [
      "appended val table\n"
     ]
    },
    {
     "name": "stderr",
     "output_type": "stream",
     "text": [
      "\u001b[34m\u001b[1mwandb\u001b[0m:   1 of 1 files downloaded.  \n"
     ]
    },
    {
     "name": "stdout",
     "output_type": "stream",
     "text": [
      "appended val table\n"
     ]
    },
    {
     "name": "stderr",
     "output_type": "stream",
     "text": [
      "\u001b[34m\u001b[1mwandb\u001b[0m:   1 of 1 files downloaded.  \n"
     ]
    },
    {
     "name": "stdout",
     "output_type": "stream",
     "text": [
      "appended val table\n"
     ]
    },
    {
     "name": "stderr",
     "output_type": "stream",
     "text": [
      "\u001b[34m\u001b[1mwandb\u001b[0m:   1 of 1 files downloaded.  \n"
     ]
    },
    {
     "name": "stdout",
     "output_type": "stream",
     "text": [
      "appended val table\n"
     ]
    },
    {
     "name": "stderr",
     "output_type": "stream",
     "text": [
      "\u001b[34m\u001b[1mwandb\u001b[0m:   1 of 1 files downloaded.  \n"
     ]
    },
    {
     "name": "stdout",
     "output_type": "stream",
     "text": [
      "appended val table\n"
     ]
    },
    {
     "name": "stderr",
     "output_type": "stream",
     "text": [
      "\u001b[34m\u001b[1mwandb\u001b[0m:   1 of 1 files downloaded.  \n"
     ]
    },
    {
     "name": "stdout",
     "output_type": "stream",
     "text": [
      "appended val table\n"
     ]
    },
    {
     "name": "stderr",
     "output_type": "stream",
     "text": [
      "\u001b[34m\u001b[1mwandb\u001b[0m:   1 of 1 files downloaded.  \n"
     ]
    },
    {
     "name": "stdout",
     "output_type": "stream",
     "text": [
      "appended val table\n"
     ]
    },
    {
     "name": "stderr",
     "output_type": "stream",
     "text": [
      "\u001b[34m\u001b[1mwandb\u001b[0m:   1 of 1 files downloaded.  \n"
     ]
    },
    {
     "name": "stdout",
     "output_type": "stream",
     "text": [
      "appended val table\n"
     ]
    },
    {
     "name": "stderr",
     "output_type": "stream",
     "text": [
      "\u001b[34m\u001b[1mwandb\u001b[0m:   1 of 1 files downloaded.  \n"
     ]
    },
    {
     "name": "stdout",
     "output_type": "stream",
     "text": [
      "appended val table\n"
     ]
    },
    {
     "name": "stderr",
     "output_type": "stream",
     "text": [
      "\u001b[34m\u001b[1mwandb\u001b[0m:   1 of 1 files downloaded.  \n"
     ]
    },
    {
     "name": "stdout",
     "output_type": "stream",
     "text": [
      "appended val table\n"
     ]
    },
    {
     "name": "stderr",
     "output_type": "stream",
     "text": [
      "\u001b[34m\u001b[1mwandb\u001b[0m:   1 of 1 files downloaded.  \n"
     ]
    },
    {
     "name": "stdout",
     "output_type": "stream",
     "text": [
      "appended val table\n"
     ]
    },
    {
     "name": "stderr",
     "output_type": "stream",
     "text": [
      "\u001b[34m\u001b[1mwandb\u001b[0m:   1 of 1 files downloaded.  \n"
     ]
    },
    {
     "name": "stdout",
     "output_type": "stream",
     "text": [
      "appended val table\n"
     ]
    },
    {
     "name": "stderr",
     "output_type": "stream",
     "text": [
      "\u001b[34m\u001b[1mwandb\u001b[0m:   1 of 1 files downloaded.  \n"
     ]
    },
    {
     "name": "stdout",
     "output_type": "stream",
     "text": [
      "appended val table\n"
     ]
    },
    {
     "name": "stderr",
     "output_type": "stream",
     "text": [
      "\u001b[34m\u001b[1mwandb\u001b[0m:   1 of 1 files downloaded.  \n"
     ]
    },
    {
     "name": "stdout",
     "output_type": "stream",
     "text": [
      "appended val table\n"
     ]
    },
    {
     "name": "stderr",
     "output_type": "stream",
     "text": [
      "\u001b[34m\u001b[1mwandb\u001b[0m:   1 of 1 files downloaded.  \n"
     ]
    },
    {
     "name": "stdout",
     "output_type": "stream",
     "text": [
      "appended val table\n"
     ]
    },
    {
     "name": "stderr",
     "output_type": "stream",
     "text": [
      "\u001b[34m\u001b[1mwandb\u001b[0m:   1 of 1 files downloaded.  \n"
     ]
    },
    {
     "name": "stdout",
     "output_type": "stream",
     "text": [
      "appended val table\n"
     ]
    },
    {
     "name": "stderr",
     "output_type": "stream",
     "text": [
      "\u001b[34m\u001b[1mwandb\u001b[0m:   1 of 1 files downloaded.  \n"
     ]
    },
    {
     "name": "stdout",
     "output_type": "stream",
     "text": [
      "appended val table\n"
     ]
    },
    {
     "name": "stderr",
     "output_type": "stream",
     "text": [
      "\u001b[34m\u001b[1mwandb\u001b[0m:   1 of 1 files downloaded.  \n"
     ]
    },
    {
     "name": "stdout",
     "output_type": "stream",
     "text": [
      "appended val table\n"
     ]
    },
    {
     "name": "stderr",
     "output_type": "stream",
     "text": [
      "\u001b[34m\u001b[1mwandb\u001b[0m:   1 of 1 files downloaded.  \n"
     ]
    },
    {
     "name": "stdout",
     "output_type": "stream",
     "text": [
      "appended val table\n"
     ]
    },
    {
     "name": "stderr",
     "output_type": "stream",
     "text": [
      "\u001b[34m\u001b[1mwandb\u001b[0m:   1 of 1 files downloaded.  \n"
     ]
    },
    {
     "name": "stdout",
     "output_type": "stream",
     "text": [
      "appended val table\n"
     ]
    },
    {
     "name": "stderr",
     "output_type": "stream",
     "text": [
      "\u001b[34m\u001b[1mwandb\u001b[0m:   1 of 1 files downloaded.  \n"
     ]
    },
    {
     "name": "stdout",
     "output_type": "stream",
     "text": [
      "appended val table\n"
     ]
    },
    {
     "name": "stderr",
     "output_type": "stream",
     "text": [
      "\u001b[34m\u001b[1mwandb\u001b[0m:   1 of 1 files downloaded.  \n"
     ]
    },
    {
     "name": "stdout",
     "output_type": "stream",
     "text": [
      "appended val table\n"
     ]
    },
    {
     "name": "stderr",
     "output_type": "stream",
     "text": [
      "\u001b[34m\u001b[1mwandb\u001b[0m:   1 of 1 files downloaded.  \n"
     ]
    },
    {
     "name": "stdout",
     "output_type": "stream",
     "text": [
      "appended val table\n"
     ]
    },
    {
     "name": "stderr",
     "output_type": "stream",
     "text": [
      "\u001b[34m\u001b[1mwandb\u001b[0m:   1 of 1 files downloaded.  \n"
     ]
    },
    {
     "name": "stdout",
     "output_type": "stream",
     "text": [
      "appended val table\n"
     ]
    },
    {
     "name": "stderr",
     "output_type": "stream",
     "text": [
      "\u001b[34m\u001b[1mwandb\u001b[0m:   1 of 1 files downloaded.  \n"
     ]
    },
    {
     "name": "stdout",
     "output_type": "stream",
     "text": [
      "appended val table\n"
     ]
    },
    {
     "name": "stderr",
     "output_type": "stream",
     "text": [
      "\u001b[34m\u001b[1mwandb\u001b[0m:   1 of 1 files downloaded.  \n"
     ]
    },
    {
     "name": "stdout",
     "output_type": "stream",
     "text": [
      "appended val table\n"
     ]
    },
    {
     "name": "stderr",
     "output_type": "stream",
     "text": [
      "\u001b[34m\u001b[1mwandb\u001b[0m:   1 of 1 files downloaded.  \n"
     ]
    },
    {
     "name": "stdout",
     "output_type": "stream",
     "text": [
      "appended val table\n"
     ]
    },
    {
     "name": "stderr",
     "output_type": "stream",
     "text": [
      "\u001b[34m\u001b[1mwandb\u001b[0m:   1 of 1 files downloaded.  \n"
     ]
    },
    {
     "name": "stdout",
     "output_type": "stream",
     "text": [
      "appended val table\n"
     ]
    },
    {
     "name": "stderr",
     "output_type": "stream",
     "text": [
      "\u001b[34m\u001b[1mwandb\u001b[0m:   1 of 1 files downloaded.  \n"
     ]
    },
    {
     "name": "stdout",
     "output_type": "stream",
     "text": [
      "appended val table\n"
     ]
    },
    {
     "name": "stderr",
     "output_type": "stream",
     "text": [
      "\u001b[34m\u001b[1mwandb\u001b[0m:   1 of 1 files downloaded.  \n"
     ]
    },
    {
     "name": "stdout",
     "output_type": "stream",
     "text": [
      "appended val table\n"
     ]
    },
    {
     "name": "stderr",
     "output_type": "stream",
     "text": [
      "\u001b[34m\u001b[1mwandb\u001b[0m:   1 of 1 files downloaded.  \n"
     ]
    },
    {
     "name": "stdout",
     "output_type": "stream",
     "text": [
      "appended val table\n"
     ]
    },
    {
     "name": "stderr",
     "output_type": "stream",
     "text": [
      "\u001b[34m\u001b[1mwandb\u001b[0m:   1 of 1 files downloaded.  \n"
     ]
    },
    {
     "name": "stdout",
     "output_type": "stream",
     "text": [
      "appended val table\n"
     ]
    },
    {
     "name": "stderr",
     "output_type": "stream",
     "text": [
      "\u001b[34m\u001b[1mwandb\u001b[0m:   1 of 1 files downloaded.  \n"
     ]
    },
    {
     "name": "stdout",
     "output_type": "stream",
     "text": [
      "appended val table\n"
     ]
    },
    {
     "name": "stderr",
     "output_type": "stream",
     "text": [
      "\u001b[34m\u001b[1mwandb\u001b[0m:   1 of 1 files downloaded.  \n"
     ]
    },
    {
     "name": "stdout",
     "output_type": "stream",
     "text": [
      "appended val table\n"
     ]
    },
    {
     "name": "stderr",
     "output_type": "stream",
     "text": [
      "\u001b[34m\u001b[1mwandb\u001b[0m:   1 of 1 files downloaded.  \n"
     ]
    },
    {
     "name": "stdout",
     "output_type": "stream",
     "text": [
      "appended val table\n"
     ]
    },
    {
     "name": "stderr",
     "output_type": "stream",
     "text": [
      "\u001b[34m\u001b[1mwandb\u001b[0m:   1 of 1 files downloaded.  \n"
     ]
    },
    {
     "name": "stdout",
     "output_type": "stream",
     "text": [
      "appended val table\n"
     ]
    }
   ],
   "source": [
    "\n",
    "path = 'ai4arctic/feature_selection_enviroment_rerun'\n",
    "group = 'HH_HV_only'\n",
    "\n",
    "HH_HV_mean_dic, HH_HV_relative_mean_dic = performace_per_month(path,group)\n",
    "\n",
    "\n",
    "path = 'ai4arctic/feature_selection_rerun_inference'\n",
    "group = 'HH_HV_AMSR2_All'\n",
    "\n",
    "HH_HV_AMSR2_mean_dic, HH_HV_AMSR2_relative_mean_dic = performace_per_month(path,group)"
   ]
  },
  {
   "cell_type": "code",
   "execution_count": 4,
   "metadata": {},
   "outputs": [
    {
     "data": {
      "text/html": [
       "<div>\n",
       "<style scoped>\n",
       "    .dataframe tbody tr th:only-of-type {\n",
       "        vertical-align: middle;\n",
       "    }\n",
       "\n",
       "    .dataframe tbody tr th {\n",
       "        vertical-align: top;\n",
       "    }\n",
       "\n",
       "    .dataframe thead th {\n",
       "        text-align: right;\n",
       "    }\n",
       "</style>\n",
       "<table border=\"1\" class=\"dataframe\">\n",
       "  <thead>\n",
       "    <tr style=\"text-align: right;\">\n",
       "      <th></th>\n",
       "      <th>months</th>\n",
       "      <th>Combine Score Avg</th>\n",
       "      <th>Combine Score Std</th>\n",
       "      <th>SIC Avg</th>\n",
       "      <th>SIC Std</th>\n",
       "      <th>SOD Avg</th>\n",
       "      <th>SOD Std</th>\n",
       "      <th>FLOE Avg</th>\n",
       "      <th>FLOE Std</th>\n",
       "      <th>sample _number</th>\n",
       "    </tr>\n",
       "  </thead>\n",
       "  <tbody>\n",
       "    <tr>\n",
       "      <th>0</th>\n",
       "      <td>1</td>\n",
       "      <td>77.106860</td>\n",
       "      <td>16.642786</td>\n",
       "      <td>91.125078</td>\n",
       "      <td>8.490607</td>\n",
       "      <td>67.146813</td>\n",
       "      <td>28.151841</td>\n",
       "      <td>68.990985</td>\n",
       "      <td>28.744147</td>\n",
       "      <td>64</td>\n",
       "    </tr>\n",
       "    <tr>\n",
       "      <th>1</th>\n",
       "      <td>2</td>\n",
       "      <td>87.362734</td>\n",
       "      <td>13.930007</td>\n",
       "      <td>97.010776</td>\n",
       "      <td>2.602643</td>\n",
       "      <td>79.588388</td>\n",
       "      <td>24.829383</td>\n",
       "      <td>83.615286</td>\n",
       "      <td>21.056646</td>\n",
       "      <td>49</td>\n",
       "    </tr>\n",
       "    <tr>\n",
       "      <th>2</th>\n",
       "      <td>3</td>\n",
       "      <td>86.295239</td>\n",
       "      <td>12.075546</td>\n",
       "      <td>95.034000</td>\n",
       "      <td>4.271380</td>\n",
       "      <td>77.088848</td>\n",
       "      <td>27.237464</td>\n",
       "      <td>87.230131</td>\n",
       "      <td>11.380937</td>\n",
       "      <td>46</td>\n",
       "    </tr>\n",
       "    <tr>\n",
       "      <th>3</th>\n",
       "      <td>4</td>\n",
       "      <td>87.622311</td>\n",
       "      <td>8.600215</td>\n",
       "      <td>89.779262</td>\n",
       "      <td>8.944164</td>\n",
       "      <td>87.580705</td>\n",
       "      <td>11.411064</td>\n",
       "      <td>83.391672</td>\n",
       "      <td>12.777634</td>\n",
       "      <td>61</td>\n",
       "    </tr>\n",
       "    <tr>\n",
       "      <th>4</th>\n",
       "      <td>5</td>\n",
       "      <td>86.773521</td>\n",
       "      <td>11.877696</td>\n",
       "      <td>90.542890</td>\n",
       "      <td>7.554138</td>\n",
       "      <td>85.502261</td>\n",
       "      <td>16.639593</td>\n",
       "      <td>81.777301</td>\n",
       "      <td>22.081163</td>\n",
       "      <td>73</td>\n",
       "    </tr>\n",
       "    <tr>\n",
       "      <th>5</th>\n",
       "      <td>6</td>\n",
       "      <td>86.509907</td>\n",
       "      <td>9.483437</td>\n",
       "      <td>88.182884</td>\n",
       "      <td>12.152354</td>\n",
       "      <td>87.180070</td>\n",
       "      <td>9.334730</td>\n",
       "      <td>81.823325</td>\n",
       "      <td>19.121936</td>\n",
       "      <td>43</td>\n",
       "    </tr>\n",
       "    <tr>\n",
       "      <th>6</th>\n",
       "      <td>7</td>\n",
       "      <td>82.078969</td>\n",
       "      <td>19.765074</td>\n",
       "      <td>84.394508</td>\n",
       "      <td>26.749611</td>\n",
       "      <td>83.401708</td>\n",
       "      <td>17.614115</td>\n",
       "      <td>74.802400</td>\n",
       "      <td>20.477775</td>\n",
       "      <td>65</td>\n",
       "    </tr>\n",
       "    <tr>\n",
       "      <th>7</th>\n",
       "      <td>8</td>\n",
       "      <td>87.397505</td>\n",
       "      <td>14.257882</td>\n",
       "      <td>90.435394</td>\n",
       "      <td>11.372527</td>\n",
       "      <td>86.220151</td>\n",
       "      <td>18.720941</td>\n",
       "      <td>83.676293</td>\n",
       "      <td>19.724826</td>\n",
       "      <td>99</td>\n",
       "    </tr>\n",
       "    <tr>\n",
       "      <th>8</th>\n",
       "      <td>9</td>\n",
       "      <td>92.459363</td>\n",
       "      <td>11.422818</td>\n",
       "      <td>94.598920</td>\n",
       "      <td>8.156861</td>\n",
       "      <td>91.995806</td>\n",
       "      <td>13.662884</td>\n",
       "      <td>89.107487</td>\n",
       "      <td>18.741730</td>\n",
       "      <td>113</td>\n",
       "    </tr>\n",
       "    <tr>\n",
       "      <th>9</th>\n",
       "      <td>10</td>\n",
       "      <td>90.269275</td>\n",
       "      <td>12.820471</td>\n",
       "      <td>91.758813</td>\n",
       "      <td>11.875330</td>\n",
       "      <td>88.442850</td>\n",
       "      <td>17.301641</td>\n",
       "      <td>90.943025</td>\n",
       "      <td>13.868728</td>\n",
       "      <td>80</td>\n",
       "    </tr>\n",
       "    <tr>\n",
       "      <th>10</th>\n",
       "      <td>11</td>\n",
       "      <td>87.696758</td>\n",
       "      <td>14.724675</td>\n",
       "      <td>92.040712</td>\n",
       "      <td>10.421953</td>\n",
       "      <td>85.540955</td>\n",
       "      <td>19.745591</td>\n",
       "      <td>83.320409</td>\n",
       "      <td>25.088448</td>\n",
       "      <td>66</td>\n",
       "    </tr>\n",
       "    <tr>\n",
       "      <th>11</th>\n",
       "      <td>12</td>\n",
       "      <td>80.859082</td>\n",
       "      <td>15.105000</td>\n",
       "      <td>93.846311</td>\n",
       "      <td>6.626482</td>\n",
       "      <td>69.147377</td>\n",
       "      <td>29.149413</td>\n",
       "      <td>78.307819</td>\n",
       "      <td>23.166752</td>\n",
       "      <td>61</td>\n",
       "    </tr>\n",
       "  </tbody>\n",
       "</table>\n",
       "</div>"
      ],
      "text/plain": [
       "    months  Combine Score Avg  Combine Score Std    SIC Avg    SIC Std  \\\n",
       "0        1          77.106860          16.642786  91.125078   8.490607   \n",
       "1        2          87.362734          13.930007  97.010776   2.602643   \n",
       "2        3          86.295239          12.075546  95.034000   4.271380   \n",
       "3        4          87.622311           8.600215  89.779262   8.944164   \n",
       "4        5          86.773521          11.877696  90.542890   7.554138   \n",
       "5        6          86.509907           9.483437  88.182884  12.152354   \n",
       "6        7          82.078969          19.765074  84.394508  26.749611   \n",
       "7        8          87.397505          14.257882  90.435394  11.372527   \n",
       "8        9          92.459363          11.422818  94.598920   8.156861   \n",
       "9       10          90.269275          12.820471  91.758813  11.875330   \n",
       "10      11          87.696758          14.724675  92.040712  10.421953   \n",
       "11      12          80.859082          15.105000  93.846311   6.626482   \n",
       "\n",
       "      SOD Avg    SOD Std   FLOE Avg   FLOE Std  sample _number  \n",
       "0   67.146813  28.151841  68.990985  28.744147              64  \n",
       "1   79.588388  24.829383  83.615286  21.056646              49  \n",
       "2   77.088848  27.237464  87.230131  11.380937              46  \n",
       "3   87.580705  11.411064  83.391672  12.777634              61  \n",
       "4   85.502261  16.639593  81.777301  22.081163              73  \n",
       "5   87.180070   9.334730  81.823325  19.121936              43  \n",
       "6   83.401708  17.614115  74.802400  20.477775              65  \n",
       "7   86.220151  18.720941  83.676293  19.724826              99  \n",
       "8   91.995806  13.662884  89.107487  18.741730             113  \n",
       "9   88.442850  17.301641  90.943025  13.868728              80  \n",
       "10  85.540955  19.745591  83.320409  25.088448              66  \n",
       "11  69.147377  29.149413  78.307819  23.166752              61  "
      ]
     },
     "metadata": {},
     "output_type": "display_data"
    },
    {
     "data": {
      "text/html": [
       "<div>\n",
       "<style scoped>\n",
       "    .dataframe tbody tr th:only-of-type {\n",
       "        vertical-align: middle;\n",
       "    }\n",
       "\n",
       "    .dataframe tbody tr th {\n",
       "        vertical-align: top;\n",
       "    }\n",
       "\n",
       "    .dataframe thead th {\n",
       "        text-align: right;\n",
       "    }\n",
       "</style>\n",
       "<table border=\"1\" class=\"dataframe\">\n",
       "  <thead>\n",
       "    <tr style=\"text-align: right;\">\n",
       "      <th></th>\n",
       "      <th>months</th>\n",
       "      <th>Combine Score Avg</th>\n",
       "      <th>Combine Score Std</th>\n",
       "      <th>SIC Avg</th>\n",
       "      <th>SIC Std</th>\n",
       "      <th>SOD Avg</th>\n",
       "      <th>SOD Std</th>\n",
       "      <th>FLOE Avg</th>\n",
       "      <th>FLOE Std</th>\n",
       "      <th>sample _number</th>\n",
       "    </tr>\n",
       "  </thead>\n",
       "  <tbody>\n",
       "    <tr>\n",
       "      <th>0</th>\n",
       "      <td>1</td>\n",
       "      <td>85.415510</td>\n",
       "      <td>9.839127</td>\n",
       "      <td>93.000470</td>\n",
       "      <td>4.862842</td>\n",
       "      <td>80.839367</td>\n",
       "      <td>14.808838</td>\n",
       "      <td>79.397816</td>\n",
       "      <td>23.062815</td>\n",
       "      <td>49</td>\n",
       "    </tr>\n",
       "    <tr>\n",
       "      <th>1</th>\n",
       "      <td>2</td>\n",
       "      <td>89.522139</td>\n",
       "      <td>12.107579</td>\n",
       "      <td>96.642069</td>\n",
       "      <td>3.233179</td>\n",
       "      <td>83.953582</td>\n",
       "      <td>22.042248</td>\n",
       "      <td>86.419395</td>\n",
       "      <td>16.528631</td>\n",
       "      <td>43</td>\n",
       "    </tr>\n",
       "    <tr>\n",
       "      <th>2</th>\n",
       "      <td>3</td>\n",
       "      <td>89.124021</td>\n",
       "      <td>6.996691</td>\n",
       "      <td>94.759957</td>\n",
       "      <td>3.662401</td>\n",
       "      <td>84.044808</td>\n",
       "      <td>13.248435</td>\n",
       "      <td>88.010788</td>\n",
       "      <td>9.196838</td>\n",
       "      <td>47</td>\n",
       "    </tr>\n",
       "    <tr>\n",
       "      <th>3</th>\n",
       "      <td>4</td>\n",
       "      <td>88.629772</td>\n",
       "      <td>7.167475</td>\n",
       "      <td>93.724908</td>\n",
       "      <td>5.763670</td>\n",
       "      <td>86.399659</td>\n",
       "      <td>10.448177</td>\n",
       "      <td>82.900091</td>\n",
       "      <td>12.044060</td>\n",
       "      <td>44</td>\n",
       "    </tr>\n",
       "    <tr>\n",
       "      <th>4</th>\n",
       "      <td>5</td>\n",
       "      <td>88.579133</td>\n",
       "      <td>8.923303</td>\n",
       "      <td>92.564117</td>\n",
       "      <td>6.423353</td>\n",
       "      <td>90.264417</td>\n",
       "      <td>16.021493</td>\n",
       "      <td>77.238600</td>\n",
       "      <td>21.481409</td>\n",
       "      <td>60</td>\n",
       "    </tr>\n",
       "    <tr>\n",
       "      <th>5</th>\n",
       "      <td>6</td>\n",
       "      <td>90.137631</td>\n",
       "      <td>6.550223</td>\n",
       "      <td>91.073316</td>\n",
       "      <td>5.741467</td>\n",
       "      <td>94.182860</td>\n",
       "      <td>6.093328</td>\n",
       "      <td>80.175807</td>\n",
       "      <td>17.711426</td>\n",
       "      <td>57</td>\n",
       "    </tr>\n",
       "    <tr>\n",
       "      <th>6</th>\n",
       "      <td>7</td>\n",
       "      <td>87.779540</td>\n",
       "      <td>16.970403</td>\n",
       "      <td>89.175635</td>\n",
       "      <td>26.637631</td>\n",
       "      <td>89.426270</td>\n",
       "      <td>14.938795</td>\n",
       "      <td>81.693841</td>\n",
       "      <td>20.289071</td>\n",
       "      <td>63</td>\n",
       "    </tr>\n",
       "    <tr>\n",
       "      <th>7</th>\n",
       "      <td>8</td>\n",
       "      <td>90.251460</td>\n",
       "      <td>10.715196</td>\n",
       "      <td>93.076870</td>\n",
       "      <td>8.330483</td>\n",
       "      <td>89.266710</td>\n",
       "      <td>14.623946</td>\n",
       "      <td>86.569980</td>\n",
       "      <td>15.399838</td>\n",
       "      <td>100</td>\n",
       "    </tr>\n",
       "    <tr>\n",
       "      <th>8</th>\n",
       "      <td>9</td>\n",
       "      <td>93.638157</td>\n",
       "      <td>8.635625</td>\n",
       "      <td>94.947405</td>\n",
       "      <td>10.100214</td>\n",
       "      <td>93.736446</td>\n",
       "      <td>8.750827</td>\n",
       "      <td>90.823107</td>\n",
       "      <td>16.202899</td>\n",
       "      <td>121</td>\n",
       "    </tr>\n",
       "    <tr>\n",
       "      <th>9</th>\n",
       "      <td>10</td>\n",
       "      <td>90.591427</td>\n",
       "      <td>11.549559</td>\n",
       "      <td>92.950610</td>\n",
       "      <td>8.348399</td>\n",
       "      <td>88.188671</td>\n",
       "      <td>17.475135</td>\n",
       "      <td>90.678305</td>\n",
       "      <td>11.982923</td>\n",
       "      <td>82</td>\n",
       "    </tr>\n",
       "    <tr>\n",
       "      <th>10</th>\n",
       "      <td>11</td>\n",
       "      <td>88.740526</td>\n",
       "      <td>13.991164</td>\n",
       "      <td>94.332667</td>\n",
       "      <td>8.988983</td>\n",
       "      <td>86.627983</td>\n",
       "      <td>18.953593</td>\n",
       "      <td>81.781210</td>\n",
       "      <td>25.182467</td>\n",
       "      <td>57</td>\n",
       "    </tr>\n",
       "    <tr>\n",
       "      <th>11</th>\n",
       "      <td>12</td>\n",
       "      <td>85.586865</td>\n",
       "      <td>11.521533</td>\n",
       "      <td>95.282519</td>\n",
       "      <td>4.323153</td>\n",
       "      <td>77.271596</td>\n",
       "      <td>21.549965</td>\n",
       "      <td>82.826039</td>\n",
       "      <td>20.119511</td>\n",
       "      <td>52</td>\n",
       "    </tr>\n",
       "  </tbody>\n",
       "</table>\n",
       "</div>"
      ],
      "text/plain": [
       "    months  Combine Score Avg  Combine Score Std    SIC Avg    SIC Std  \\\n",
       "0        1          85.415510           9.839127  93.000470   4.862842   \n",
       "1        2          89.522139          12.107579  96.642069   3.233179   \n",
       "2        3          89.124021           6.996691  94.759957   3.662401   \n",
       "3        4          88.629772           7.167475  93.724908   5.763670   \n",
       "4        5          88.579133           8.923303  92.564117   6.423353   \n",
       "5        6          90.137631           6.550223  91.073316   5.741467   \n",
       "6        7          87.779540          16.970403  89.175635  26.637631   \n",
       "7        8          90.251460          10.715196  93.076870   8.330483   \n",
       "8        9          93.638157           8.635625  94.947405  10.100214   \n",
       "9       10          90.591427          11.549559  92.950610   8.348399   \n",
       "10      11          88.740526          13.991164  94.332667   8.988983   \n",
       "11      12          85.586865          11.521533  95.282519   4.323153   \n",
       "\n",
       "      SOD Avg    SOD Std   FLOE Avg   FLOE Std  sample _number  \n",
       "0   80.839367  14.808838  79.397816  23.062815              49  \n",
       "1   83.953582  22.042248  86.419395  16.528631              43  \n",
       "2   84.044808  13.248435  88.010788   9.196838              47  \n",
       "3   86.399659  10.448177  82.900091  12.044060              44  \n",
       "4   90.264417  16.021493  77.238600  21.481409              60  \n",
       "5   94.182860   6.093328  80.175807  17.711426              57  \n",
       "6   89.426270  14.938795  81.693841  20.289071              63  \n",
       "7   89.266710  14.623946  86.569980  15.399838             100  \n",
       "8   93.736446   8.750827  90.823107  16.202899             121  \n",
       "9   88.188671  17.475135  90.678305  11.982923              82  \n",
       "10  86.627983  18.953593  81.781210  25.182467              57  \n",
       "11  77.271596  21.549965  82.826039  20.119511              52  "
      ]
     },
     "metadata": {},
     "output_type": "display_data"
    }
   ],
   "source": [
    "df_HH_HV = convert_to_df(HH_HV_mean_dic)\n",
    "display(df_HH_HV)\n",
    "\n",
    "\n",
    "df_HH_HV_AMSR2 = convert_to_df(HH_HV_AMSR2_mean_dic)\n",
    "display(df_HH_HV_AMSR2)"
   ]
  }
 ],
 "metadata": {
  "kernelspec": {
   "display_name": "AI4Artic_torch_2",
   "language": "python",
   "name": "python3"
  },
  "language_info": {
   "codemirror_mode": {
    "name": "ipython",
    "version": 3
   },
   "file_extension": ".py",
   "mimetype": "text/x-python",
   "name": "python",
   "nbconvert_exporter": "python",
   "pygments_lexer": "ipython3",
   "version": "3.10.11"
  },
  "orig_nbformat": 4
 },
 "nbformat": 4,
 "nbformat_minor": 2
}
